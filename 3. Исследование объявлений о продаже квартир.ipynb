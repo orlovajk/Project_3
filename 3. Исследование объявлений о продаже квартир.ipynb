{
 "cells": [
  {
   "cell_type": "markdown",
   "metadata": {},
   "source": [
    "# Исследование объявлений о продаже квартир\n",
    "\n",
    "В вашем распоряжении данные сервиса Яндекс.Недвижимость — архив объявлений о продаже квартир в Санкт-Петербурге и соседних населённых пунктов за несколько лет. Нужно научиться определять рыночную стоимость объектов недвижимости. Ваша задача — установить параметры. Это позволит построить автоматизированную систему: она отследит аномалии и мошенническую деятельность. \n",
    "\n",
    "По каждой квартире на продажу доступны два вида данных. Первые вписаны пользователем, вторые — получены автоматически на основе картографических данных. Например, расстояние до центра, аэропорта, ближайшего парка и водоёма. \n",
    "\n",
    "Цель исследования:\n",
    "\n",
    "* 1) Изучить параметры объектов недвижимости\n",
    "* 2) Изучить скорость продажи квартир по длительности опубликования объявлений на сайте\n",
    "* 3) Изучить влияние факторов (площадь, этаж, количество комнат и т.д.) на цену объектов недвижимости\n",
    "* 4) Рассмотреть распределение объектов недвижимости, входящих в топ 10 по количеству объявлений, от цены за кв. м\n",
    "* 5) Изучить как меняется цена 1 кв.м по отношению к расстоянию от центра города\n",
    "\n",
    "Ход исследования\n",
    "* Обзор данных.\n",
    "* Предобработка данных.\n",
    "* Проведение анализа"
   ]
  },
  {
   "cell_type": "markdown",
   "metadata": {},
   "source": [
    "### Откройте файл с данными и изучите общую информацию. "
   ]
  },
  {
   "cell_type": "markdown",
   "metadata": {},
   "source": [
    "**1.1. Загружаем данные из файла в датафрейм**"
   ]
  },
  {
   "cell_type": "code",
   "execution_count": 1,
   "metadata": {
    "scrolled": true
   },
   "outputs": [
    {
     "data": {
      "text/html": [
       "<div>\n",
       "<style scoped>\n",
       "    .dataframe tbody tr th:only-of-type {\n",
       "        vertical-align: middle;\n",
       "    }\n",
       "\n",
       "    .dataframe tbody tr th {\n",
       "        vertical-align: top;\n",
       "    }\n",
       "\n",
       "    .dataframe thead th {\n",
       "        text-align: right;\n",
       "    }\n",
       "</style>\n",
       "<table border=\"1\" class=\"dataframe\">\n",
       "  <thead>\n",
       "    <tr style=\"text-align: right;\">\n",
       "      <th></th>\n",
       "      <th>total_images</th>\n",
       "      <th>last_price</th>\n",
       "      <th>total_area</th>\n",
       "      <th>first_day_exposition</th>\n",
       "      <th>rooms</th>\n",
       "      <th>ceiling_height</th>\n",
       "      <th>floors_total</th>\n",
       "      <th>living_area</th>\n",
       "      <th>floor</th>\n",
       "      <th>is_apartment</th>\n",
       "      <th>...</th>\n",
       "      <th>kitchen_area</th>\n",
       "      <th>balcony</th>\n",
       "      <th>locality_name</th>\n",
       "      <th>airports_nearest</th>\n",
       "      <th>cityCenters_nearest</th>\n",
       "      <th>parks_around3000</th>\n",
       "      <th>parks_nearest</th>\n",
       "      <th>ponds_around3000</th>\n",
       "      <th>ponds_nearest</th>\n",
       "      <th>days_exposition</th>\n",
       "    </tr>\n",
       "  </thead>\n",
       "  <tbody>\n",
       "    <tr>\n",
       "      <th>0</th>\n",
       "      <td>20</td>\n",
       "      <td>13000000.0</td>\n",
       "      <td>108.00</td>\n",
       "      <td>2019-03-07T00:00:00</td>\n",
       "      <td>3</td>\n",
       "      <td>2.70</td>\n",
       "      <td>16.0</td>\n",
       "      <td>51.00</td>\n",
       "      <td>8</td>\n",
       "      <td>NaN</td>\n",
       "      <td>...</td>\n",
       "      <td>25.00</td>\n",
       "      <td>NaN</td>\n",
       "      <td>Санкт-Петербург</td>\n",
       "      <td>18863.0</td>\n",
       "      <td>16028.0</td>\n",
       "      <td>1.0</td>\n",
       "      <td>482.0</td>\n",
       "      <td>2.0</td>\n",
       "      <td>755.0</td>\n",
       "      <td>NaN</td>\n",
       "    </tr>\n",
       "    <tr>\n",
       "      <th>1</th>\n",
       "      <td>7</td>\n",
       "      <td>3350000.0</td>\n",
       "      <td>40.40</td>\n",
       "      <td>2018-12-04T00:00:00</td>\n",
       "      <td>1</td>\n",
       "      <td>NaN</td>\n",
       "      <td>11.0</td>\n",
       "      <td>18.60</td>\n",
       "      <td>1</td>\n",
       "      <td>NaN</td>\n",
       "      <td>...</td>\n",
       "      <td>11.00</td>\n",
       "      <td>2.0</td>\n",
       "      <td>посёлок Шушары</td>\n",
       "      <td>12817.0</td>\n",
       "      <td>18603.0</td>\n",
       "      <td>0.0</td>\n",
       "      <td>NaN</td>\n",
       "      <td>0.0</td>\n",
       "      <td>NaN</td>\n",
       "      <td>81.0</td>\n",
       "    </tr>\n",
       "    <tr>\n",
       "      <th>2</th>\n",
       "      <td>10</td>\n",
       "      <td>5196000.0</td>\n",
       "      <td>56.00</td>\n",
       "      <td>2015-08-20T00:00:00</td>\n",
       "      <td>2</td>\n",
       "      <td>NaN</td>\n",
       "      <td>5.0</td>\n",
       "      <td>34.30</td>\n",
       "      <td>4</td>\n",
       "      <td>NaN</td>\n",
       "      <td>...</td>\n",
       "      <td>8.30</td>\n",
       "      <td>0.0</td>\n",
       "      <td>Санкт-Петербург</td>\n",
       "      <td>21741.0</td>\n",
       "      <td>13933.0</td>\n",
       "      <td>1.0</td>\n",
       "      <td>90.0</td>\n",
       "      <td>2.0</td>\n",
       "      <td>574.0</td>\n",
       "      <td>558.0</td>\n",
       "    </tr>\n",
       "    <tr>\n",
       "      <th>3</th>\n",
       "      <td>0</td>\n",
       "      <td>64900000.0</td>\n",
       "      <td>159.00</td>\n",
       "      <td>2015-07-24T00:00:00</td>\n",
       "      <td>3</td>\n",
       "      <td>NaN</td>\n",
       "      <td>14.0</td>\n",
       "      <td>NaN</td>\n",
       "      <td>9</td>\n",
       "      <td>NaN</td>\n",
       "      <td>...</td>\n",
       "      <td>NaN</td>\n",
       "      <td>0.0</td>\n",
       "      <td>Санкт-Петербург</td>\n",
       "      <td>28098.0</td>\n",
       "      <td>6800.0</td>\n",
       "      <td>2.0</td>\n",
       "      <td>84.0</td>\n",
       "      <td>3.0</td>\n",
       "      <td>234.0</td>\n",
       "      <td>424.0</td>\n",
       "    </tr>\n",
       "    <tr>\n",
       "      <th>4</th>\n",
       "      <td>2</td>\n",
       "      <td>10000000.0</td>\n",
       "      <td>100.00</td>\n",
       "      <td>2018-06-19T00:00:00</td>\n",
       "      <td>2</td>\n",
       "      <td>3.03</td>\n",
       "      <td>14.0</td>\n",
       "      <td>32.00</td>\n",
       "      <td>13</td>\n",
       "      <td>NaN</td>\n",
       "      <td>...</td>\n",
       "      <td>41.00</td>\n",
       "      <td>NaN</td>\n",
       "      <td>Санкт-Петербург</td>\n",
       "      <td>31856.0</td>\n",
       "      <td>8098.0</td>\n",
       "      <td>2.0</td>\n",
       "      <td>112.0</td>\n",
       "      <td>1.0</td>\n",
       "      <td>48.0</td>\n",
       "      <td>121.0</td>\n",
       "    </tr>\n",
       "    <tr>\n",
       "      <th>5</th>\n",
       "      <td>10</td>\n",
       "      <td>2890000.0</td>\n",
       "      <td>30.40</td>\n",
       "      <td>2018-09-10T00:00:00</td>\n",
       "      <td>1</td>\n",
       "      <td>NaN</td>\n",
       "      <td>12.0</td>\n",
       "      <td>14.40</td>\n",
       "      <td>5</td>\n",
       "      <td>NaN</td>\n",
       "      <td>...</td>\n",
       "      <td>9.10</td>\n",
       "      <td>NaN</td>\n",
       "      <td>городской посёлок Янино-1</td>\n",
       "      <td>NaN</td>\n",
       "      <td>NaN</td>\n",
       "      <td>NaN</td>\n",
       "      <td>NaN</td>\n",
       "      <td>NaN</td>\n",
       "      <td>NaN</td>\n",
       "      <td>55.0</td>\n",
       "    </tr>\n",
       "    <tr>\n",
       "      <th>6</th>\n",
       "      <td>6</td>\n",
       "      <td>3700000.0</td>\n",
       "      <td>37.30</td>\n",
       "      <td>2017-11-02T00:00:00</td>\n",
       "      <td>1</td>\n",
       "      <td>NaN</td>\n",
       "      <td>26.0</td>\n",
       "      <td>10.60</td>\n",
       "      <td>6</td>\n",
       "      <td>NaN</td>\n",
       "      <td>...</td>\n",
       "      <td>14.40</td>\n",
       "      <td>1.0</td>\n",
       "      <td>посёлок Парголово</td>\n",
       "      <td>52996.0</td>\n",
       "      <td>19143.0</td>\n",
       "      <td>0.0</td>\n",
       "      <td>NaN</td>\n",
       "      <td>0.0</td>\n",
       "      <td>NaN</td>\n",
       "      <td>155.0</td>\n",
       "    </tr>\n",
       "    <tr>\n",
       "      <th>7</th>\n",
       "      <td>5</td>\n",
       "      <td>7915000.0</td>\n",
       "      <td>71.60</td>\n",
       "      <td>2019-04-18T00:00:00</td>\n",
       "      <td>2</td>\n",
       "      <td>NaN</td>\n",
       "      <td>24.0</td>\n",
       "      <td>NaN</td>\n",
       "      <td>22</td>\n",
       "      <td>NaN</td>\n",
       "      <td>...</td>\n",
       "      <td>18.90</td>\n",
       "      <td>2.0</td>\n",
       "      <td>Санкт-Петербург</td>\n",
       "      <td>23982.0</td>\n",
       "      <td>11634.0</td>\n",
       "      <td>0.0</td>\n",
       "      <td>NaN</td>\n",
       "      <td>0.0</td>\n",
       "      <td>NaN</td>\n",
       "      <td>NaN</td>\n",
       "    </tr>\n",
       "    <tr>\n",
       "      <th>8</th>\n",
       "      <td>20</td>\n",
       "      <td>2900000.0</td>\n",
       "      <td>33.16</td>\n",
       "      <td>2018-05-23T00:00:00</td>\n",
       "      <td>1</td>\n",
       "      <td>NaN</td>\n",
       "      <td>27.0</td>\n",
       "      <td>15.43</td>\n",
       "      <td>26</td>\n",
       "      <td>NaN</td>\n",
       "      <td>...</td>\n",
       "      <td>8.81</td>\n",
       "      <td>NaN</td>\n",
       "      <td>посёлок Мурино</td>\n",
       "      <td>NaN</td>\n",
       "      <td>NaN</td>\n",
       "      <td>NaN</td>\n",
       "      <td>NaN</td>\n",
       "      <td>NaN</td>\n",
       "      <td>NaN</td>\n",
       "      <td>189.0</td>\n",
       "    </tr>\n",
       "    <tr>\n",
       "      <th>9</th>\n",
       "      <td>18</td>\n",
       "      <td>5400000.0</td>\n",
       "      <td>61.00</td>\n",
       "      <td>2017-02-26T00:00:00</td>\n",
       "      <td>3</td>\n",
       "      <td>2.50</td>\n",
       "      <td>9.0</td>\n",
       "      <td>43.60</td>\n",
       "      <td>7</td>\n",
       "      <td>NaN</td>\n",
       "      <td>...</td>\n",
       "      <td>6.50</td>\n",
       "      <td>2.0</td>\n",
       "      <td>Санкт-Петербург</td>\n",
       "      <td>50898.0</td>\n",
       "      <td>15008.0</td>\n",
       "      <td>0.0</td>\n",
       "      <td>NaN</td>\n",
       "      <td>0.0</td>\n",
       "      <td>NaN</td>\n",
       "      <td>289.0</td>\n",
       "    </tr>\n",
       "  </tbody>\n",
       "</table>\n",
       "<p>10 rows × 22 columns</p>\n",
       "</div>"
      ],
      "text/plain": [
       "   total_images  last_price  total_area first_day_exposition  rooms  \\\n",
       "0            20  13000000.0      108.00  2019-03-07T00:00:00      3   \n",
       "1             7   3350000.0       40.40  2018-12-04T00:00:00      1   \n",
       "2            10   5196000.0       56.00  2015-08-20T00:00:00      2   \n",
       "3             0  64900000.0      159.00  2015-07-24T00:00:00      3   \n",
       "4             2  10000000.0      100.00  2018-06-19T00:00:00      2   \n",
       "5            10   2890000.0       30.40  2018-09-10T00:00:00      1   \n",
       "6             6   3700000.0       37.30  2017-11-02T00:00:00      1   \n",
       "7             5   7915000.0       71.60  2019-04-18T00:00:00      2   \n",
       "8            20   2900000.0       33.16  2018-05-23T00:00:00      1   \n",
       "9            18   5400000.0       61.00  2017-02-26T00:00:00      3   \n",
       "\n",
       "   ceiling_height  floors_total  living_area  floor is_apartment  ...  \\\n",
       "0            2.70          16.0        51.00      8          NaN  ...   \n",
       "1             NaN          11.0        18.60      1          NaN  ...   \n",
       "2             NaN           5.0        34.30      4          NaN  ...   \n",
       "3             NaN          14.0          NaN      9          NaN  ...   \n",
       "4            3.03          14.0        32.00     13          NaN  ...   \n",
       "5             NaN          12.0        14.40      5          NaN  ...   \n",
       "6             NaN          26.0        10.60      6          NaN  ...   \n",
       "7             NaN          24.0          NaN     22          NaN  ...   \n",
       "8             NaN          27.0        15.43     26          NaN  ...   \n",
       "9            2.50           9.0        43.60      7          NaN  ...   \n",
       "\n",
       "   kitchen_area  balcony              locality_name  airports_nearest  \\\n",
       "0         25.00      NaN            Санкт-Петербург           18863.0   \n",
       "1         11.00      2.0             посёлок Шушары           12817.0   \n",
       "2          8.30      0.0            Санкт-Петербург           21741.0   \n",
       "3           NaN      0.0            Санкт-Петербург           28098.0   \n",
       "4         41.00      NaN            Санкт-Петербург           31856.0   \n",
       "5          9.10      NaN  городской посёлок Янино-1               NaN   \n",
       "6         14.40      1.0          посёлок Парголово           52996.0   \n",
       "7         18.90      2.0            Санкт-Петербург           23982.0   \n",
       "8          8.81      NaN             посёлок Мурино               NaN   \n",
       "9          6.50      2.0            Санкт-Петербург           50898.0   \n",
       "\n",
       "  cityCenters_nearest  parks_around3000  parks_nearest  ponds_around3000  \\\n",
       "0             16028.0               1.0          482.0               2.0   \n",
       "1             18603.0               0.0            NaN               0.0   \n",
       "2             13933.0               1.0           90.0               2.0   \n",
       "3              6800.0               2.0           84.0               3.0   \n",
       "4              8098.0               2.0          112.0               1.0   \n",
       "5                 NaN               NaN            NaN               NaN   \n",
       "6             19143.0               0.0            NaN               0.0   \n",
       "7             11634.0               0.0            NaN               0.0   \n",
       "8                 NaN               NaN            NaN               NaN   \n",
       "9             15008.0               0.0            NaN               0.0   \n",
       "\n",
       "   ponds_nearest  days_exposition  \n",
       "0          755.0              NaN  \n",
       "1            NaN             81.0  \n",
       "2          574.0            558.0  \n",
       "3          234.0            424.0  \n",
       "4           48.0            121.0  \n",
       "5            NaN             55.0  \n",
       "6            NaN            155.0  \n",
       "7            NaN              NaN  \n",
       "8            NaN            189.0  \n",
       "9            NaN            289.0  \n",
       "\n",
       "[10 rows x 22 columns]"
      ]
     },
     "metadata": {},
     "output_type": "display_data"
    }
   ],
   "source": [
    "import pandas as pd # подключаем библиотеку\n",
    "import matplotlib.pyplot as plt # подключаем библиотеку matplotlib.pyplot\n",
    "data = pd.read_csv('/datasets/real_estate_data.csv', sep = '\\t') \n",
    "# записываем в новую переменную данные, разделяем друг от друга столбцы\n",
    "display(data.head(10)) # выводим первые 10 строк"
   ]
  },
  {
   "cell_type": "markdown",
   "metadata": {},
   "source": [
    "**1.2. Изучаем общую информацию о полученном датафрейме**"
   ]
  },
  {
   "cell_type": "code",
   "execution_count": 2,
   "metadata": {},
   "outputs": [
    {
     "name": "stdout",
     "output_type": "stream",
     "text": [
      "<class 'pandas.core.frame.DataFrame'>\n",
      "RangeIndex: 23699 entries, 0 to 23698\n",
      "Data columns (total 22 columns):\n",
      " #   Column                Non-Null Count  Dtype  \n",
      "---  ------                --------------  -----  \n",
      " 0   total_images          23699 non-null  int64  \n",
      " 1   last_price            23699 non-null  float64\n",
      " 2   total_area            23699 non-null  float64\n",
      " 3   first_day_exposition  23699 non-null  object \n",
      " 4   rooms                 23699 non-null  int64  \n",
      " 5   ceiling_height        14504 non-null  float64\n",
      " 6   floors_total          23613 non-null  float64\n",
      " 7   living_area           21796 non-null  float64\n",
      " 8   floor                 23699 non-null  int64  \n",
      " 9   is_apartment          2775 non-null   object \n",
      " 10  studio                23699 non-null  bool   \n",
      " 11  open_plan             23699 non-null  bool   \n",
      " 12  kitchen_area          21421 non-null  float64\n",
      " 13  balcony               12180 non-null  float64\n",
      " 14  locality_name         23650 non-null  object \n",
      " 15  airports_nearest      18157 non-null  float64\n",
      " 16  cityCenters_nearest   18180 non-null  float64\n",
      " 17  parks_around3000      18181 non-null  float64\n",
      " 18  parks_nearest         8079 non-null   float64\n",
      " 19  ponds_around3000      18181 non-null  float64\n",
      " 20  ponds_nearest         9110 non-null   float64\n",
      " 21  days_exposition       20518 non-null  float64\n",
      "dtypes: bool(2), float64(14), int64(3), object(3)\n",
      "memory usage: 3.7+ MB\n"
     ]
    }
   ],
   "source": [
    "data.info() # выводим общую информацию о данных"
   ]
  },
  {
   "cell_type": "markdown",
   "metadata": {},
   "source": [
    "**1.3. Строим общую гистограмму для всех числовых столбцов таблицы**"
   ]
  },
  {
   "cell_type": "code",
   "execution_count": 3,
   "metadata": {},
   "outputs": [
    {
     "data": {
      "image/png": "[encoded data removed]",
      "text/plain": [
       "<Figure size 1080x1440 with 20 Axes>"
      ]
     },
     "metadata": {
      "needs_background": "light"
     },
     "output_type": "display_data"
    }
   ],
   "source": [
    "data.hist(figsize=(15, 20)); # построим общую гистограмму для всех числовых столбцов таблицы"
   ]
  },
  {
   "cell_type": "markdown",
   "metadata": {},
   "source": [
    "**Выводы:**\n",
    "* 1) данные в столбцах:\n",
    "\n",
    "*  `'last_price'`, `'balcony'`, `'days_exposition'`, `'floors_total'`, `'parks_around3000'`, `' ponds_around3000'`, должны имень формат `'int'`, \n",
    "\n",
    "* `'is_apartment'` - `'bool'`,\n",
    "\n",
    "* `'first_day_exposition'` - `datetime`\n",
    "* 2) выводы по графикам\n",
    "* в среднем больше, чем 7500 объявлений содержат около 10 фотографий\n",
    "* на момент снятия объявления с публикации цена была почти у всех объявлений меньше 10000000\n",
    "* общая площадь квартиры больше чем у 13000 квартир меньше 100 кв.м\n",
    "* число комнат у 14000 квартир 2-3\n",
    "* больше чем 14000 квартир имеют высоту потолков от 2 до 3\n",
    "* больше чем в 9000 объявлении квартиры продаются в домах меньше 5 этажей\n",
    "* больше чем в 17500 объявлениях жилая площадь квартир от 25 до 50\n",
    "* более 12000 квартир продаются на этажах меньше 5\n",
    "* больше чем в 9000 объявлениях площадь кухни меньше 7\n",
    "* больше чем 4000 квартир имеют 1 балкон\n",
    "* около 5000 квартир удалены от аэропорта в среднем на 25000 м\n",
    "* около 12000 квартир удалены от центра города на расстояние более 6000 м\n",
    "* более 10000 квартир не имеют водоемов в радиусе 3 км\n",
    "* около 4000 квартир удалены от парка на расстояние менее 1000 м\n",
    "* более 9000 квартир не имеют водоемов в радиусе 3 км\n",
    "* около 1600 квартир удалены от водоема на расстояние 500 м\n",
    "* более 4000 объявлении были на размещении менее, чем 100 дней"
   ]
  },
  {
   "cell_type": "markdown",
   "metadata": {},
   "source": [
    "### Предобработка данных"
   ]
  },
  {
   "cell_type": "markdown",
   "metadata": {},
   "source": [
    "**2.1. Находим и изучаем пропущенные значения в столбцах** "
   ]
  },
  {
   "cell_type": "code",
   "execution_count": 4,
   "metadata": {
    "scrolled": true
   },
   "outputs": [
    {
     "data": {
      "text/plain": [
       "total_images                0\n",
       "last_price                  0\n",
       "total_area                  0\n",
       "first_day_exposition        0\n",
       "rooms                       0\n",
       "ceiling_height           9195\n",
       "floors_total               86\n",
       "living_area              1903\n",
       "floor                       0\n",
       "is_apartment            20924\n",
       "studio                      0\n",
       "open_plan                   0\n",
       "kitchen_area             2278\n",
       "balcony                 11519\n",
       "locality_name              49\n",
       "airports_nearest         5542\n",
       "cityCenters_nearest      5519\n",
       "parks_around3000         5518\n",
       "parks_nearest           15620\n",
       "ponds_around3000         5518\n",
       "ponds_nearest           14589\n",
       "days_exposition          3181\n",
       "dtype: int64"
      ]
     },
     "metadata": {},
     "output_type": "display_data"
    }
   ],
   "source": [
    "display(data.isna().sum()) # находим сумму значений NaN по каждому столбцу"
   ]
  },
  {
   "cell_type": "markdown",
   "metadata": {},
   "source": [
    "**Выводы:**\n",
    "\n",
    "* высоту потолков `['ceiling_height']` не указали в 9195 объявлениях (можно заполнить по медианному значению)\n",
    "\n",
    "* количество этажей в доме `['floors_total']` не указали 86 квартир (можно удалить, т.к. небольшое число содержит пропуски)\n",
    "\n",
    "* жилую площадь `['living_area']` квартиры не указали в 1903 квартирах (можно заполнить средним значением)\n",
    "\n",
    "* тип апартаменты `['is_apartment']` не указали в 20924 случаях (апартаменты появились не так давно, заменяем на False)\n",
    "\n",
    "* площадь кухни `['kitchen_area']` не указали в 2278 случаев (можно заполнить средним значением)\n",
    "\n",
    "* число балконов `['balcony']` не указали в 11519 случаях (скорее всего, балкона нет, и можно поставить 0)\n",
    "\n",
    "* название населенного пункта `['locality_name']` не указали в 49 случаях (можно удалить, т.к. небольшое число содержит пропуски)\n",
    "\n",
    "* расстояние до ближайшего аэропорта `['airports_nearest']` - 5542 пропуска (оставляем пропуски)\n",
    "\n",
    "* расстояние до центра города `['cityCenters_nearest']` - 5519 пропусков (оставляем пропуски)\n",
    "\n",
    "* количество парков в радиусе 3 километров `['parks_around3000']` - 5518 пропусков (скорее всего пропуски означают, что парков нет, заменим на 0)\n",
    "\n",
    "* расстояние до ближайшего парка `['parks_nearest']` - 15620 пропусков (оставляем пропуски)\n",
    "\n",
    "* количество водоемов в радиусе 3 километров `['ponds_around3000']` - 5518 пропусков (скорее всего пропуски означают, что водоемов нет, заменим на 0)\n",
    "\n",
    "* расстояние до ближайшего водоема `['parks_nearest']` - 14589 (оставляем пропуски)\n",
    "* количество дней размещенияя объявления `['days_exposition']` - 3181 (скорее всего пропуски означают, что объявление сразу было снято с публикации, заменим на ноль)"
   ]
  },
  {
   "cell_type": "code",
   "execution_count": 5,
   "metadata": {},
   "outputs": [
    {
     "name": "stdout",
     "output_type": "stream",
     "text": [
      "total_images                0\n",
      "last_price                  0\n",
      "total_area                  0\n",
      "first_day_exposition        0\n",
      "rooms                       0\n",
      "ceiling_height              0\n",
      "floors_total                0\n",
      "living_area                 0\n",
      "floor                       0\n",
      "is_apartment                0\n",
      "studio                      0\n",
      "open_plan                   0\n",
      "kitchen_area                0\n",
      "balcony                     0\n",
      "locality_name               0\n",
      "airports_nearest         5524\n",
      "cityCenters_nearest      5501\n",
      "parks_around3000            0\n",
      "parks_nearest           15535\n",
      "ponds_around3000            0\n",
      "ponds_nearest           14529\n",
      "days_exposition             0\n",
      "dtype: int64\n"
     ]
    }
   ],
   "source": [
    "#данные, где не указан этаж можно удалить, т.к. их немного\n",
    "data.dropna(subset=['floors_total'], inplace=True)\n",
    "#в столбце апартаменты все пропущенные значения заменим на False \n",
    "#возможно, апартаменты появились относительно недавно, поэтому так много пропусков\n",
    "data['is_apartment'] = data['is_apartment'].fillna(False)\n",
    "#заменим пропуски в balcony на 0 \n",
    "data['balcony'] = data['balcony'].fillna(0)\n",
    "#данные, где не указана локация можно удалить, т.к. их немного\n",
    "data.dropna(subset=['locality_name'], inplace=True)\n",
    "#заменим пропуски в parks_around3000\n",
    "data['parks_around3000'] = data['parks_around3000'].fillna(0)\n",
    "#заменим пропуски в ponds_around3000\n",
    "data['ponds_around3000'] = data['ponds_around3000'].fillna(0)\n",
    "#заменим пропуски в days_exposition\n",
    "data['days_exposition'] = data['days_exposition'].fillna(0)\n",
    "# Заменяем пустые значения жилой площади и площади кухни\n",
    "living_ratio = data['living_area'].mean() / data['total_area'].mean()\n",
    "kitchen_ratio = data['kitchen_area'].mean() / data['total_area'].mean()\n",
    "data['living_area'].fillna(living_ratio * data['total_area'], inplace=True)\n",
    "data['kitchen_area'].fillna(kitchen_ratio * data['total_area'], inplace=True)\n",
    "# Заменяем оставшиеся пустые значения высоты потолков на медианное значение по всему датасету\n",
    "import warnings\n",
    "with warnings.catch_warnings():\n",
    "    warnings.simplefilter(\"ignore\", category=RuntimeWarning)\n",
    "    data['ceiling_height'] = data.groupby(['locality_name', 'floors_total'])['ceiling_height'].apply(lambda x: x.fillna(x.median()))\n",
    "    data['ceiling_height'].fillna(data['ceiling_height'].median(), inplace=True)\n",
    "print(data.isna().sum()) # находим сумму значений NaN по каждому столбцу"
   ]
  },
  {
   "cell_type": "markdown",
   "metadata": {},
   "source": [
    "**2.2. Изучаем и преобразуем типы данных в столбцах**"
   ]
  },
  {
   "cell_type": "code",
   "execution_count": 6,
   "metadata": {},
   "outputs": [
    {
     "name": "stdout",
     "output_type": "stream",
     "text": [
      "<class 'pandas.core.frame.DataFrame'>\n",
      "Int64Index: 23565 entries, 0 to 23698\n",
      "Data columns (total 22 columns):\n",
      " #   Column                Non-Null Count  Dtype         \n",
      "---  ------                --------------  -----         \n",
      " 0   total_images          23565 non-null  int64         \n",
      " 1   last_price            23565 non-null  int64         \n",
      " 2   total_area            23565 non-null  float64       \n",
      " 3   first_day_exposition  23565 non-null  datetime64[ns]\n",
      " 4   rooms                 23565 non-null  int64         \n",
      " 5   ceiling_height        23565 non-null  float64       \n",
      " 6   floors_total          23565 non-null  int64         \n",
      " 7   living_area           23565 non-null  float64       \n",
      " 8   floor                 23565 non-null  int64         \n",
      " 9   is_apartment          23565 non-null  bool          \n",
      " 10  studio                23565 non-null  bool          \n",
      " 11  open_plan             23565 non-null  bool          \n",
      " 12  kitchen_area          23565 non-null  float64       \n",
      " 13  balcony               23565 non-null  int64         \n",
      " 14  locality_name         23565 non-null  object        \n",
      " 15  airports_nearest      18041 non-null  float64       \n",
      " 16  cityCenters_nearest   18064 non-null  float64       \n",
      " 17  parks_around3000      23565 non-null  int64         \n",
      " 18  parks_nearest         8030 non-null   float64       \n",
      " 19  ponds_around3000      23565 non-null  int64         \n",
      " 20  ponds_nearest         9036 non-null   float64       \n",
      " 21  days_exposition       23565 non-null  int64         \n",
      "dtypes: bool(3), datetime64[ns](1), float64(8), int64(9), object(1)\n",
      "memory usage: 3.7+ MB\n"
     ]
    }
   ],
   "source": [
    "# в balcony заменим тип данных\n",
    "data['balcony'] = data['balcony'].astype(int)\n",
    "# в days_exposition заменим тип данных\n",
    "data['days_exposition'] = data['days_exposition'].astype(int)\n",
    "# gриводим этажность к целочисленному типу\n",
    "data['floors_total'] = data['floors_total'].astype(int)\n",
    "# в parks_around3000 заменим тип данных\n",
    "data['parks_around3000'] = data['parks_around3000'].astype(int)\n",
    "# в ponds_around3000 заменим тип данных\n",
    "data['ponds_around3000'] = data['ponds_around3000'].astype(int)\n",
    "#столбец апартаменты видимо появился не вместе с началом ведения записей, все пропущенные значения заменим на False, \n",
    "#апартаменты появились относительно недавно\n",
    "data['is_apartment'] = data['is_apartment'].fillna(False)\n",
    "#переведем столбец с датой в формат даты без времени, т.к. время не указано\n",
    "data['first_day_exposition'] = pd.to_datetime(data['first_day_exposition'], format = '%Y-%m-%d')\n",
    "# в last_price заменим тип данных для удобства на int\n",
    "data['last_price'] = data['last_price'].astype(int)\n",
    "data.info()"
   ]
  },
  {
   "cell_type": "markdown",
   "metadata": {},
   "source": [
    "**2.3. Изучаем уникальные значения в столбце с названиями и устраняем неявные дубликаты**"
   ]
  },
  {
   "cell_type": "code",
   "execution_count": 7,
   "metadata": {},
   "outputs": [
    {
     "data": {
      "text/plain": [
       "array(['Санкт-Петербург', 'поселок Шушары', 'городской поселок Янино-1',\n",
       "       'поселок Парголово', 'поселок Мурино', 'Ломоносов', 'Сертолово',\n",
       "       'Петергоф', 'Пушкин', 'деревня Кудрово', 'Коммунар', 'Колпино',\n",
       "       'поселок городского типа Красный Бор', 'Гатчина',\n",
       "       'деревня Фёдоровское', 'Выборг', 'Кронштадт', 'Кировск',\n",
       "       'деревня Новое Девяткино', 'поселок Металлострой',\n",
       "       'поселок городского типа Лебяжье',\n",
       "       'поселок городского типа Сиверский', 'поселок Молодцово',\n",
       "       'поселок городского типа Кузьмоловский',\n",
       "       'садовое товарищество Новая Ропша', 'Павловск',\n",
       "       'деревня Пикколово', 'Всеволожск', 'Волхов', 'Кингисепп',\n",
       "       'Приозерск', 'Сестрорецк', 'деревня Куттузи', 'поселок Аннино',\n",
       "       'поселок городского типа Ефимовский', 'поселок Плодовое',\n",
       "       'деревня Заклинье', 'поселок Торковичи', 'поселок Первомайское',\n",
       "       'Красное Село', 'поселок Понтонный', 'Сясьстрой', 'деревня Старая',\n",
       "       'деревня Лесколово', 'поселок Новый Свет', 'Сланцы',\n",
       "       'село Путилово', 'Ивангород', 'Мурино', 'Шлиссельбург',\n",
       "       'Никольское', 'Зеленогорск', 'Сосновый Бор', 'деревня Оржицы',\n",
       "       'деревня Кальтино', 'Кудрово', 'поселок Романовка',\n",
       "       'поселок Бугры', 'поселок городского типа Рощино', 'Кириши',\n",
       "       'Луга', 'Волосово', 'Отрадное', 'село Павлово', 'поселок Оредеж',\n",
       "       'село Копорье', 'поселок Молодёжное', 'Тихвин', 'поселок Победа',\n",
       "       'деревня Нурма', 'поселок городского типа Синявино', 'Тосно',\n",
       "       'поселок Стрельна', 'Бокситогорск', 'поселок Александровская',\n",
       "       'деревня Лопухинка', 'Пикалёво', 'поселок Терволово',\n",
       "       'поселок городского типа Советский', 'Подпорожье',\n",
       "       'поселок Петровское', 'поселок городского типа Токсово',\n",
       "       'поселок Сельцо', 'поселок городского типа Вырица',\n",
       "       'деревня Кипень', 'деревня Келози', 'деревня Вартемяги',\n",
       "       'поселок Тельмана', 'поселок Севастьяново',\n",
       "       'городской поселок Большая Ижора', 'городской поселок Павлово',\n",
       "       'деревня Агалатово', 'поселок Новогорелово',\n",
       "       'городской поселок Лесогорский', 'деревня Лаголово',\n",
       "       'поселок Цвелодубово', 'поселок городского типа Рахья',\n",
       "       'деревня Белогорка', 'поселок Заводской',\n",
       "       'городской поселок Новоселье', 'деревня Большие Колпаны',\n",
       "       'деревня Горбунки', 'деревня Батово', 'деревня Заневка',\n",
       "       'деревня Иссад', 'Приморск', 'городской поселок Фёдоровское',\n",
       "       'деревня Мистолово', 'Новая Ладога', 'поселок Зимитицы',\n",
       "       'поселок Барышево', 'деревня Разметелево',\n",
       "       'поселок городского типа имени Свердлова', 'деревня Пеники',\n",
       "       'поселок Рябово', 'деревня Пудомяги', 'поселок станции Корнево',\n",
       "       'деревня Низино', 'деревня Бегуницы', 'поселок Поляны',\n",
       "       'городской поселок Мга', 'поселок Елизаветино',\n",
       "       'поселок городского типа Кузнечное', 'деревня Колтуши',\n",
       "       'поселок Запорожское', 'деревня Гостилицы',\n",
       "       'деревня Малое Карлино', 'поселок Мичуринское',\n",
       "       'поселок городского типа имени Морозова', 'поселок Песочный',\n",
       "       'поселок Сосново', 'деревня Аро', 'поселок Ильичёво',\n",
       "       'поселок городского типа Тайцы', 'деревня Малое Верево',\n",
       "       'деревня Извара', 'поселок станции Вещево', 'село Паша',\n",
       "       'деревня Калитино', 'поселок городского типа Ульяновка',\n",
       "       'деревня Чудской Бор', 'поселок городского типа Дубровка',\n",
       "       'деревня Мины', 'поселок Войсковицы', 'деревня Коркино',\n",
       "       'поселок Ропша', 'поселок городского типа Приладожский',\n",
       "       'поселок Щеглово', 'поселок Гаврилово', 'Лодейное Поле',\n",
       "       'деревня Рабитицы', 'поселок городского типа Никольский',\n",
       "       'деревня Кузьмолово', 'деревня Малые Колпаны',\n",
       "       'поселок Петро-Славянка', 'городской поселок Назия',\n",
       "       'поселок Репино', 'поселок Углово', 'поселок Старая Малукса',\n",
       "       'садовое товарищество Рахья', 'деревня Меньково',\n",
       "       'деревня Старые Бегуницы', 'поселок Сапёрный', 'поселок Семрино',\n",
       "       'поселок Глажево', 'поселок Кобринское', 'деревня Гарболово',\n",
       "       'деревня Юкки', 'поселок станции Приветнинское',\n",
       "       'деревня Мануйлово', 'деревня Пчева', 'поселок Цвылёво',\n",
       "       'поселок Мельниково', 'поселок Пудость', 'поселок Усть-Луга',\n",
       "       'Светогорск', 'Любань', 'поселок Селезнёво',\n",
       "       'поселок городского типа Рябово', 'Каменногорск', 'деревня Кривко',\n",
       "       'поселок Глебычево', 'деревня Парицы', 'поселок Жилпоселок',\n",
       "       'поселок городского типа Мга', 'поселок Войскорово',\n",
       "       'село Никольское', 'поселок Стеклянный',\n",
       "       'поселок городского типа Важины', 'поселок Мыза-Ивановка',\n",
       "       'село Русско-Высоцкое', 'поселок городского типа Форносово',\n",
       "       'село Старая Ладога', 'поселок Житково',\n",
       "       'городской поселок Виллози', 'деревня Лампово',\n",
       "       'деревня Шпаньково', 'деревня Лаврики', 'поселок Сумино',\n",
       "       'поселок Возрождение', 'деревня Старосиверская',\n",
       "       'поселок Кикерино', 'деревня Старое Хинколово',\n",
       "       'поселок Пригородный', 'поселок Торфяное',\n",
       "       'городской поселок Будогощь', 'поселок Суходолье',\n",
       "       'поселок Красная Долина', 'деревня Хапо-Ое',\n",
       "       'поселок городского типа Дружная Горка', 'поселок Лисий Нос',\n",
       "       'деревня Яльгелево', 'село Рождествено', 'деревня Старополье',\n",
       "       'поселок Левашово', 'деревня Сяськелево', 'деревня Камышовка',\n",
       "       'садоводческое некоммерческое товарищество Лесная Поляна',\n",
       "       'деревня Хязельки', 'поселок Жилгородок',\n",
       "       'поселок городского типа Павлово', 'деревня Ялгино',\n",
       "       'поселок Новый Учхоз', 'городской поселок Рощино',\n",
       "       'поселок Гончарово', 'поселок Почап', 'поселок Сапёрное',\n",
       "       'поселок Платформа 69-й километр', 'поселок Каложицы',\n",
       "       'деревня Фалилеево', 'деревня Пельгора',\n",
       "       'поселок городского типа Лесогорский', 'деревня Торошковичи',\n",
       "       'поселок Белоостров', 'поселок Алексеевка', 'поселок Серебрянский',\n",
       "       'поселок Лукаши', 'деревня Щеглово', 'деревня Тарасово',\n",
       "       'поселок Кингисеппский',\n",
       "       'поселок при железнодорожной станции Вещево', 'поселок Ушаки',\n",
       "       'деревня Котлы', 'деревня Сижно', 'деревня Торосово',\n",
       "       'поселок Форт Красная Горка', 'деревня Новолисино',\n",
       "       'поселок станции Громово', 'деревня Глинка',\n",
       "       'поселок городского типа Назия', 'деревня Старая Пустошь',\n",
       "       'поселок Коммунары', 'поселок Починок',\n",
       "       'поселок городского типа Вознесенье', 'деревня Разбегаево',\n",
       "       'поселок Гладкое',\n",
       "       'поселок при железнодорожной станции Приветнинское',\n",
       "       'поселок Тёсово-4', 'деревня Бор', 'поселок Коробицыно',\n",
       "       'деревня Большая Вруда', 'деревня Курковицы',\n",
       "       'городской поселок Советский', 'поселок Кобралово',\n",
       "       'деревня Суоранда', 'поселок городского типа Кондратьево',\n",
       "       'коттеджный поселок Счастье', 'поселок Любань', 'деревня Реброво',\n",
       "       'деревня Зимитицы', 'деревня Тойворово', 'поселок Семиозерье',\n",
       "       'поселок Лесное', 'поселок Совхозный', 'поселок Ленинское',\n",
       "       'поселок Суйда', 'деревня Нижние Осельки', 'поселок станции Свирь',\n",
       "       'поселок Перово', 'Высоцк', 'поселок Гарболово', 'село Шум',\n",
       "       'поселок Котельский', 'поселок станции Лужайка',\n",
       "       'деревня Большая Пустомержа', 'поселок Красносельское',\n",
       "       'деревня Вахнова Кара', 'деревня Пижма',\n",
       "       'коттеджный поселок Кивеннапа Север', 'поселок Ромашки',\n",
       "       'деревня Каськово', 'деревня Куровицы', 'поселок Плоское',\n",
       "       'поселок городского типа Большая Ижора', 'поселок Кирпичное',\n",
       "       'деревня Ям-Тесово', 'деревня Раздолье', 'деревня Терпилицы',\n",
       "       'поселок Шугозеро', 'деревня Ваганово', 'поселок Пушное',\n",
       "       'садовое товарищество Садко', 'поселок Усть-Ижора',\n",
       "       'деревня Выскатка', 'городской поселок Свирьстрой',\n",
       "       'поселок Громово', 'деревня Кисельня', 'деревня Трубников Бор',\n",
       "       'поселок Калитино', 'поселок Высокоключевой',\n",
       "       'садовое товарищество Приладожский',\n",
       "       'поселок Пансионат Зелёный Бор', 'деревня Ненимяки',\n",
       "       'деревня Снегирёвка', 'деревня Рапполово', 'деревня Пустынка',\n",
       "       'поселок Рабитицы', 'деревня Большой Сабск', 'деревня Русско',\n",
       "       'деревня Лупполово', 'деревня Большое Рейзино',\n",
       "       'деревня Малая Романовка', 'поселок Дружноселье', 'поселок Пчевжа',\n",
       "       'поселок Володарское', 'деревня Нижняя',\n",
       "       'коттеджный поселок Лесное', 'деревня Тихковицы',\n",
       "       'деревня Борисова Грива', 'поселок Дзержинского'], dtype=object)"
      ]
     },
     "metadata": {},
     "output_type": "display_data"
    }
   ],
   "source": [
    "data['locality_name'] = data['locality_name'].str.replace(\"посёлок\", \"поселок\") # заменим \"посёлок\" на \"поселок\"\n",
    "display(data['locality_name'].unique()) # выведем уникальные названия населенных пунктов"
   ]
  },
  {
   "cell_type": "markdown",
   "metadata": {},
   "source": [
    "**2.4. Находим и устраняем редкие и выбивающиеся значения**"
   ]
  },
  {
   "cell_type": "code",
   "execution_count": 8,
   "metadata": {},
   "outputs": [
    {
     "data": {
      "text/html": [
       "<div>\n",
       "<style scoped>\n",
       "    .dataframe tbody tr th:only-of-type {\n",
       "        vertical-align: middle;\n",
       "    }\n",
       "\n",
       "    .dataframe tbody tr th {\n",
       "        vertical-align: top;\n",
       "    }\n",
       "\n",
       "    .dataframe thead th {\n",
       "        text-align: right;\n",
       "    }\n",
       "</style>\n",
       "<table border=\"1\" class=\"dataframe\">\n",
       "  <thead>\n",
       "    <tr style=\"text-align: right;\">\n",
       "      <th></th>\n",
       "      <th>total_images</th>\n",
       "      <th>last_price</th>\n",
       "      <th>total_area</th>\n",
       "      <th>rooms</th>\n",
       "      <th>ceiling_height</th>\n",
       "      <th>floors_total</th>\n",
       "      <th>living_area</th>\n",
       "      <th>floor</th>\n",
       "      <th>kitchen_area</th>\n",
       "      <th>balcony</th>\n",
       "      <th>airports_nearest</th>\n",
       "      <th>cityCenters_nearest</th>\n",
       "      <th>parks_around3000</th>\n",
       "      <th>parks_nearest</th>\n",
       "      <th>ponds_around3000</th>\n",
       "      <th>ponds_nearest</th>\n",
       "      <th>days_exposition</th>\n",
       "    </tr>\n",
       "  </thead>\n",
       "  <tbody>\n",
       "    <tr>\n",
       "      <th>count</th>\n",
       "      <td>23565.000000</td>\n",
       "      <td>2.356500e+04</td>\n",
       "      <td>23565.000000</td>\n",
       "      <td>23565.000000</td>\n",
       "      <td>23565.000000</td>\n",
       "      <td>23565.000000</td>\n",
       "      <td>23565.000000</td>\n",
       "      <td>23565.000000</td>\n",
       "      <td>23565.000000</td>\n",
       "      <td>23565.000000</td>\n",
       "      <td>18041.000000</td>\n",
       "      <td>18064.000000</td>\n",
       "      <td>23565.000000</td>\n",
       "      <td>8030.000000</td>\n",
       "      <td>23565.000000</td>\n",
       "      <td>9036.000000</td>\n",
       "      <td>23565.000000</td>\n",
       "    </tr>\n",
       "    <tr>\n",
       "      <th>mean</th>\n",
       "      <td>9.878421</td>\n",
       "      <td>6.540058e+06</td>\n",
       "      <td>60.322824</td>\n",
       "      <td>2.070656</td>\n",
       "      <td>2.737873</td>\n",
       "      <td>10.675875</td>\n",
       "      <td>34.592277</td>\n",
       "      <td>5.878124</td>\n",
       "      <td>10.499898</td>\n",
       "      <td>0.593677</td>\n",
       "      <td>28797.082701</td>\n",
       "      <td>14192.656056</td>\n",
       "      <td>0.468831</td>\n",
       "      <td>490.580448</td>\n",
       "      <td>0.589900</td>\n",
       "      <td>518.289509</td>\n",
       "      <td>156.420115</td>\n",
       "    </tr>\n",
       "    <tr>\n",
       "      <th>std</th>\n",
       "      <td>5.681156</td>\n",
       "      <td>1.091093e+07</td>\n",
       "      <td>35.657060</td>\n",
       "      <td>1.078591</td>\n",
       "      <td>1.009172</td>\n",
       "      <td>6.594823</td>\n",
       "      <td>22.373679</td>\n",
       "      <td>4.871485</td>\n",
       "      <td>6.037750</td>\n",
       "      <td>0.960660</td>\n",
       "      <td>12632.499735</td>\n",
       "      <td>8613.348153</td>\n",
       "      <td>0.748403</td>\n",
       "      <td>341.572956</td>\n",
       "      <td>0.883966</td>\n",
       "      <td>278.009558</td>\n",
       "      <td>213.517293</td>\n",
       "    </tr>\n",
       "    <tr>\n",
       "      <th>min</th>\n",
       "      <td>0.000000</td>\n",
       "      <td>1.219000e+04</td>\n",
       "      <td>12.000000</td>\n",
       "      <td>0.000000</td>\n",
       "      <td>1.000000</td>\n",
       "      <td>1.000000</td>\n",
       "      <td>2.000000</td>\n",
       "      <td>1.000000</td>\n",
       "      <td>1.300000</td>\n",
       "      <td>0.000000</td>\n",
       "      <td>0.000000</td>\n",
       "      <td>181.000000</td>\n",
       "      <td>0.000000</td>\n",
       "      <td>1.000000</td>\n",
       "      <td>0.000000</td>\n",
       "      <td>13.000000</td>\n",
       "      <td>0.000000</td>\n",
       "    </tr>\n",
       "    <tr>\n",
       "      <th>25%</th>\n",
       "      <td>6.000000</td>\n",
       "      <td>3.400000e+06</td>\n",
       "      <td>40.000000</td>\n",
       "      <td>1.000000</td>\n",
       "      <td>2.550000</td>\n",
       "      <td>5.000000</td>\n",
       "      <td>19.000000</td>\n",
       "      <td>2.000000</td>\n",
       "      <td>7.000000</td>\n",
       "      <td>0.000000</td>\n",
       "      <td>18565.000000</td>\n",
       "      <td>9238.000000</td>\n",
       "      <td>0.000000</td>\n",
       "      <td>288.000000</td>\n",
       "      <td>0.000000</td>\n",
       "      <td>293.000000</td>\n",
       "      <td>22.000000</td>\n",
       "    </tr>\n",
       "    <tr>\n",
       "      <th>50%</th>\n",
       "      <td>9.000000</td>\n",
       "      <td>4.646000e+06</td>\n",
       "      <td>52.000000</td>\n",
       "      <td>2.000000</td>\n",
       "      <td>2.650000</td>\n",
       "      <td>9.000000</td>\n",
       "      <td>30.000000</td>\n",
       "      <td>4.000000</td>\n",
       "      <td>9.000000</td>\n",
       "      <td>0.000000</td>\n",
       "      <td>26757.000000</td>\n",
       "      <td>13096.500000</td>\n",
       "      <td>0.000000</td>\n",
       "      <td>455.000000</td>\n",
       "      <td>0.000000</td>\n",
       "      <td>503.000000</td>\n",
       "      <td>73.000000</td>\n",
       "    </tr>\n",
       "    <tr>\n",
       "      <th>75%</th>\n",
       "      <td>14.000000</td>\n",
       "      <td>6.790000e+06</td>\n",
       "      <td>69.700000</td>\n",
       "      <td>3.000000</td>\n",
       "      <td>2.750000</td>\n",
       "      <td>16.000000</td>\n",
       "      <td>42.100000</td>\n",
       "      <td>8.000000</td>\n",
       "      <td>12.000000</td>\n",
       "      <td>1.000000</td>\n",
       "      <td>37273.000000</td>\n",
       "      <td>16285.000000</td>\n",
       "      <td>1.000000</td>\n",
       "      <td>612.000000</td>\n",
       "      <td>1.000000</td>\n",
       "      <td>730.000000</td>\n",
       "      <td>198.000000</td>\n",
       "    </tr>\n",
       "    <tr>\n",
       "      <th>max</th>\n",
       "      <td>50.000000</td>\n",
       "      <td>7.630000e+08</td>\n",
       "      <td>900.000000</td>\n",
       "      <td>19.000000</td>\n",
       "      <td>100.000000</td>\n",
       "      <td>60.000000</td>\n",
       "      <td>409.700000</td>\n",
       "      <td>33.000000</td>\n",
       "      <td>112.000000</td>\n",
       "      <td>5.000000</td>\n",
       "      <td>84869.000000</td>\n",
       "      <td>65968.000000</td>\n",
       "      <td>3.000000</td>\n",
       "      <td>3190.000000</td>\n",
       "      <td>3.000000</td>\n",
       "      <td>1344.000000</td>\n",
       "      <td>1580.000000</td>\n",
       "    </tr>\n",
       "  </tbody>\n",
       "</table>\n",
       "</div>"
      ],
      "text/plain": [
       "       total_images    last_price    total_area         rooms  ceiling_height  \\\n",
       "count  23565.000000  2.356500e+04  23565.000000  23565.000000    23565.000000   \n",
       "mean       9.878421  6.540058e+06     60.322824      2.070656        2.737873   \n",
       "std        5.681156  1.091093e+07     35.657060      1.078591        1.009172   \n",
       "min        0.000000  1.219000e+04     12.000000      0.000000        1.000000   \n",
       "25%        6.000000  3.400000e+06     40.000000      1.000000        2.550000   \n",
       "50%        9.000000  4.646000e+06     52.000000      2.000000        2.650000   \n",
       "75%       14.000000  6.790000e+06     69.700000      3.000000        2.750000   \n",
       "max       50.000000  7.630000e+08    900.000000     19.000000      100.000000   \n",
       "\n",
       "       floors_total   living_area         floor  kitchen_area       balcony  \\\n",
       "count  23565.000000  23565.000000  23565.000000  23565.000000  23565.000000   \n",
       "mean      10.675875     34.592277      5.878124     10.499898      0.593677   \n",
       "std        6.594823     22.373679      4.871485      6.037750      0.960660   \n",
       "min        1.000000      2.000000      1.000000      1.300000      0.000000   \n",
       "25%        5.000000     19.000000      2.000000      7.000000      0.000000   \n",
       "50%        9.000000     30.000000      4.000000      9.000000      0.000000   \n",
       "75%       16.000000     42.100000      8.000000     12.000000      1.000000   \n",
       "max       60.000000    409.700000     33.000000    112.000000      5.000000   \n",
       "\n",
       "       airports_nearest  cityCenters_nearest  parks_around3000  parks_nearest  \\\n",
       "count      18041.000000         18064.000000      23565.000000    8030.000000   \n",
       "mean       28797.082701         14192.656056          0.468831     490.580448   \n",
       "std        12632.499735          8613.348153          0.748403     341.572956   \n",
       "min            0.000000           181.000000          0.000000       1.000000   \n",
       "25%        18565.000000          9238.000000          0.000000     288.000000   \n",
       "50%        26757.000000         13096.500000          0.000000     455.000000   \n",
       "75%        37273.000000         16285.000000          1.000000     612.000000   \n",
       "max        84869.000000         65968.000000          3.000000    3190.000000   \n",
       "\n",
       "       ponds_around3000  ponds_nearest  days_exposition  \n",
       "count      23565.000000    9036.000000     23565.000000  \n",
       "mean           0.589900     518.289509       156.420115  \n",
       "std            0.883966     278.009558       213.517293  \n",
       "min            0.000000      13.000000         0.000000  \n",
       "25%            0.000000     293.000000        22.000000  \n",
       "50%            0.000000     503.000000        73.000000  \n",
       "75%            1.000000     730.000000       198.000000  \n",
       "max            3.000000    1344.000000      1580.000000  "
      ]
     },
     "metadata": {},
     "output_type": "display_data"
    },
    {
     "data": {
      "image/png": "[encoded data removed]",
      "text/plain": [
       "<Figure size 432x288 with 1 Axes>"
      ]
     },
     "metadata": {
      "needs_background": "light"
     },
     "output_type": "display_data"
    }
   ],
   "source": [
    "# Получим информацию о среднем и медианном значении данных\n",
    "display(data.describe())\n",
    "# Редкие и выбивающиеся значения можно найти с помощью boxplot(),\n",
    "data.query('ceiling_height < 30').boxplot(['ceiling_height']);"
   ]
  },
  {
   "cell_type": "code",
   "execution_count": 9,
   "metadata": {},
   "outputs": [
    {
     "name": "stdout",
     "output_type": "stream",
     "text": [
      "0.05\n"
     ]
    }
   ],
   "source": [
    "# Рассчитаем процент значений, которые можно поправить в случае высоты потолка от 25 м до 32 м \n",
    "# (если теория верна, и высота потолков в 10 раз увеличена)\n",
    "print(((data.query('ceiling_height > 25 and ceiling_height < 40')['ceiling_height'].count())*100/23565).round(decimals=2))"
   ]
  },
  {
   "cell_type": "markdown",
   "metadata": {},
   "source": [
    "* Данные значения равны 12 и составляют менее 0,05%, исправлять не будем"
   ]
  },
  {
   "cell_type": "code",
   "execution_count": 10,
   "metadata": {},
   "outputs": [
    {
     "data": {
      "text/plain": [
       "(0.0, 12000000.0)"
      ]
     },
     "execution_count": 10,
     "metadata": {},
     "output_type": "execute_result"
    },
    {
     "data": {
      "image/png": "[encoded data removed]",
      "text/plain": [
       "<Figure size 432x288 with 1 Axes>"
      ]
     },
     "metadata": {
      "needs_background": "light"
     },
     "output_type": "display_data"
    }
   ],
   "source": [
    "data.boxplot(['last_price'])\n",
    "plt.ylim(0, 12000000)"
   ]
  },
  {
   "cell_type": "code",
   "execution_count": 11,
   "metadata": {},
   "outputs": [
    {
     "data": {
      "image/png": "[encoded data removed]",
      "text/plain": [
       "<Figure size 432x288 with 1 Axes>"
      ]
     },
     "metadata": {
      "needs_background": "light"
     },
     "output_type": "display_data"
    }
   ],
   "source": [
    "data.boxplot(['total_area']);"
   ]
  },
  {
   "cell_type": "code",
   "execution_count": 12,
   "metadata": {},
   "outputs": [
    {
     "data": {
      "image/png": "[encoded data removed]",
      "text/plain": [
       "<Figure size 432x288 with 1 Axes>"
      ]
     },
     "metadata": {
      "needs_background": "light"
     },
     "output_type": "display_data"
    }
   ],
   "source": [
    "data.boxplot(['kitchen_area']);"
   ]
  },
  {
   "cell_type": "code",
   "execution_count": 13,
   "metadata": {},
   "outputs": [
    {
     "data": {
      "image/png": "[encoded data removed]",
      "text/plain": [
       "<Figure size 432x288 with 1 Axes>"
      ]
     },
     "metadata": {
      "needs_background": "light"
     },
     "output_type": "display_data"
    }
   ],
   "source": [
    "data.boxplot(['living_area']);"
   ]
  },
  {
   "cell_type": "code",
   "execution_count": 14,
   "metadata": {
    "scrolled": true
   },
   "outputs": [
    {
     "data": {
      "image/png": "[encoded data removed]",
      "text/plain": [
       "<Figure size 432x288 with 1 Axes>"
      ]
     },
     "metadata": {
      "needs_background": "light"
     },
     "output_type": "display_data"
    }
   ],
   "source": [
    "data.boxplot(['rooms']);"
   ]
  },
  {
   "cell_type": "code",
   "execution_count": 15,
   "metadata": {},
   "outputs": [
    {
     "data": {
      "image/png": "[encoded data removed]",
      "text/plain": [
       "<Figure size 432x288 with 1 Axes>"
      ]
     },
     "metadata": {
      "needs_background": "light"
     },
     "output_type": "display_data"
    }
   ],
   "source": [
    "data.boxplot(['days_exposition']);"
   ]
  },
  {
   "cell_type": "markdown",
   "metadata": {},
   "source": [
    "**Выбросы есть в столбцах ['ceiling_height'], ['last_price'], ['total_area'], ['kitchen_area'], ['living_area'], ['rooms'], ['days_exposition']. «Усы» простираются влево и вправо от границ ящика на расстояние, равное 1,5 межквартильного размаха (сокращённо IQR, от англ. interquartile range, «межквартильный размах»). В размах «усов» попадают нормальные значения, а за пределами находятся выбросы, изображённые точками. Отбросим значения на основе 1,5 размаха, для улучшения адекватности данных (см. пункт 3 шага 4)** "
   ]
  },
  {
   "cell_type": "markdown",
   "metadata": {},
   "source": [
    "<div class=\"alert alert-info\"> <b>Комментарии студента:</b> Сделала проверку на явные дубликаты и написала вывод.</div>"
   ]
  },
  {
   "cell_type": "code",
   "execution_count": 16,
   "metadata": {},
   "outputs": [
    {
     "name": "stdout",
     "output_type": "stream",
     "text": [
      "0\n"
     ]
    }
   ],
   "source": [
    "# проверим данные на явные дубликаты\n",
    "print(data.duplicated().sum())"
   ]
  },
  {
   "cell_type": "markdown",
   "metadata": {},
   "source": [
    "**Вывод:**\n",
    "* 1) в данном разделе устранены пропуски в столбцах, кроме airports_nearest, cityCenters_nearest, parks_nearest, ponds_nearest (т.к пропусков достаточно большое количество, при этом причина возникновения не ясна)\n",
    "* 2) данные в столбцах: `'last_price'`, `'balcony'`, `'days_exposition'`, `'floors_total'`, `'parks_around3000'`, `' ponds_around3000'`, привели к формату `'int'`, `'is_apartment'` - `'bool'`, `'first_day_exposition'` - `datetime`\n",
    "* 3) Проверка на явные дубликаты показала, что их нет.\n",
    "* 4) В наименованиях населенных пунктов заменили \"посёлок\" на \"поселок\"\n",
    "* 5) Выбросы есть в столбцах `['ceiling_height']`, `['last_price']`, `['total_area']`, `['kitchen_area']`, `['living_area']`, `['rooms']`, `['days_exposition']`. "
   ]
  },
  {
   "cell_type": "markdown",
   "metadata": {},
   "source": [
    "### Посчитайте и добавьте в таблицу новые столбцы"
   ]
  },
  {
   "cell_type": "code",
   "execution_count": 17,
   "metadata": {},
   "outputs": [
    {
     "data": {
      "text/html": [
       "<div>\n",
       "<style scoped>\n",
       "    .dataframe tbody tr th:only-of-type {\n",
       "        vertical-align: middle;\n",
       "    }\n",
       "\n",
       "    .dataframe tbody tr th {\n",
       "        vertical-align: top;\n",
       "    }\n",
       "\n",
       "    .dataframe thead th {\n",
       "        text-align: right;\n",
       "    }\n",
       "</style>\n",
       "<table border=\"1\" class=\"dataframe\">\n",
       "  <thead>\n",
       "    <tr style=\"text-align: right;\">\n",
       "      <th></th>\n",
       "      <th>total_images</th>\n",
       "      <th>last_price</th>\n",
       "      <th>total_area</th>\n",
       "      <th>first_day_exposition</th>\n",
       "      <th>rooms</th>\n",
       "      <th>ceiling_height</th>\n",
       "      <th>floors_total</th>\n",
       "      <th>living_area</th>\n",
       "      <th>floor</th>\n",
       "      <th>is_apartment</th>\n",
       "      <th>...</th>\n",
       "      <th>parks_nearest</th>\n",
       "      <th>ponds_around3000</th>\n",
       "      <th>ponds_nearest</th>\n",
       "      <th>days_exposition</th>\n",
       "      <th>sqmetr_price</th>\n",
       "      <th>day_of_week</th>\n",
       "      <th>month</th>\n",
       "      <th>year</th>\n",
       "      <th>name_floor_type</th>\n",
       "      <th>distance_city_center</th>\n",
       "    </tr>\n",
       "  </thead>\n",
       "  <tbody>\n",
       "    <tr>\n",
       "      <th>0</th>\n",
       "      <td>20</td>\n",
       "      <td>13000000</td>\n",
       "      <td>108.0</td>\n",
       "      <td>2019-03-07</td>\n",
       "      <td>3</td>\n",
       "      <td>2.70</td>\n",
       "      <td>16</td>\n",
       "      <td>51.000000</td>\n",
       "      <td>8</td>\n",
       "      <td>False</td>\n",
       "      <td>...</td>\n",
       "      <td>482.0</td>\n",
       "      <td>2</td>\n",
       "      <td>755.0</td>\n",
       "      <td>0</td>\n",
       "      <td>120370</td>\n",
       "      <td>3</td>\n",
       "      <td>3</td>\n",
       "      <td>2019</td>\n",
       "      <td>другой</td>\n",
       "      <td>16.0</td>\n",
       "    </tr>\n",
       "    <tr>\n",
       "      <th>1</th>\n",
       "      <td>7</td>\n",
       "      <td>3350000</td>\n",
       "      <td>40.4</td>\n",
       "      <td>2018-12-04</td>\n",
       "      <td>1</td>\n",
       "      <td>2.65</td>\n",
       "      <td>11</td>\n",
       "      <td>18.600000</td>\n",
       "      <td>1</td>\n",
       "      <td>False</td>\n",
       "      <td>...</td>\n",
       "      <td>NaN</td>\n",
       "      <td>0</td>\n",
       "      <td>NaN</td>\n",
       "      <td>81</td>\n",
       "      <td>82920</td>\n",
       "      <td>1</td>\n",
       "      <td>12</td>\n",
       "      <td>2018</td>\n",
       "      <td>первый</td>\n",
       "      <td>19.0</td>\n",
       "    </tr>\n",
       "    <tr>\n",
       "      <th>2</th>\n",
       "      <td>10</td>\n",
       "      <td>5196000</td>\n",
       "      <td>56.0</td>\n",
       "      <td>2015-08-20</td>\n",
       "      <td>2</td>\n",
       "      <td>2.60</td>\n",
       "      <td>5</td>\n",
       "      <td>34.300000</td>\n",
       "      <td>4</td>\n",
       "      <td>False</td>\n",
       "      <td>...</td>\n",
       "      <td>90.0</td>\n",
       "      <td>2</td>\n",
       "      <td>574.0</td>\n",
       "      <td>558</td>\n",
       "      <td>92785</td>\n",
       "      <td>3</td>\n",
       "      <td>8</td>\n",
       "      <td>2015</td>\n",
       "      <td>другой</td>\n",
       "      <td>14.0</td>\n",
       "    </tr>\n",
       "    <tr>\n",
       "      <th>3</th>\n",
       "      <td>0</td>\n",
       "      <td>64900000</td>\n",
       "      <td>159.0</td>\n",
       "      <td>2015-07-24</td>\n",
       "      <td>3</td>\n",
       "      <td>2.60</td>\n",
       "      <td>14</td>\n",
       "      <td>90.816648</td>\n",
       "      <td>9</td>\n",
       "      <td>False</td>\n",
       "      <td>...</td>\n",
       "      <td>84.0</td>\n",
       "      <td>3</td>\n",
       "      <td>234.0</td>\n",
       "      <td>424</td>\n",
       "      <td>408176</td>\n",
       "      <td>4</td>\n",
       "      <td>7</td>\n",
       "      <td>2015</td>\n",
       "      <td>другой</td>\n",
       "      <td>7.0</td>\n",
       "    </tr>\n",
       "    <tr>\n",
       "      <th>4</th>\n",
       "      <td>2</td>\n",
       "      <td>10000000</td>\n",
       "      <td>100.0</td>\n",
       "      <td>2018-06-19</td>\n",
       "      <td>2</td>\n",
       "      <td>3.03</td>\n",
       "      <td>14</td>\n",
       "      <td>32.000000</td>\n",
       "      <td>13</td>\n",
       "      <td>False</td>\n",
       "      <td>...</td>\n",
       "      <td>112.0</td>\n",
       "      <td>1</td>\n",
       "      <td>48.0</td>\n",
       "      <td>121</td>\n",
       "      <td>100000</td>\n",
       "      <td>1</td>\n",
       "      <td>6</td>\n",
       "      <td>2018</td>\n",
       "      <td>другой</td>\n",
       "      <td>8.0</td>\n",
       "    </tr>\n",
       "  </tbody>\n",
       "</table>\n",
       "<p>5 rows × 28 columns</p>\n",
       "</div>"
      ],
      "text/plain": [
       "   total_images  last_price  total_area first_day_exposition  rooms  \\\n",
       "0            20    13000000       108.0           2019-03-07      3   \n",
       "1             7     3350000        40.4           2018-12-04      1   \n",
       "2            10     5196000        56.0           2015-08-20      2   \n",
       "3             0    64900000       159.0           2015-07-24      3   \n",
       "4             2    10000000       100.0           2018-06-19      2   \n",
       "\n",
       "   ceiling_height  floors_total  living_area  floor  is_apartment  ...  \\\n",
       "0            2.70            16    51.000000      8         False  ...   \n",
       "1            2.65            11    18.600000      1         False  ...   \n",
       "2            2.60             5    34.300000      4         False  ...   \n",
       "3            2.60            14    90.816648      9         False  ...   \n",
       "4            3.03            14    32.000000     13         False  ...   \n",
       "\n",
       "   parks_nearest  ponds_around3000  ponds_nearest  days_exposition  \\\n",
       "0          482.0                 2          755.0                0   \n",
       "1            NaN                 0            NaN               81   \n",
       "2           90.0                 2          574.0              558   \n",
       "3           84.0                 3          234.0              424   \n",
       "4          112.0                 1           48.0              121   \n",
       "\n",
       "  sqmetr_price  day_of_week  month  year  name_floor_type  \\\n",
       "0       120370            3      3  2019           другой   \n",
       "1        82920            1     12  2018           первый   \n",
       "2        92785            3      8  2015           другой   \n",
       "3       408176            4      7  2015           другой   \n",
       "4       100000            1      6  2018           другой   \n",
       "\n",
       "   distance_city_center  \n",
       "0                  16.0  \n",
       "1                  19.0  \n",
       "2                  14.0  \n",
       "3                   7.0  \n",
       "4                   8.0  \n",
       "\n",
       "[5 rows x 28 columns]"
      ]
     },
     "metadata": {},
     "output_type": "display_data"
    }
   ],
   "source": [
    "# добавим столбец со стоимостью одного квадратного метра\n",
    "data['sqmetr_price'] = (data['last_price'] / data['total_area']).astype(int)\n",
    "# добавим столбец дня недели\n",
    "data['day_of_week'] = data['first_day_exposition'].dt.dayofweek\n",
    "# добавим столбец месяца\n",
    "data['month'] = data['first_day_exposition'].dt.month\n",
    "# добавим столбец года\n",
    "data['year'] = data['first_day_exposition'].dt.year\n",
    "# добавляем столбец со значением категории этажа\n",
    "def name_floor(row):\n",
    "    if row['floor']==1:\n",
    "        return 'первый'\n",
    "    elif row['floor'] == row['floors_total']:\n",
    "        return 'последний'\n",
    "    else:\n",
    "        return 'другой'\n",
    "data['name_floor_type'] = data.apply(name_floor, axis=1)\n",
    "# добавляем столбец расстояния до центра города в км и округляем до целых значений\n",
    "data['distance_city_center'] = (data['cityCenters_nearest'] / 1000).round(decimals=0)\n",
    "display(data.head(5))"
   ]
  },
  {
   "cell_type": "markdown",
   "metadata": {},
   "source": [
    "### Проведите исследовательский анализ данных"
   ]
  },
  {
   "cell_type": "markdown",
   "metadata": {},
   "source": [
    "**4.1. Изучаем параметры объектов**"
   ]
  },
  {
   "cell_type": "code",
   "execution_count": 18,
   "metadata": {},
   "outputs": [
    {
     "data": {
      "image/png": "[encoded data removed]",
      "text/plain": [
       "<Figure size 432x288 with 1 Axes>"
      ]
     },
     "metadata": {
      "needs_background": "light"
     },
     "output_type": "display_data"
    },
    {
     "name": "stdout",
     "output_type": "stream",
     "text": [
      "Квартиры с наибольшей площадью:\n"
     ]
    },
    {
     "data": {
      "text/plain": [
       "19540    900.0\n",
       "12859    631.2\n",
       "3117     631.0\n",
       "15651    618.0\n",
       "5358     590.0\n",
       "Name: total_area, dtype: float64"
      ]
     },
     "metadata": {},
     "output_type": "display_data"
    },
    {
     "name": "stdout",
     "output_type": "stream",
     "text": [
      "Квартиры с наименьшей площадью:\n"
     ]
    },
    {
     "data": {
      "text/plain": [
       "19904    12.0\n",
       "17961    13.0\n",
       "19546    13.0\n",
       "19807    13.0\n",
       "19558    13.2\n",
       "Name: total_area, dtype: float64"
      ]
     },
     "metadata": {},
     "output_type": "display_data"
    },
    {
     "name": "stdout",
     "output_type": "stream",
     "text": [
      "count    23565.000000\n",
      "mean        60.322824\n",
      "std         35.657060\n",
      "min         12.000000\n",
      "25%         40.000000\n",
      "50%         52.000000\n",
      "75%         69.700000\n",
      "max        900.000000\n",
      "Name: total_area, dtype: float64\n"
     ]
    }
   ],
   "source": [
    "import matplotlib.pyplot as plt # подключаем библиотеку matplotlib.pyplot\n",
    "# изучаем данные в столбце \"общая площадь\"\n",
    "plt.hist(data['total_area'], bins=40, range=(0,300))\n",
    "plt.title('Общая площадь квартир')\n",
    "plt.ylabel('Количество квартир')\n",
    "plt.xlabel('Площадь квартир, кв.м')\n",
    "plt.show()\n",
    "print('Квартиры с наибольшей площадью:')\n",
    "display(data['total_area'].sort_values(ascending=False).head(5))\n",
    "print('Квартиры с наименьшей площадью:')\n",
    "display(data['total_area'].sort_values(ascending=True).head(5))\n",
    "print(data['total_area'].describe())"
   ]
  },
  {
   "cell_type": "markdown",
   "metadata": {},
   "source": [
    "**Вывод:**\n",
    "* 1) Большинство квартир имеют площадь менее 100 кв.м, при этом среднее значение достигает 60 кв.м., медианное 52. Максимальная площадь, встречающихся в объявлениях квартир достигает 900 кв.м, минимальная 12 кв.м"
   ]
  },
  {
   "cell_type": "code",
   "execution_count": 19,
   "metadata": {},
   "outputs": [
    {
     "data": {
      "image/png": "[encoded data removed]",
      "text/plain": [
       "<Figure size 432x288 with 1 Axes>"
      ]
     },
     "metadata": {
      "needs_background": "light"
     },
     "output_type": "display_data"
    },
    {
     "name": "stdout",
     "output_type": "stream",
     "text": [
      "Квартиры с наибольшей жилой площадью:\n"
     ]
    },
    {
     "data": {
      "text/plain": [
       "19540    409.700000\n",
       "5358     409.000000\n",
       "3117     360.410721\n",
       "12401    347.500000\n",
       "4237     332.000000\n",
       "Name: living_area, dtype: float64"
      ]
     },
     "metadata": {},
     "output_type": "display_data"
    },
    {
     "name": "stdout",
     "output_type": "stream",
     "text": [
      "Квартиры с наименьшей жилой площадью:\n"
     ]
    },
    {
     "data": {
      "text/plain": [
       "13915    2.0\n",
       "21758    2.0\n",
       "23574    3.0\n",
       "3242     3.0\n",
       "17582    5.0\n",
       "Name: living_area, dtype: float64"
      ]
     },
     "metadata": {},
     "output_type": "display_data"
    },
    {
     "name": "stdout",
     "output_type": "stream",
     "text": [
      "count    23565.000000\n",
      "mean        34.592277\n",
      "std         22.373679\n",
      "min          2.000000\n",
      "25%         19.000000\n",
      "50%         30.000000\n",
      "75%         42.100000\n",
      "max        409.700000\n",
      "Name: living_area, dtype: float64\n"
     ]
    }
   ],
   "source": [
    "# изучаем данные в столбце \"жилая площадь\"\n",
    "plt.hist(data['living_area'], bins=30, range=(0,100))\n",
    "plt.title('Жилая площадь квартир')\n",
    "plt.ylabel('Количество квартир')\n",
    "plt.xlabel('Жилая площадь квартир, кв.м')\n",
    "plt.show()\n",
    "print('Квартиры с наибольшей жилой площадью:')\n",
    "display(data['living_area'].sort_values(ascending=False).head(5))\n",
    "print('Квартиры с наименьшей жилой площадью:')\n",
    "display(data['living_area'].sort_values(ascending=True).head(5))\n",
    "print(data['living_area'].describe())"
   ]
  },
  {
   "cell_type": "markdown",
   "metadata": {},
   "source": [
    "**Вывод:**\n",
    "* 2) Максимальная жилая площадь равна 409 кв.м (встречается у 1-2 квартир из 23 тыс. объявл), минимальная - 12 кв.м , среднее значение 34,6 кв.м, медианное 22 кв.м, самы распространенные площади до 50 кв.м"
   ]
  },
  {
   "cell_type": "code",
   "execution_count": 20,
   "metadata": {},
   "outputs": [
    {
     "data": {
      "image/png": "[encoded data removed]",
      "text/plain": [
       "<Figure size 432x288 with 1 Axes>"
      ]
     },
     "metadata": {
      "needs_background": "light"
     },
     "output_type": "display_data"
    },
    {
     "name": "stdout",
     "output_type": "stream",
     "text": [
      "Квартиры с наибольшей площадью кухни:\n"
     ]
    },
    {
     "data": {
      "text/plain": [
       "19540    112.0\n",
       "20215    107.0\n",
       "2489     100.7\n",
       "5358     100.0\n",
       "16239     93.2\n",
       "Name: kitchen_area, dtype: float64"
      ]
     },
     "metadata": {},
     "output_type": "display_data"
    },
    {
     "name": "stdout",
     "output_type": "stream",
     "text": [
      "Квартиры с наименьшей площадью кухни:\n"
     ]
    },
    {
     "data": {
      "text/plain": [
       "20217    1.3\n",
       "9138     2.0\n",
       "16367    2.0\n",
       "21419    2.0\n",
       "11033    2.0\n",
       "Name: kitchen_area, dtype: float64"
      ]
     },
     "metadata": {},
     "output_type": "display_data"
    },
    {
     "name": "stdout",
     "output_type": "stream",
     "text": [
      "count    23565.000000\n",
      "mean        10.499898\n",
      "std          6.037750\n",
      "min          1.300000\n",
      "25%          7.000000\n",
      "50%          9.000000\n",
      "75%         12.000000\n",
      "max        112.000000\n",
      "Name: kitchen_area, dtype: float64\n"
     ]
    }
   ],
   "source": [
    "# изучаем данные в столбце \"площадь кухни\"\n",
    "plt.hist(data['kitchen_area'], bins=30, range=(0,40))\n",
    "plt.title('Площадь кухни')\n",
    "plt.ylabel('Количество квартир')\n",
    "plt.xlabel('Площадь кухни, кв.м')\n",
    "plt.show()\n",
    "print('Квартиры с наибольшей площадью кухни:')\n",
    "display(data['kitchen_area'].sort_values(ascending=False).head(5))\n",
    "print('Квартиры с наименьшей площадью кухни:')\n",
    "display(data['kitchen_area'].sort_values(ascending=True).head(5))\n",
    "print(data['kitchen_area'].describe())"
   ]
  },
  {
   "cell_type": "markdown",
   "metadata": {},
   "source": [
    "**Вывод:**\n",
    "* 3) Максимальная площадь кухни равна 112 кв.м (встречается у 1-2 квартир из 23 тыс. объявл), минимальная - 1,3 кв.м (встречается у 1-2 квартир из 23 тыс. объявл), среднее значение 10,5 кв.м, медианное 6 кв.м"
   ]
  },
  {
   "cell_type": "code",
   "execution_count": 21,
   "metadata": {},
   "outputs": [
    {
     "data": {
      "image/png": "[encoded data removed]",
      "text/plain": [
       "<Figure size 432x288 with 1 Axes>"
      ]
     },
     "metadata": {
      "needs_background": "light"
     },
     "output_type": "display_data"
    },
    {
     "name": "stdout",
     "output_type": "stream",
     "text": [
      "Квартиры с наибольшей стоимостью:\n"
     ]
    },
    {
     "data": {
      "text/plain": [
       "12971    763000000\n",
       "19540    420000000\n",
       "14706    401300000\n",
       "1436     330000000\n",
       "15651    300000000\n",
       "Name: last_price, dtype: int64"
      ]
     },
     "metadata": {},
     "output_type": "display_data"
    },
    {
     "name": "stdout",
     "output_type": "stream",
     "text": [
      "Квартиры с наименьшей стоимостью:\n"
     ]
    },
    {
     "data": {
      "text/plain": [
       "8793      12190\n",
       "17456    430000\n",
       "14911    430000\n",
       "16274    440000\n",
       "9581     450000\n",
       "Name: last_price, dtype: int64"
      ]
     },
     "metadata": {},
     "output_type": "display_data"
    },
    {
     "name": "stdout",
     "output_type": "stream",
     "text": [
      "count    2.356500e+04\n",
      "mean     6.540058e+06\n",
      "std      1.091093e+07\n",
      "min      1.219000e+04\n",
      "25%      3.400000e+06\n",
      "50%      4.646000e+06\n",
      "75%      6.790000e+06\n",
      "max      7.630000e+08\n",
      "Name: last_price, dtype: float64\n"
     ]
    }
   ],
   "source": [
    "# изучаем данные в столбце \"цена объекта\"\n",
    "plt.hist(data['last_price'], bins=30, range=(0,20000000))\n",
    "plt.title('Стоимость квартир')\n",
    "plt.ylabel('Количество квартир')\n",
    "plt.xlabel('Стоимость')\n",
    "plt.show()\n",
    "print('Квартиры с наибольшей стоимостью:')\n",
    "display(data['last_price'].sort_values(ascending=False).head(5))\n",
    "print('Квартиры с наименьшей стоимостью:')\n",
    "display(data['last_price'].sort_values(ascending=True).head(5))\n",
    "print(data['last_price'].describe())"
   ]
  },
  {
   "cell_type": "markdown",
   "metadata": {},
   "source": [
    "**Вывод:**\n",
    "* 4) Стоимость большинства квартир не превышает 5 млн"
   ]
  },
  {
   "cell_type": "code",
   "execution_count": 22,
   "metadata": {},
   "outputs": [
    {
     "data": {
      "image/png": "[encoded data removed]",
      "text/plain": [
       "<Figure size 432x288 with 1 Axes>"
      ]
     },
     "metadata": {
      "needs_background": "light"
     },
     "output_type": "display_data"
    },
    {
     "name": "stdout",
     "output_type": "stream",
     "text": [
      "Квартиры с наибольшим количеством комнат:\n"
     ]
    },
    {
     "data": {
      "text/plain": [
       "14498    19\n",
       "18848    16\n",
       "5358     15\n",
       "20829    14\n",
       "866      14\n",
       "Name: rooms, dtype: int64"
      ]
     },
     "metadata": {},
     "output_type": "display_data"
    },
    {
     "name": "stdout",
     "output_type": "stream",
     "text": [
      "Квартиры с наименьшим количеством комнат:\n"
     ]
    },
    {
     "data": {
      "text/plain": [
       "1625     0\n",
       "6225     0\n",
       "19154    0\n",
       "23554    0\n",
       "20584    0\n",
       "Name: rooms, dtype: int64"
      ]
     },
     "metadata": {},
     "output_type": "display_data"
    },
    {
     "name": "stdout",
     "output_type": "stream",
     "text": [
      "count    23565.000000\n",
      "mean         2.070656\n",
      "std          1.078591\n",
      "min          0.000000\n",
      "25%          1.000000\n",
      "50%          2.000000\n",
      "75%          3.000000\n",
      "max         19.000000\n",
      "Name: rooms, dtype: float64\n"
     ]
    }
   ],
   "source": [
    "# изучаем данные в столбце \"количество комнат\"\n",
    "plt.hist(data['rooms'], bins=6, range=(0,10))\n",
    "plt.title('Количество комнат в квартире')\n",
    "plt.ylabel('Количество квартир')\n",
    "plt.xlabel('Количество комнат')\n",
    "plt.show()\n",
    "print('Квартиры с наибольшим количеством комнат:')\n",
    "display(data['rooms'].sort_values(ascending=False).head(5))\n",
    "print('Квартиры с наименьшим количеством комнат:')\n",
    "display(data['rooms'].sort_values(ascending=True).head(5))\n",
    "print(data['rooms'].describe())"
   ]
  },
  {
   "cell_type": "markdown",
   "metadata": {},
   "source": [
    "**Вывод:**\n",
    "* 5) Большинство квартир содержат 2-3 комнаты, количество 1 комнатных квартир чуть меньше, есть небольшая доля 4 комнатных квартир. "
   ]
  },
  {
   "cell_type": "code",
   "execution_count": 23,
   "metadata": {},
   "outputs": [
    {
     "data": {
      "image/png": "[encoded data removed]",
      "text/plain": [
       "<Figure size 432x288 with 1 Axes>"
      ]
     },
     "metadata": {
      "needs_background": "light"
     },
     "output_type": "display_data"
    },
    {
     "name": "stdout",
     "output_type": "stream",
     "text": [
      "Квартиры с наибольшей высотой потолков:\n"
     ]
    },
    {
     "data": {
      "text/plain": [
       "22869    100.0\n",
       "22336     32.0\n",
       "3148      32.0\n",
       "21377     27.5\n",
       "20478     27.0\n",
       "Name: ceiling_height, dtype: float64"
      ]
     },
     "metadata": {},
     "output_type": "display_data"
    },
    {
     "name": "stdout",
     "output_type": "stream",
     "text": [
      "Квартиры с наименьшей высотой потолков:\n"
     ]
    },
    {
     "data": {
      "text/plain": [
       "22590    1.00\n",
       "5712     1.20\n",
       "16934    1.75\n",
       "16884    2.00\n",
       "19329    2.00\n",
       "Name: ceiling_height, dtype: float64"
      ]
     },
     "metadata": {},
     "output_type": "display_data"
    },
    {
     "name": "stdout",
     "output_type": "stream",
     "text": [
      "count    23565.000000\n",
      "mean         2.737873\n",
      "std          1.009172\n",
      "min          1.000000\n",
      "25%          2.550000\n",
      "50%          2.650000\n",
      "75%          2.750000\n",
      "max        100.000000\n",
      "Name: ceiling_height, dtype: float64\n"
     ]
    }
   ],
   "source": [
    "# изучаем данные в столбце \"высота потолков\"\n",
    "plt.hist(data['ceiling_height'], bins=30, range=(2,5))\n",
    "plt.title('Высота потолков в квартире')\n",
    "plt.ylabel('Количество квартир')\n",
    "plt.xlabel('Высота потолков')\n",
    "plt.show()\n",
    "print('Квартиры с наибольшей высотой потолков:')\n",
    "display(data['ceiling_height'].sort_values(ascending=False).head(5))\n",
    "print('Квартиры с наименьшей высотой потолков:')\n",
    "display(data['ceiling_height'].sort_values(ascending=True).head(5))\n",
    "print(data['ceiling_height'].describe())"
   ]
  },
  {
   "cell_type": "markdown",
   "metadata": {},
   "source": [
    "**Вывод:**\n",
    "* 6) Большинство квартир имеют высоту потолков от 2,5 до 2,8 м. Есть значения в 27 метров, возможно реальная высота равна 2,7 метра."
   ]
  },
  {
   "cell_type": "code",
   "execution_count": 24,
   "metadata": {},
   "outputs": [
    {
     "data": {
      "image/png": "[encoded data removed]",
      "text/plain": [
       "<Figure size 432x288 with 1 Axes>"
      ]
     },
     "metadata": {
      "needs_background": "light"
     },
     "output_type": "display_data"
    },
    {
     "name": "stdout",
     "output_type": "stream",
     "text": [
      "Квартиры с наибольшим номером этажа:\n"
     ]
    },
    {
     "data": {
      "text/plain": [
       "18218    33\n",
       "11575    32\n",
       "18629    31\n",
       "1917     30\n",
       "11079    29\n",
       "Name: floor, dtype: int64"
      ]
     },
     "metadata": {},
     "output_type": "display_data"
    },
    {
     "name": "stdout",
     "output_type": "stream",
     "text": [
      "Квартиры с наименьшим номером этажа:\n"
     ]
    },
    {
     "data": {
      "text/plain": [
       "23698    1\n",
       "3127     1\n",
       "13585    1\n",
       "13579    1\n",
       "13576    1\n",
       "Name: floor, dtype: int64"
      ]
     },
     "metadata": {},
     "output_type": "display_data"
    },
    {
     "name": "stdout",
     "output_type": "stream",
     "text": [
      "count    23565.000000\n",
      "mean         5.878124\n",
      "std          4.871485\n",
      "min          1.000000\n",
      "25%          2.000000\n",
      "50%          4.000000\n",
      "75%          8.000000\n",
      "max         33.000000\n",
      "Name: floor, dtype: float64\n"
     ]
    }
   ],
   "source": [
    "# изучаем данные в столбце \"этаж квартиры\"\n",
    "plt.hist(data['floor'], bins=30, range=(1,30))\n",
    "plt.title('Этаж квартиры')\n",
    "plt.ylabel('Количество квартир')\n",
    "plt.xlabel('Этаж квартиры')\n",
    "plt.show()\n",
    "print('Квартиры с наибольшим номером этажа:')\n",
    "display(data['floor'].sort_values(ascending=False).head(5))\n",
    "print('Квартиры с наименьшим номером этажа:')\n",
    "display(data['floor'].sort_values(ascending=True).head(5))\n",
    "print(data['floor'].describe())"
   ]
  },
  {
   "cell_type": "markdown",
   "metadata": {},
   "source": [
    "**Вывод:**\n",
    "* 7) Квартиры на 1-5 этажах продаются чаще всего"
   ]
  },
  {
   "cell_type": "code",
   "execution_count": 25,
   "metadata": {},
   "outputs": [
    {
     "data": {
      "image/png": "[encoded data removed]",
      "text/plain": [
       "<Figure size 432x288 with 1 Axes>"
      ]
     },
     "metadata": {
      "needs_background": "light"
     },
     "output_type": "display_data"
    },
    {
     "name": "stdout",
     "output_type": "stream",
     "text": [
      "count      23565\n",
      "unique         3\n",
      "top       другой\n",
      "freq       17326\n",
      "Name: name_floor_type, dtype: object\n"
     ]
    }
   ],
   "source": [
    "# изучаем данные в столбце \"категория этажа\"\n",
    "plt.hist(data['name_floor_type'], bins=30, range=(0,3))\n",
    "plt.title('Этаж квартиры')\n",
    "plt.ylabel('Количество квартир')\n",
    "plt.xlabel('Этаж квартиры')\n",
    "plt.show()\n",
    "print(data['name_floor_type'].describe())"
   ]
  },
  {
   "cell_type": "markdown",
   "metadata": {},
   "source": [
    "**Вывод:**\n",
    "* 8) Первый и последний этажи встречаются примерно с одинаковой частотой, остальные этажи в 6 раз чаще, каждого из них "
   ]
  },
  {
   "cell_type": "code",
   "execution_count": 26,
   "metadata": {},
   "outputs": [
    {
     "data": {
      "image/png": "[encoded data removed]",
      "text/plain": [
       "<Figure size 432x288 with 1 Axes>"
      ]
     },
     "metadata": {
      "needs_background": "light"
     },
     "output_type": "display_data"
    },
    {
     "name": "stdout",
     "output_type": "stream",
     "text": [
      "Квартиры с наибольшим количеством этажей в доме:\n"
     ]
    },
    {
     "data": {
      "text/plain": [
       "2253     60\n",
       "16731    52\n",
       "16934    37\n",
       "5807     36\n",
       "11079    36\n",
       "Name: floors_total, dtype: int64"
      ]
     },
     "metadata": {},
     "output_type": "display_data"
    },
    {
     "name": "stdout",
     "output_type": "stream",
     "text": [
      "Квартиры с наименьшим количеством этажей в доме:\n"
     ]
    },
    {
     "data": {
      "text/plain": [
       "19590    1\n",
       "9752     1\n",
       "9517     1\n",
       "17744    1\n",
       "3076     1\n",
       "Name: floors_total, dtype: int64"
      ]
     },
     "metadata": {},
     "output_type": "display_data"
    },
    {
     "name": "stdout",
     "output_type": "stream",
     "text": [
      "count    23565.000000\n",
      "mean        10.675875\n",
      "std          6.594823\n",
      "min          1.000000\n",
      "25%          5.000000\n",
      "50%          9.000000\n",
      "75%         16.000000\n",
      "max         60.000000\n",
      "Name: floors_total, dtype: float64\n"
     ]
    }
   ],
   "source": [
    "# изучаем данные в столбце \"этажей в доме\"\n",
    "plt.hist(data['floors_total'], bins=30, range=(1,30))\n",
    "plt.title('Количество этажей в доме')\n",
    "plt.ylabel('Количество квартир')\n",
    "plt.xlabel('Этажей в доме')\n",
    "plt.show()\n",
    "print('Квартиры с наибольшим количеством этажей в доме:')\n",
    "display(data['floors_total'].sort_values(ascending=False).head(5))\n",
    "print('Квартиры с наименьшим количеством этажей в доме:')\n",
    "display(data['floors_total'].sort_values(ascending=True).head(5))\n",
    "print(data['floors_total'].describe())"
   ]
  },
  {
   "cell_type": "markdown",
   "metadata": {},
   "source": [
    "**Вывод:**\n",
    "* 9) Большего всего продается квартир в 5 этажных домах"
   ]
  },
  {
   "cell_type": "code",
   "execution_count": 27,
   "metadata": {},
   "outputs": [
    {
     "data": {
      "image/png": "[encoded data removed]",
      "text/plain": [
       "<Figure size 432x288 with 1 Axes>"
      ]
     },
     "metadata": {
      "needs_background": "light"
     },
     "output_type": "display_data"
    },
    {
     "name": "stdout",
     "output_type": "stream",
     "text": [
      "Квартиры с наибольшим расстоянием до центра города:\n"
     ]
    },
    {
     "data": {
      "text/plain": [
       "9640     65968.0\n",
       "5340     65952.0\n",
       "577      65764.0\n",
       "20746    65105.0\n",
       "5218     64857.0\n",
       "Name: cityCenters_nearest, dtype: float64"
      ]
     },
     "metadata": {},
     "output_type": "display_data"
    },
    {
     "name": "stdout",
     "output_type": "stream",
     "text": [
      "Квартиры с наименьшим расстоянием до центра города:\n"
     ]
    },
    {
     "data": {
      "text/plain": [
       "13694    181.0\n",
       "1182     208.0\n",
       "8614     215.0\n",
       "1934     287.0\n",
       "20873    291.0\n",
       "Name: cityCenters_nearest, dtype: float64"
      ]
     },
     "metadata": {},
     "output_type": "display_data"
    },
    {
     "name": "stdout",
     "output_type": "stream",
     "text": [
      "count    18064.000000\n",
      "mean     14192.656056\n",
      "std       8613.348153\n",
      "min        181.000000\n",
      "25%       9238.000000\n",
      "50%      13096.500000\n",
      "75%      16285.000000\n",
      "max      65968.000000\n",
      "Name: cityCenters_nearest, dtype: float64\n"
     ]
    }
   ],
   "source": [
    "# изучаем данные в столбце \"расстояние до центра города\"\n",
    "plt.hist(data['cityCenters_nearest'], bins=5, range=(0,50000))\n",
    "plt.title('Расстояние до центра города')\n",
    "plt.ylabel('Количество квартир')\n",
    "plt.xlabel('Расстояние до центра города')\n",
    "plt.show()\n",
    "print('Квартиры с наибольшим расстоянием до центра города:')\n",
    "display(data['cityCenters_nearest'].sort_values(ascending=False).head(5))\n",
    "print('Квартиры с наименьшим расстоянием до центра города:')\n",
    "display(data['cityCenters_nearest'].sort_values(ascending=True).head(5))\n",
    "print(data['cityCenters_nearest'].describe())"
   ]
  },
  {
   "cell_type": "markdown",
   "metadata": {},
   "source": [
    "**Вывод:**\n",
    "* 10) Больше чем в 10000 объявлений расстояние до центра города составляет от 10 до 20 км"
   ]
  },
  {
   "cell_type": "code",
   "execution_count": 28,
   "metadata": {},
   "outputs": [
    {
     "data": {
      "image/png": "[encoded data removed]",
      "text/plain": [
       "<Figure size 432x288 with 1 Axes>"
      ]
     },
     "metadata": {
      "needs_background": "light"
     },
     "output_type": "display_data"
    },
    {
     "name": "stdout",
     "output_type": "stream",
     "text": [
      "Квартиры с наибольшим расстоянием до аэропорта:\n"
     ]
    },
    {
     "data": {
      "text/plain": [
       "9640     84869.0\n",
       "5340     84853.0\n",
       "577      84665.0\n",
       "20746    84006.0\n",
       "5218     83758.0\n",
       "Name: airports_nearest, dtype: float64"
      ]
     },
     "metadata": {},
     "output_type": "display_data"
    },
    {
     "name": "stdout",
     "output_type": "stream",
     "text": [
      "Квартиры с наименьшим расстоянием до аэропорта:\n"
     ]
    },
    {
     "data": {
      "text/plain": [
       "21085       0.0\n",
       "12899    6450.0\n",
       "4017     6450.0\n",
       "7778     6914.0\n",
       "23150    6949.0\n",
       "Name: airports_nearest, dtype: float64"
      ]
     },
     "metadata": {},
     "output_type": "display_data"
    },
    {
     "name": "stdout",
     "output_type": "stream",
     "text": [
      "count    18041.000000\n",
      "mean     28797.082701\n",
      "std      12632.499735\n",
      "min          0.000000\n",
      "25%      18565.000000\n",
      "50%      26757.000000\n",
      "75%      37273.000000\n",
      "max      84869.000000\n",
      "Name: airports_nearest, dtype: float64\n"
     ]
    }
   ],
   "source": [
    "# изучаем данные в столбце \"расстояние до аэропорта\"\n",
    "plt.hist(data['airports_nearest'], bins=4, range=(0,50000))\n",
    "plt.title('Расстояние до аэропорта')\n",
    "plt.ylabel('Количество квартир')\n",
    "plt.xlabel('Расстояние до аэропорта')\n",
    "plt.show()\n",
    "print('Квартиры с наибольшим расстоянием до аэропорта:')\n",
    "display(data['airports_nearest'].sort_values(ascending=False).head(5))\n",
    "print('Квартиры с наименьшим расстоянием до аэропорта:')\n",
    "display(data['airports_nearest'].sort_values(ascending=True).head(5))\n",
    "print(data['airports_nearest'].describe())"
   ]
  },
  {
   "cell_type": "markdown",
   "metadata": {},
   "source": [
    "**Вывод:**\n",
    "* 11) У 50% квартир расстояние до аэропорта составляет в среденем 27 км"
   ]
  },
  {
   "cell_type": "code",
   "execution_count": 29,
   "metadata": {},
   "outputs": [
    {
     "data": {
      "image/png": "[encoded data removed]",
      "text/plain": [
       "<Figure size 432x288 with 1 Axes>"
      ]
     },
     "metadata": {
      "needs_background": "light"
     },
     "output_type": "display_data"
    },
    {
     "name": "stdout",
     "output_type": "stream",
     "text": [
      "Квартиры с наибольшим расстоянием до парка:\n"
     ]
    },
    {
     "data": {
      "text/plain": [
       "10959    3190.0\n",
       "19430    3190.0\n",
       "1590     3064.0\n",
       "19208    3013.0\n",
       "23080    2984.0\n",
       "Name: parks_nearest, dtype: float64"
      ]
     },
     "metadata": {},
     "output_type": "display_data"
    },
    {
     "name": "stdout",
     "output_type": "stream",
     "text": [
      "Квартиры с наименьшим расстоянием до парка:\n"
     ]
    },
    {
     "data": {
      "text/plain": [
       "14624    1.0\n",
       "11949    3.0\n",
       "22941    4.0\n",
       "9344     7.0\n",
       "20193    9.0\n",
       "Name: parks_nearest, dtype: float64"
      ]
     },
     "metadata": {},
     "output_type": "display_data"
    },
    {
     "name": "stdout",
     "output_type": "stream",
     "text": [
      "count    8030.000000\n",
      "mean      490.580448\n",
      "std       341.572956\n",
      "min         1.000000\n",
      "25%       288.000000\n",
      "50%       455.000000\n",
      "75%       612.000000\n",
      "max      3190.000000\n",
      "Name: parks_nearest, dtype: float64\n"
     ]
    }
   ],
   "source": [
    "# изучаем данные в столбце \"расстояние до парка\"\n",
    "plt.hist(data['parks_nearest'], bins=10, range=(0,1500))\n",
    "plt.title('Расстояние до парка')\n",
    "plt.ylabel('Количество квартир')\n",
    "plt.xlabel('Расстояние до парка')\n",
    "plt.show()\n",
    "print('Квартиры с наибольшим расстоянием до парка:')\n",
    "display(data['parks_nearest'].sort_values(ascending=False).head(5))\n",
    "print('Квартиры с наименьшим расстоянием до парка:')\n",
    "display(data['parks_nearest'].sort_values(ascending=True).head(5))\n",
    "print(data['parks_nearest'].describe())"
   ]
  },
  {
   "cell_type": "markdown",
   "metadata": {},
   "source": [
    "**Вывод:**\n",
    "* 12) Расстояние до парка у большинства квартир составляет от 200 до 700 м"
   ]
  },
  {
   "cell_type": "code",
   "execution_count": 30,
   "metadata": {},
   "outputs": [
    {
     "data": {
      "image/png": "[encoded data removed]",
      "text/plain": [
       "<Figure size 432x288 with 1 Axes>"
      ]
     },
     "metadata": {
      "needs_background": "light"
     },
     "output_type": "display_data"
    },
    {
     "name": "stdout",
     "output_type": "stream",
     "text": [
      "count    23565.000000\n",
      "mean         2.567367\n",
      "std          1.788279\n",
      "min          0.000000\n",
      "25%          1.000000\n",
      "50%          3.000000\n",
      "75%          4.000000\n",
      "max          6.000000\n",
      "Name: day_of_week, dtype: float64\n"
     ]
    }
   ],
   "source": [
    "# изучаем данные в столбце \"день публикации\"\n",
    "plt.hist(data['day_of_week'], bins=7, range=(0,7))\n",
    "plt.title('День публикации')\n",
    "plt.ylabel('Количество квартир')\n",
    "plt.xlabel('День публикации')\n",
    "plt.show()\n",
    "print(data['day_of_week'].describe())"
   ]
  },
  {
   "cell_type": "markdown",
   "metadata": {},
   "source": [
    "**Вывод:**\n",
    "* 13) Большинство объявлений о продаже квартир публикуется в будни"
   ]
  },
  {
   "cell_type": "code",
   "execution_count": 31,
   "metadata": {},
   "outputs": [
    {
     "data": {
      "image/png": "[encoded data removed]",
      "text/plain": [
       "<Figure size 432x288 with 1 Axes>"
      ]
     },
     "metadata": {
      "needs_background": "light"
     },
     "output_type": "display_data"
    },
    {
     "name": "stdout",
     "output_type": "stream",
     "text": [
      "count    23565.000000\n",
      "mean         6.401570\n",
      "std          3.492948\n",
      "min          1.000000\n",
      "25%          3.000000\n",
      "50%          6.000000\n",
      "75%         10.000000\n",
      "max         12.000000\n",
      "Name: month, dtype: float64\n"
     ]
    }
   ],
   "source": [
    "# изучаем данные в столбце \"месяц публикации\"\n",
    "plt.hist(data['month'], bins=12, range=(0,12))\n",
    "plt.title('Месяц публикации')\n",
    "plt.ylabel('Количество квартир')\n",
    "plt.xlabel('Месяц публикации')\n",
    "plt.show()\n",
    "print(data['month'].describe())"
   ]
  },
  {
   "cell_type": "markdown",
   "metadata": {},
   "source": [
    "**Вывод:**\n",
    "* 14) Много объявлений о продаже было размещено в декабре, меньше всего размещалось в январе и мае"
   ]
  },
  {
   "cell_type": "markdown",
   "metadata": {},
   "source": [
    "**Вывод:**\n",
    "* 1) Большинство квартир имеют площадь менее 100 кв.м, при этом среднее значение достигает 60 кв.м. Максимальная площадь, встречающихся в объявлениях квартир достигает 900 кв.м, минимальная 12 кв.м\n",
    "* 2) Максимальная жилая площадь равна 409 кв.м (встречается у 1-2 квартир из 23 тыс. объявл), минимальная - 12 кв.м , среднее значение 34,6 кв.м, медианное 22 кв.м, самы распространенные площади до 50 кв.м\n",
    "* 3) Максимальная площадь кухни равна 112 кв.м (встречается у 1-2 квартир из 23 тыс. объявл), минимальная - 1,3 кв.м (встречается у 1-2 квартир из 23 тыс. объявл), среднее значение 10,5 кв.м, медианное 6 кв.м\n",
    "* 4) Стоимость большинства квартир не превышает 6,5 млн\n",
    "* 5) Большинство квартир содержат 2-3 комнаты, количество 1 комнатных квартир чуть меньше, есть небольшая доля 4 комнатных квартир. \n",
    "* 6) Большинство квартир имеют высоту потолков от 2,5 до 2,8 м. Есть значения в 27 метров, возможно реальная высота равна 2,7 метра.\n",
    "* 7) Квартиры на 1-5 этажах продаются чаще всего\n",
    "* 8) Первый и последний этажи встречаются примерно с одинаковой частотой, остальные этажи в 6 раз чаще, каждого из них \n",
    "* 9) Большего всего продается квартир в 5 этажных домах\n",
    "* 10) Больше чем в 10000 объявлений расстояние до центра города составляет от 10 до 20 км\n",
    "* 11) У 50% квартир расстояние до аэропорта составляет в среденем 27 км\n",
    "* 12) Расстояние до парка у большинства квартир составляет от 200 до 700 м\n",
    "* 13) Большинство объявлений о продаже квартир публикуется в будни\n",
    "* 14) Много объявлений о продаже было размещено в декабре, меньше всего размещалось в январе и мае"
   ]
  },
  {
   "cell_type": "markdown",
   "metadata": {},
   "source": [
    "**4.2. Изучаем, как быстро продавались квартиры**"
   ]
  },
  {
   "cell_type": "code",
   "execution_count": 32,
   "metadata": {},
   "outputs": [
    {
     "name": "stdout",
     "output_type": "stream",
     "text": [
      "Медиана продолжительности времени (по дням) размещения объявления от публикации до снятия: 95\n",
      "Средняя продолжительность времени (по дням) размещения объявления от публикации до снятия: 181\n"
     ]
    },
    {
     "data": {
      "image/png": "[encoded data removed]",
      "text/plain": [
       "<Figure size 432x288 with 1 Axes>"
      ]
     },
     "metadata": {
      "needs_background": "light"
     },
     "output_type": "display_data"
    },
    {
     "name": "stdout",
     "output_type": "stream",
     "text": [
      "count    20394.000000\n",
      "mean       180.741395\n",
      "std        219.732782\n",
      "min          1.000000\n",
      "25%         45.000000\n",
      "50%         95.000000\n",
      "75%        231.000000\n",
      "max       1580.000000\n",
      "Name: days_exposition, dtype: float64\n"
     ]
    }
   ],
   "source": [
    "# отбросим нулевые значения и рассчитаем медиану по столбцу days_exposition\n",
    "print('Медиана продолжительности времени (по дням) размещения объявления от публикации до снятия:',\n",
    "      round(data.query('days_exposition !=0')['days_exposition'].median()))\n",
    "# отбросим нулевые значения и рассчитаем среднее по столбцу days_exposition\n",
    "print('Средняя продолжительность времени (по дням) размещения объявления от публикации до снятия:',\n",
    "      round(data.query('days_exposition !=0')['days_exposition'].mean()))\n",
    "# построим гистограмму времени размещения объявлении о продаже квартир\n",
    "plt.hist(data.query('days_exposition !=0')['days_exposition'], bins=100, range=(0,100))\n",
    "plt.title('Время размещения объявления о продаже квартиры')\n",
    "plt.ylabel('Количество квартир')\n",
    "plt.xlabel('Время размещения объявления')\n",
    "plt.show()\n",
    "print(data.query('days_exposition !=0')['days_exposition'].describe())"
   ]
  },
  {
   "cell_type": "markdown",
   "metadata": {},
   "source": [
    "**Вывод:**\n",
    "* Медиана продолжительности продажи квартиры составила 95 дней, а средняя продолжительность составила 181. Большая часть квартир продается за срок до 100 дней. Есть квартиры, которые были проданы в срок до 10 дней, максимальное время продажи квартиры составило 1580 дней. Быстрой продажей можно назвать срок до 45 дней, долгой больше 230."
   ]
  },
  {
   "cell_type": "code",
   "execution_count": 33,
   "metadata": {},
   "outputs": [
    {
     "data": {
      "text/html": [
       "<div>\n",
       "<style scoped>\n",
       "    .dataframe tbody tr th:only-of-type {\n",
       "        vertical-align: middle;\n",
       "    }\n",
       "\n",
       "    .dataframe tbody tr th {\n",
       "        vertical-align: top;\n",
       "    }\n",
       "\n",
       "    .dataframe thead th {\n",
       "        text-align: right;\n",
       "    }\n",
       "</style>\n",
       "<table border=\"1\" class=\"dataframe\">\n",
       "  <thead>\n",
       "    <tr style=\"text-align: right;\">\n",
       "      <th></th>\n",
       "      <th>total_images</th>\n",
       "      <th>last_price</th>\n",
       "      <th>total_area</th>\n",
       "      <th>rooms</th>\n",
       "      <th>ceiling_height</th>\n",
       "      <th>floors_total</th>\n",
       "      <th>living_area</th>\n",
       "      <th>floor</th>\n",
       "      <th>kitchen_area</th>\n",
       "      <th>balcony</th>\n",
       "      <th>...</th>\n",
       "      <th>parks_around3000</th>\n",
       "      <th>parks_nearest</th>\n",
       "      <th>ponds_around3000</th>\n",
       "      <th>ponds_nearest</th>\n",
       "      <th>days_exposition</th>\n",
       "      <th>sqmetr_price</th>\n",
       "      <th>day_of_week</th>\n",
       "      <th>month</th>\n",
       "      <th>year</th>\n",
       "      <th>distance_city_center</th>\n",
       "    </tr>\n",
       "  </thead>\n",
       "  <tbody>\n",
       "    <tr>\n",
       "      <th>count</th>\n",
       "      <td>23565.000000</td>\n",
       "      <td>2.151900e+04</td>\n",
       "      <td>22326.000000</td>\n",
       "      <td>23371.000000</td>\n",
       "      <td>21837.000000</td>\n",
       "      <td>23565.000000</td>\n",
       "      <td>22682.000000</td>\n",
       "      <td>23565.000000</td>\n",
       "      <td>22250.000000</td>\n",
       "      <td>23565.000000</td>\n",
       "      <td>...</td>\n",
       "      <td>23565.000000</td>\n",
       "      <td>8030.000000</td>\n",
       "      <td>23565.000000</td>\n",
       "      <td>9036.000000</td>\n",
       "      <td>21539.000000</td>\n",
       "      <td>2.356500e+04</td>\n",
       "      <td>23565.000000</td>\n",
       "      <td>23565.000000</td>\n",
       "      <td>23565.000000</td>\n",
       "      <td>18064.000000</td>\n",
       "    </tr>\n",
       "    <tr>\n",
       "      <th>mean</th>\n",
       "      <td>9.878421</td>\n",
       "      <td>4.837115e+06</td>\n",
       "      <td>54.319704</td>\n",
       "      <td>2.030208</td>\n",
       "      <td>2.659333</td>\n",
       "      <td>10.675875</td>\n",
       "      <td>31.526984</td>\n",
       "      <td>5.878124</td>\n",
       "      <td>9.417840</td>\n",
       "      <td>0.593677</td>\n",
       "      <td>...</td>\n",
       "      <td>0.468831</td>\n",
       "      <td>490.580448</td>\n",
       "      <td>0.589900</td>\n",
       "      <td>518.289509</td>\n",
       "      <td>103.573889</td>\n",
       "      <td>9.940539e+04</td>\n",
       "      <td>2.567367</td>\n",
       "      <td>6.401570</td>\n",
       "      <td>2017.371016</td>\n",
       "      <td>14.186504</td>\n",
       "    </tr>\n",
       "    <tr>\n",
       "      <th>std</th>\n",
       "      <td>5.681156</td>\n",
       "      <td>2.215774e+06</td>\n",
       "      <td>19.331030</td>\n",
       "      <td>0.973563</td>\n",
       "      <td>0.143003</td>\n",
       "      <td>6.594823</td>\n",
       "      <td>13.752739</td>\n",
       "      <td>4.871485</td>\n",
       "      <td>3.177523</td>\n",
       "      <td>0.960660</td>\n",
       "      <td>...</td>\n",
       "      <td>0.748403</td>\n",
       "      <td>341.572956</td>\n",
       "      <td>0.883966</td>\n",
       "      <td>278.009558</td>\n",
       "      <td>111.664697</td>\n",
       "      <td>5.038944e+04</td>\n",
       "      <td>1.788279</td>\n",
       "      <td>3.492948</td>\n",
       "      <td>1.037393</td>\n",
       "      <td>8.621131</td>\n",
       "    </tr>\n",
       "    <tr>\n",
       "      <th>min</th>\n",
       "      <td>0.000000</td>\n",
       "      <td>1.219000e+04</td>\n",
       "      <td>12.000000</td>\n",
       "      <td>0.000000</td>\n",
       "      <td>2.250000</td>\n",
       "      <td>1.000000</td>\n",
       "      <td>2.000000</td>\n",
       "      <td>1.000000</td>\n",
       "      <td>1.300000</td>\n",
       "      <td>0.000000</td>\n",
       "      <td>...</td>\n",
       "      <td>0.000000</td>\n",
       "      <td>1.000000</td>\n",
       "      <td>0.000000</td>\n",
       "      <td>13.000000</td>\n",
       "      <td>0.000000</td>\n",
       "      <td>1.110000e+02</td>\n",
       "      <td>0.000000</td>\n",
       "      <td>1.000000</td>\n",
       "      <td>2014.000000</td>\n",
       "      <td>0.000000</td>\n",
       "    </tr>\n",
       "    <tr>\n",
       "      <th>25%</th>\n",
       "      <td>6.000000</td>\n",
       "      <td>3.300000e+06</td>\n",
       "      <td>39.400000</td>\n",
       "      <td>1.000000</td>\n",
       "      <td>2.550000</td>\n",
       "      <td>5.000000</td>\n",
       "      <td>18.700000</td>\n",
       "      <td>2.000000</td>\n",
       "      <td>7.000000</td>\n",
       "      <td>0.000000</td>\n",
       "      <td>...</td>\n",
       "      <td>0.000000</td>\n",
       "      <td>288.000000</td>\n",
       "      <td>0.000000</td>\n",
       "      <td>293.000000</td>\n",
       "      <td>18.000000</td>\n",
       "      <td>7.656600e+04</td>\n",
       "      <td>1.000000</td>\n",
       "      <td>3.000000</td>\n",
       "      <td>2017.000000</td>\n",
       "      <td>9.000000</td>\n",
       "    </tr>\n",
       "    <tr>\n",
       "      <th>50%</th>\n",
       "      <td>9.000000</td>\n",
       "      <td>4.400000e+06</td>\n",
       "      <td>50.000000</td>\n",
       "      <td>2.000000</td>\n",
       "      <td>2.640000</td>\n",
       "      <td>9.000000</td>\n",
       "      <td>30.000000</td>\n",
       "      <td>4.000000</td>\n",
       "      <td>9.000000</td>\n",
       "      <td>0.000000</td>\n",
       "      <td>...</td>\n",
       "      <td>0.000000</td>\n",
       "      <td>455.000000</td>\n",
       "      <td>0.000000</td>\n",
       "      <td>503.000000</td>\n",
       "      <td>60.000000</td>\n",
       "      <td>9.500000e+04</td>\n",
       "      <td>3.000000</td>\n",
       "      <td>6.000000</td>\n",
       "      <td>2017.000000</td>\n",
       "      <td>13.000000</td>\n",
       "    </tr>\n",
       "    <tr>\n",
       "      <th>75%</th>\n",
       "      <td>14.000000</td>\n",
       "      <td>6.000000e+06</td>\n",
       "      <td>65.500000</td>\n",
       "      <td>3.000000</td>\n",
       "      <td>2.750000</td>\n",
       "      <td>16.000000</td>\n",
       "      <td>40.600000</td>\n",
       "      <td>8.000000</td>\n",
       "      <td>11.000000</td>\n",
       "      <td>1.000000</td>\n",
       "      <td>...</td>\n",
       "      <td>1.000000</td>\n",
       "      <td>612.000000</td>\n",
       "      <td>1.000000</td>\n",
       "      <td>730.000000</td>\n",
       "      <td>153.000000</td>\n",
       "      <td>1.142130e+05</td>\n",
       "      <td>4.000000</td>\n",
       "      <td>10.000000</td>\n",
       "      <td>2018.000000</td>\n",
       "      <td>16.000000</td>\n",
       "    </tr>\n",
       "    <tr>\n",
       "      <th>max</th>\n",
       "      <td>50.000000</td>\n",
       "      <td>1.186686e+07</td>\n",
       "      <td>114.200000</td>\n",
       "      <td>5.000000</td>\n",
       "      <td>3.050000</td>\n",
       "      <td>60.000000</td>\n",
       "      <td>76.700000</td>\n",
       "      <td>33.000000</td>\n",
       "      <td>19.450000</td>\n",
       "      <td>5.000000</td>\n",
       "      <td>...</td>\n",
       "      <td>3.000000</td>\n",
       "      <td>3190.000000</td>\n",
       "      <td>3.000000</td>\n",
       "      <td>1344.000000</td>\n",
       "      <td>461.000000</td>\n",
       "      <td>1.907500e+06</td>\n",
       "      <td>6.000000</td>\n",
       "      <td>12.000000</td>\n",
       "      <td>2019.000000</td>\n",
       "      <td>66.000000</td>\n",
       "    </tr>\n",
       "  </tbody>\n",
       "</table>\n",
       "<p>8 rows × 22 columns</p>\n",
       "</div>"
      ],
      "text/plain": [
       "       total_images    last_price    total_area         rooms  ceiling_height  \\\n",
       "count  23565.000000  2.151900e+04  22326.000000  23371.000000    21837.000000   \n",
       "mean       9.878421  4.837115e+06     54.319704      2.030208        2.659333   \n",
       "std        5.681156  2.215774e+06     19.331030      0.973563        0.143003   \n",
       "min        0.000000  1.219000e+04     12.000000      0.000000        2.250000   \n",
       "25%        6.000000  3.300000e+06     39.400000      1.000000        2.550000   \n",
       "50%        9.000000  4.400000e+06     50.000000      2.000000        2.640000   \n",
       "75%       14.000000  6.000000e+06     65.500000      3.000000        2.750000   \n",
       "max       50.000000  1.186686e+07    114.200000      5.000000        3.050000   \n",
       "\n",
       "       floors_total   living_area         floor  kitchen_area       balcony  \\\n",
       "count  23565.000000  22682.000000  23565.000000  22250.000000  23565.000000   \n",
       "mean      10.675875     31.526984      5.878124      9.417840      0.593677   \n",
       "std        6.594823     13.752739      4.871485      3.177523      0.960660   \n",
       "min        1.000000      2.000000      1.000000      1.300000      0.000000   \n",
       "25%        5.000000     18.700000      2.000000      7.000000      0.000000   \n",
       "50%        9.000000     30.000000      4.000000      9.000000      0.000000   \n",
       "75%       16.000000     40.600000      8.000000     11.000000      1.000000   \n",
       "max       60.000000     76.700000     33.000000     19.450000      5.000000   \n",
       "\n",
       "       ...  parks_around3000  parks_nearest  ponds_around3000  ponds_nearest  \\\n",
       "count  ...      23565.000000    8030.000000      23565.000000    9036.000000   \n",
       "mean   ...          0.468831     490.580448          0.589900     518.289509   \n",
       "std    ...          0.748403     341.572956          0.883966     278.009558   \n",
       "min    ...          0.000000       1.000000          0.000000      13.000000   \n",
       "25%    ...          0.000000     288.000000          0.000000     293.000000   \n",
       "50%    ...          0.000000     455.000000          0.000000     503.000000   \n",
       "75%    ...          1.000000     612.000000          1.000000     730.000000   \n",
       "max    ...          3.000000    3190.000000          3.000000    1344.000000   \n",
       "\n",
       "       days_exposition  sqmetr_price   day_of_week         month  \\\n",
       "count     21539.000000  2.356500e+04  23565.000000  23565.000000   \n",
       "mean        103.573889  9.940539e+04      2.567367      6.401570   \n",
       "std         111.664697  5.038944e+04      1.788279      3.492948   \n",
       "min           0.000000  1.110000e+02      0.000000      1.000000   \n",
       "25%          18.000000  7.656600e+04      1.000000      3.000000   \n",
       "50%          60.000000  9.500000e+04      3.000000      6.000000   \n",
       "75%         153.000000  1.142130e+05      4.000000     10.000000   \n",
       "max         461.000000  1.907500e+06      6.000000     12.000000   \n",
       "\n",
       "               year  distance_city_center  \n",
       "count  23565.000000          18064.000000  \n",
       "mean    2017.371016             14.186504  \n",
       "std        1.037393              8.621131  \n",
       "min     2014.000000              0.000000  \n",
       "25%     2017.000000              9.000000  \n",
       "50%     2017.000000             13.000000  \n",
       "75%     2018.000000             16.000000  \n",
       "max     2019.000000             66.000000  \n",
       "\n",
       "[8 rows x 22 columns]"
      ]
     },
     "metadata": {},
     "output_type": "display_data"
    }
   ],
   "source": [
    "# отфильтруем редкие и выбивающиеся значения на основе 1,5 размаха.\n",
    "# запишем функцию для посчета границ\n",
    "def quar (table, column):\n",
    "    q1 = table[column].quantile(0.25)\n",
    "    q3 = table[column].quantile(0.75)\n",
    "    iqr = q3 - q1\n",
    "    tableq = table.loc[(table[column] < q3 + 1.5*iqr) & (table[column] > q1 - 1.5*iqr), column]\n",
    "    return tableq\n",
    "list_column = ['last_price', 'total_area', 'kitchen_area', 'living_area', 'days_exposition', 'ceiling_height', 'rooms']\n",
    "for i in list_column:\n",
    "    data[i] = quar(data, i)\n",
    "display(data.describe())"
   ]
  },
  {
   "cell_type": "markdown",
   "metadata": {},
   "source": [
    "**4.3. Изучаем, какие факторы больше всего влияют на общую стоимость объекта**"
   ]
  },
  {
   "cell_type": "code",
   "execution_count": 34,
   "metadata": {},
   "outputs": [
    {
     "data": {
      "image/png": "[encoded data removed]",
      "text/plain": [
       "<Figure size 360x360 with 1 Axes>"
      ]
     },
     "metadata": {
      "needs_background": "light"
     },
     "output_type": "display_data"
    },
    {
     "name": "stdout",
     "output_type": "stream",
     "text": [
      "Корреляция цены и общей площади:\n"
     ]
    },
    {
     "data": {
      "text/html": [
       "<div>\n",
       "<style scoped>\n",
       "    .dataframe tbody tr th:only-of-type {\n",
       "        vertical-align: middle;\n",
       "    }\n",
       "\n",
       "    .dataframe tbody tr th {\n",
       "        vertical-align: top;\n",
       "    }\n",
       "\n",
       "    .dataframe thead th {\n",
       "        text-align: right;\n",
       "    }\n",
       "</style>\n",
       "<table border=\"1\" class=\"dataframe\">\n",
       "  <thead>\n",
       "    <tr style=\"text-align: right;\">\n",
       "      <th></th>\n",
       "      <th>last_price</th>\n",
       "      <th>total_area</th>\n",
       "    </tr>\n",
       "  </thead>\n",
       "  <tbody>\n",
       "    <tr>\n",
       "      <th>last_price</th>\n",
       "      <td>1.000000</td>\n",
       "      <td>0.905372</td>\n",
       "    </tr>\n",
       "    <tr>\n",
       "      <th>total_area</th>\n",
       "      <td>0.905372</td>\n",
       "      <td>1.000000</td>\n",
       "    </tr>\n",
       "  </tbody>\n",
       "</table>\n",
       "</div>"
      ],
      "text/plain": [
       "            last_price  total_area\n",
       "last_price    1.000000    0.905372\n",
       "total_area    0.905372    1.000000"
      ]
     },
     "metadata": {},
     "output_type": "display_data"
    }
   ],
   "source": [
    "# Исследуем зависимость цены от общей площади, применив перед визуализацией сводные таблицы\n",
    "data.pivot_table(index='total_area', values='last_price').plot(grid=True, style='o', figsize=(5, 5))\n",
    "plt.show()\n",
    "print('Корреляция цены и общей площади:')\n",
    "display(data.pivot_table(index='floor', values=['total_area', 'last_price']).corr())"
   ]
  },
  {
   "cell_type": "markdown",
   "metadata": {},
   "source": [
    "**Выводы:** \n",
    "* 1) корреляция **общей площади и цены** высокая и составляет 0.905 (чем больше площадь, тем больше цена)"
   ]
  },
  {
   "cell_type": "code",
   "execution_count": 35,
   "metadata": {},
   "outputs": [
    {
     "data": {
      "image/png": "[encoded data removed]",
      "text/plain": [
       "<Figure size 360x360 with 1 Axes>"
      ]
     },
     "metadata": {
      "needs_background": "light"
     },
     "output_type": "display_data"
    },
    {
     "name": "stdout",
     "output_type": "stream",
     "text": [
      "Корреляция цены и жилой площади:\n"
     ]
    },
    {
     "data": {
      "text/html": [
       "<div>\n",
       "<style scoped>\n",
       "    .dataframe tbody tr th:only-of-type {\n",
       "        vertical-align: middle;\n",
       "    }\n",
       "\n",
       "    .dataframe tbody tr th {\n",
       "        vertical-align: top;\n",
       "    }\n",
       "\n",
       "    .dataframe thead th {\n",
       "        text-align: right;\n",
       "    }\n",
       "</style>\n",
       "<table border=\"1\" class=\"dataframe\">\n",
       "  <thead>\n",
       "    <tr style=\"text-align: right;\">\n",
       "      <th></th>\n",
       "      <th>last_price</th>\n",
       "      <th>living_area</th>\n",
       "    </tr>\n",
       "  </thead>\n",
       "  <tbody>\n",
       "    <tr>\n",
       "      <th>last_price</th>\n",
       "      <td>1.000000</td>\n",
       "      <td>0.729359</td>\n",
       "    </tr>\n",
       "    <tr>\n",
       "      <th>living_area</th>\n",
       "      <td>0.729359</td>\n",
       "      <td>1.000000</td>\n",
       "    </tr>\n",
       "  </tbody>\n",
       "</table>\n",
       "</div>"
      ],
      "text/plain": [
       "             last_price  living_area\n",
       "last_price     1.000000     0.729359\n",
       "living_area    0.729359     1.000000"
      ]
     },
     "metadata": {},
     "output_type": "display_data"
    }
   ],
   "source": [
    "# Исследуем зависимость цены от жилой площади, применив перед визуализацией сводные таблицы\n",
    "data.pivot_table(index='living_area', values='last_price').plot(grid=True, style='o', figsize=(5, 5))\n",
    "plt.show()\n",
    "print('Корреляция цены и жилой площади:')\n",
    "display(data.pivot_table(index='floor', values=['living_area', 'last_price']).corr())"
   ]
  },
  {
   "cell_type": "markdown",
   "metadata": {},
   "source": [
    "**Выводы:** \n",
    "* 2) корреляция **жилой площади и цены** чуть меньше и составляет 0.73 "
   ]
  },
  {
   "cell_type": "code",
   "execution_count": 36,
   "metadata": {
    "scrolled": true
   },
   "outputs": [
    {
     "data": {
      "image/png": "[encoded data removed]",
      "text/plain": [
       "<Figure size 360x360 with 1 Axes>"
      ]
     },
     "metadata": {
      "needs_background": "light"
     },
     "output_type": "display_data"
    },
    {
     "name": "stdout",
     "output_type": "stream",
     "text": [
      "Корреляция цены и площади кухни:\n"
     ]
    },
    {
     "data": {
      "text/html": [
       "<div>\n",
       "<style scoped>\n",
       "    .dataframe tbody tr th:only-of-type {\n",
       "        vertical-align: middle;\n",
       "    }\n",
       "\n",
       "    .dataframe tbody tr th {\n",
       "        vertical-align: top;\n",
       "    }\n",
       "\n",
       "    .dataframe thead th {\n",
       "        text-align: right;\n",
       "    }\n",
       "</style>\n",
       "<table border=\"1\" class=\"dataframe\">\n",
       "  <thead>\n",
       "    <tr style=\"text-align: right;\">\n",
       "      <th></th>\n",
       "      <th>kitchen_area</th>\n",
       "      <th>last_price</th>\n",
       "    </tr>\n",
       "  </thead>\n",
       "  <tbody>\n",
       "    <tr>\n",
       "      <th>kitchen_area</th>\n",
       "      <td>1.000000</td>\n",
       "      <td>0.445313</td>\n",
       "    </tr>\n",
       "    <tr>\n",
       "      <th>last_price</th>\n",
       "      <td>0.445313</td>\n",
       "      <td>1.000000</td>\n",
       "    </tr>\n",
       "  </tbody>\n",
       "</table>\n",
       "</div>"
      ],
      "text/plain": [
       "              kitchen_area  last_price\n",
       "kitchen_area      1.000000    0.445313\n",
       "last_price        0.445313    1.000000"
      ]
     },
     "metadata": {},
     "output_type": "display_data"
    }
   ],
   "source": [
    "# Исследуем зависимость цены от площади кухни, применив перед визуализацией сводные таблицы\n",
    "data.pivot_table(index='kitchen_area', values='last_price').plot(grid=True, style='o', figsize=(5, 5))\n",
    "plt.show()\n",
    "print('Корреляция цены и площади кухни:')\n",
    "display(data.pivot_table(index='floor', values=['kitchen_area', 'last_price']).corr())"
   ]
  },
  {
   "cell_type": "markdown",
   "metadata": {},
   "source": [
    "**Выводы:** \n",
    "* 3) корреляция **площади кухни и цены** составляет 0.45 (не всегда, чем больше площадь кухни, тем выше цена)"
   ]
  },
  {
   "cell_type": "code",
   "execution_count": 37,
   "metadata": {},
   "outputs": [
    {
     "data": {
      "image/png": "[encoded data removed]",
      "text/plain": [
       "<Figure size 360x360 with 1 Axes>"
      ]
     },
     "metadata": {
      "needs_background": "light"
     },
     "output_type": "display_data"
    },
    {
     "name": "stdout",
     "output_type": "stream",
     "text": [
      "Корреляция цены и количества комнат:\n"
     ]
    },
    {
     "data": {
      "text/html": [
       "<div>\n",
       "<style scoped>\n",
       "    .dataframe tbody tr th:only-of-type {\n",
       "        vertical-align: middle;\n",
       "    }\n",
       "\n",
       "    .dataframe tbody tr th {\n",
       "        vertical-align: top;\n",
       "    }\n",
       "\n",
       "    .dataframe thead th {\n",
       "        text-align: right;\n",
       "    }\n",
       "</style>\n",
       "<table border=\"1\" class=\"dataframe\">\n",
       "  <thead>\n",
       "    <tr style=\"text-align: right;\">\n",
       "      <th></th>\n",
       "      <th>last_price</th>\n",
       "      <th>rooms</th>\n",
       "    </tr>\n",
       "  </thead>\n",
       "  <tbody>\n",
       "    <tr>\n",
       "      <th>last_price</th>\n",
       "      <td>1.000000</td>\n",
       "      <td>0.537551</td>\n",
       "    </tr>\n",
       "    <tr>\n",
       "      <th>rooms</th>\n",
       "      <td>0.537551</td>\n",
       "      <td>1.000000</td>\n",
       "    </tr>\n",
       "  </tbody>\n",
       "</table>\n",
       "</div>"
      ],
      "text/plain": [
       "            last_price     rooms\n",
       "last_price    1.000000  0.537551\n",
       "rooms         0.537551  1.000000"
      ]
     },
     "metadata": {},
     "output_type": "display_data"
    }
   ],
   "source": [
    "# Исследуем зависимость цены от количества комнат, применив перед визуализацией сводные таблицы\n",
    "data.query('rooms > 0').pivot_table(index='rooms', values='last_price').plot(grid=True, style='o-', figsize=(5, 5))\n",
    "plt.show()\n",
    "print('Корреляция цены и количества комнат:')\n",
    "display(data.query('rooms > 0').pivot_table(index='floor', values=['rooms', 'last_price']).corr())"
   ]
  },
  {
   "cell_type": "markdown",
   "metadata": {},
   "source": [
    "**Выводы:** \n",
    "* 4) корреляция **количества комнат и цены** равна 0.54 (бывает, что комнат много, но они очень маленькие по метражу)"
   ]
  },
  {
   "cell_type": "code",
   "execution_count": 38,
   "metadata": {},
   "outputs": [
    {
     "data": {
      "image/png": "[encoded data removed]",
      "text/plain": [
       "<Figure size 360x360 with 1 Axes>"
      ]
     },
     "metadata": {
      "needs_background": "light"
     },
     "output_type": "display_data"
    }
   ],
   "source": [
    "# Исследуем зависимость цены от этажа, применив перед визуализацией сводные таблицы\n",
    "data.pivot_table(index='name_floor_type', values='last_price').plot(grid=True, style='o-', figsize=(5, 5))\n",
    "plt.show()"
   ]
  },
  {
   "cell_type": "markdown",
   "metadata": {},
   "source": [
    "**Выводы:** \n",
    "* 5) **стоимость квартир на** последнем **этаже** выше, чем на первом, но значительно ниже, чем на лбом другом"
   ]
  },
  {
   "cell_type": "code",
   "execution_count": 39,
   "metadata": {},
   "outputs": [
    {
     "data": {
      "image/png": "[encoded data removed]",
      "text/plain": [
       "<Figure size 360x360 with 1 Axes>"
      ]
     },
     "metadata": {
      "needs_background": "light"
     },
     "output_type": "display_data"
    },
    {
     "name": "stdout",
     "output_type": "stream",
     "text": [
      "Корреляция цены и дня недели:\n"
     ]
    },
    {
     "data": {
      "text/html": [
       "<div>\n",
       "<style scoped>\n",
       "    .dataframe tbody tr th:only-of-type {\n",
       "        vertical-align: middle;\n",
       "    }\n",
       "\n",
       "    .dataframe tbody tr th {\n",
       "        vertical-align: top;\n",
       "    }\n",
       "\n",
       "    .dataframe thead th {\n",
       "        text-align: right;\n",
       "    }\n",
       "</style>\n",
       "<table border=\"1\" class=\"dataframe\">\n",
       "  <thead>\n",
       "    <tr style=\"text-align: right;\">\n",
       "      <th></th>\n",
       "      <th>day_of_week</th>\n",
       "      <th>last_price</th>\n",
       "    </tr>\n",
       "  </thead>\n",
       "  <tbody>\n",
       "    <tr>\n",
       "      <th>day_of_week</th>\n",
       "      <td>1.000000</td>\n",
       "      <td>0.668132</td>\n",
       "    </tr>\n",
       "    <tr>\n",
       "      <th>last_price</th>\n",
       "      <td>0.668132</td>\n",
       "      <td>1.000000</td>\n",
       "    </tr>\n",
       "  </tbody>\n",
       "</table>\n",
       "</div>"
      ],
      "text/plain": [
       "             day_of_week  last_price\n",
       "day_of_week     1.000000    0.668132\n",
       "last_price      0.668132    1.000000"
      ]
     },
     "metadata": {},
     "output_type": "display_data"
    }
   ],
   "source": [
    "# Исследуем зависимость цены от дня недели, применив перед визуализацией сводные таблицы\n",
    "data.pivot_table(index='day_of_week', values='last_price').plot(grid=True, style='o-', figsize=(5, 5))\n",
    "plt.show()\n",
    "print('Корреляция цены и дня недели:')\n",
    "display(data.pivot_table(index='floor', values=['day_of_week', 'last_price']).corr())"
   ]
  },
  {
   "cell_type": "markdown",
   "metadata": {},
   "source": [
    "**Выводы:** \n",
    "* 6) корреляция **цены и дня недели** достаточно большая и составляет 0.67 (цена уменьшается к концу рабочей недели)"
   ]
  },
  {
   "cell_type": "code",
   "execution_count": 40,
   "metadata": {},
   "outputs": [
    {
     "data": {
      "image/png": "[encoded data removed]",
      "text/plain": [
       "<Figure size 360x360 with 1 Axes>"
      ]
     },
     "metadata": {
      "needs_background": "light"
     },
     "output_type": "display_data"
    },
    {
     "name": "stdout",
     "output_type": "stream",
     "text": [
      "Корреляция цены и месяца:\n"
     ]
    },
    {
     "data": {
      "text/html": [
       "<div>\n",
       "<style scoped>\n",
       "    .dataframe tbody tr th:only-of-type {\n",
       "        vertical-align: middle;\n",
       "    }\n",
       "\n",
       "    .dataframe tbody tr th {\n",
       "        vertical-align: top;\n",
       "    }\n",
       "\n",
       "    .dataframe thead th {\n",
       "        text-align: right;\n",
       "    }\n",
       "</style>\n",
       "<table border=\"1\" class=\"dataframe\">\n",
       "  <thead>\n",
       "    <tr style=\"text-align: right;\">\n",
       "      <th></th>\n",
       "      <th>last_price</th>\n",
       "      <th>month</th>\n",
       "    </tr>\n",
       "  </thead>\n",
       "  <tbody>\n",
       "    <tr>\n",
       "      <th>last_price</th>\n",
       "      <td>1.000000</td>\n",
       "      <td>0.031709</td>\n",
       "    </tr>\n",
       "    <tr>\n",
       "      <th>month</th>\n",
       "      <td>0.031709</td>\n",
       "      <td>1.000000</td>\n",
       "    </tr>\n",
       "  </tbody>\n",
       "</table>\n",
       "</div>"
      ],
      "text/plain": [
       "            last_price     month\n",
       "last_price    1.000000  0.031709\n",
       "month         0.031709  1.000000"
      ]
     },
     "metadata": {},
     "output_type": "display_data"
    }
   ],
   "source": [
    "# Исследуем зависимость цены от месяца, применив перед визуализацией сводные таблицы\n",
    "data.pivot_table(index='month', values='last_price').plot(grid=True, style='o-', figsize=(5, 5))\n",
    "plt.show()\n",
    "print('Корреляция цены и месяца:')\n",
    "display(data.pivot_table(index='floor', values=['month', 'last_price']).corr())"
   ]
  },
  {
   "cell_type": "markdown",
   "metadata": {},
   "source": [
    "**Выводы:** \n",
    "* 7) корреляция **цены и месяца** очень мала, согласно графику дешевле всех квартиры с июня, а дороже с апреля и сентября"
   ]
  },
  {
   "cell_type": "code",
   "execution_count": 41,
   "metadata": {},
   "outputs": [
    {
     "data": {
      "image/png": "[encoded data removed]",
      "text/plain": [
       "<Figure size 360x360 with 1 Axes>"
      ]
     },
     "metadata": {
      "needs_background": "light"
     },
     "output_type": "display_data"
    },
    {
     "name": "stdout",
     "output_type": "stream",
     "text": [
      "Корреляция цены и года:\n"
     ]
    },
    {
     "data": {
      "text/html": [
       "<div>\n",
       "<style scoped>\n",
       "    .dataframe tbody tr th:only-of-type {\n",
       "        vertical-align: middle;\n",
       "    }\n",
       "\n",
       "    .dataframe tbody tr th {\n",
       "        vertical-align: top;\n",
       "    }\n",
       "\n",
       "    .dataframe thead th {\n",
       "        text-align: right;\n",
       "    }\n",
       "</style>\n",
       "<table border=\"1\" class=\"dataframe\">\n",
       "  <thead>\n",
       "    <tr style=\"text-align: right;\">\n",
       "      <th></th>\n",
       "      <th>last_price</th>\n",
       "      <th>year</th>\n",
       "    </tr>\n",
       "  </thead>\n",
       "  <tbody>\n",
       "    <tr>\n",
       "      <th>last_price</th>\n",
       "      <td>1.000000</td>\n",
       "      <td>0.073543</td>\n",
       "    </tr>\n",
       "    <tr>\n",
       "      <th>year</th>\n",
       "      <td>0.073543</td>\n",
       "      <td>1.000000</td>\n",
       "    </tr>\n",
       "  </tbody>\n",
       "</table>\n",
       "</div>"
      ],
      "text/plain": [
       "            last_price      year\n",
       "last_price    1.000000  0.073543\n",
       "year          0.073543  1.000000"
      ]
     },
     "metadata": {},
     "output_type": "display_data"
    }
   ],
   "source": [
    "# Исследуем зависимость цены от года, применив перед визуализацией сводные таблицы\n",
    "data.pivot_table(index='year', values='last_price').plot(grid=True, style='o-', figsize=(5, 5))\n",
    "plt.show()\n",
    "print('Корреляция цены и года:')\n",
    "display(data.pivot_table(index='floor', values=['year', 'last_price']).corr())"
   ]
  },
  {
   "cell_type": "markdown",
   "metadata": {},
   "source": [
    "**Выводы:** \n",
    "* 8) в 2016-2018 годах цена на квартиры упала, в 2014 была самой высокой, с 2018 стала снова подниматься (корреляция цены и года низкая)"
   ]
  },
  {
   "cell_type": "markdown",
   "metadata": {},
   "source": [
    "**Выводы:** \n",
    "* 1) корреляция **общей площади и цены** высокая и составляет 0.905 (чем больше площадь, тем больше цена)\n",
    "* 2) корреляция **жилой площади и цены** чуть меньше и составляет 0.73 \n",
    "* 3) корреляция **площади кухни и цены** составляет 0.45 (не всегда, чем больше площадь кухни, тем выше цена)\n",
    "* 4) корреляция **количества комнат и цены** равна 0.54 (бывает, что комнат много, но они очень маленькие по метражу)\n",
    "* 5) **стоимость квартир на** последнем **этаже** выше, чем на первом, но значительно ниже, чем на лбом другом\n",
    "* 6) корреляция **цены и дня недели** достаточно большая и составляет 0.67 (цена уменьшается к концу рабочей недели)\n",
    "* 7) корреляция **цены и месяца** очень мала, согласно графику дешевле всех квартиры с июня, а дороже с апреля и сентября\n",
    "* 8) в 2016-2018 годах цена на квартиры упала, в 2014 была самой высокой, с 2018 стала снова подниматься (корреляция цены и года низкая)"
   ]
  },
  {
   "cell_type": "markdown",
   "metadata": {},
   "source": [
    "**4.4. Рассчитываем среднюю цену одного квадратного метра в 10 населенных пунктах с наибольшим числом объявлений**"
   ]
  },
  {
   "cell_type": "code",
   "execution_count": 42,
   "metadata": {},
   "outputs": [
    {
     "data": {
      "text/html": [
       "<div>\n",
       "<style scoped>\n",
       "    .dataframe tbody tr th:only-of-type {\n",
       "        vertical-align: middle;\n",
       "    }\n",
       "\n",
       "    .dataframe tbody tr th {\n",
       "        vertical-align: top;\n",
       "    }\n",
       "\n",
       "    .dataframe thead th {\n",
       "        text-align: right;\n",
       "    }\n",
       "</style>\n",
       "<table border=\"1\" class=\"dataframe\">\n",
       "  <thead>\n",
       "    <tr style=\"text-align: right;\">\n",
       "      <th></th>\n",
       "      <th>sqmetr_price</th>\n",
       "    </tr>\n",
       "    <tr>\n",
       "      <th>locality_name</th>\n",
       "      <th></th>\n",
       "    </tr>\n",
       "  </thead>\n",
       "  <tbody>\n",
       "    <tr>\n",
       "      <th>Санкт-Петербург</th>\n",
       "      <td>104774.0</td>\n",
       "    </tr>\n",
       "    <tr>\n",
       "      <th>Пушкин</th>\n",
       "      <td>100000.0</td>\n",
       "    </tr>\n",
       "    <tr>\n",
       "      <th>деревня Кудрово</th>\n",
       "      <td>91860.0</td>\n",
       "    </tr>\n",
       "    <tr>\n",
       "      <th>поселок Парголово</th>\n",
       "      <td>91642.0</td>\n",
       "    </tr>\n",
       "    <tr>\n",
       "      <th>поселок Мурино</th>\n",
       "      <td>86058.0</td>\n",
       "    </tr>\n",
       "    <tr>\n",
       "      <th>поселок Шушары</th>\n",
       "      <td>76829.0</td>\n",
       "    </tr>\n",
       "    <tr>\n",
       "      <th>Колпино</th>\n",
       "      <td>74724.0</td>\n",
       "    </tr>\n",
       "    <tr>\n",
       "      <th>Гатчина</th>\n",
       "      <td>67796.0</td>\n",
       "    </tr>\n",
       "    <tr>\n",
       "      <th>Всеволожск</th>\n",
       "      <td>65789.0</td>\n",
       "    </tr>\n",
       "    <tr>\n",
       "      <th>Выборг</th>\n",
       "      <td>58158.0</td>\n",
       "    </tr>\n",
       "  </tbody>\n",
       "</table>\n",
       "</div>"
      ],
      "text/plain": [
       "                   sqmetr_price\n",
       "locality_name                  \n",
       "Санкт-Петербург        104774.0\n",
       "Пушкин                 100000.0\n",
       "деревня Кудрово         91860.0\n",
       "поселок Парголово       91642.0\n",
       "поселок Мурино          86058.0\n",
       "поселок Шушары          76829.0\n",
       "Колпино                 74724.0\n",
       "Гатчина                 67796.0\n",
       "Всеволожск              65789.0\n",
       "Выборг                  58158.0"
      ]
     },
     "metadata": {},
     "output_type": "display_data"
    }
   ],
   "source": [
    "# рассчитаем среднюю цену одного квадратного метра в 10 населенных пунктах с наибольшим числом объявлений\n",
    "ten_city = data['locality_name'].value_counts().head(10)\n",
    "ten_city_sqmetr_price = data.query('locality_name in @ten_city.index').pivot_table(index ='locality_name', values ='sqmetr_price', aggfunc='median').round(decimals=0)\n",
    "display(ten_city_sqmetr_price.sort_values('sqmetr_price', ascending = False))"
   ]
  },
  {
   "cell_type": "markdown",
   "metadata": {},
   "source": [
    "**Вывод:**\n",
    "* Наибольшая стоимость квадратного метра в Санкт-Петербурге, наименьшая в Выборге, как наиболее удаленном от Санкт-Петербурга городе"
   ]
  },
  {
   "cell_type": "markdown",
   "metadata": {},
   "source": [
    "**4.5. Изучаем, как стоимость объектов зависит от расстояния до центра города**"
   ]
  },
  {
   "cell_type": "code",
   "execution_count": 43,
   "metadata": {},
   "outputs": [
    {
     "data": {
      "image/png": "[encoded data removed]",
      "text/plain": [
       "<Figure size 720x360 with 1 Axes>"
      ]
     },
     "metadata": {
      "needs_background": "light"
     },
     "output_type": "display_data"
    }
   ],
   "source": [
    "# Вычислим среднюю цену каждого км в Санкт-Петербурге и построим график\n",
    "(\n",
    "    data.query('locality_name == \"Санкт-Петербург\"')\n",
    "    .pivot_table(index = 'distance_city_center', values = 'last_price')\n",
    "    .plot(grid=True, style='o-', figsize=(10,5), title = 'Зависимость цены от расстояния от центра города')\n",
    ")\n",
    "plt.show()\n"
   ]
  },
  {
   "cell_type": "markdown",
   "metadata": {},
   "source": [
    "**Вывод:** \n",
    "* цена начинает снижаться на расстоянии 5 км от центра"
   ]
  },
  {
   "cell_type": "markdown",
   "metadata": {},
   "source": [
    "### Общий вывод"
   ]
  },
  {
   "cell_type": "markdown",
   "metadata": {},
   "source": [
    "**В ПРОЦЕССЕ РАБОТЫ НАД ПРОЕКТОМ БЫЛИ РЕШЕНЫ СЛЕДУЮЩИЕ ЗАДАЧИ:**\n",
    "* 1) Изучены параметры объектов недвижимости\n",
    "* 2) Изучена скорость продажи квартир по длительности опубликования объявлений на сайте\n",
    "* 3) Изучено влияние факторов (площадь, этаж, количество комнат и т.д.) на цену объектов недвижимости\n",
    "* 4) Рассмотрено распределение объектов недвижимости, входящих в топ 10 по количеству объявлений, от цены за кв. м\n",
    "* 5) Изучено как меняется цена 1 кв.м по отношению к расстоянию от центра города\n",
    "\n",
    "**БЫЛИ СДЕЛАНЫ СЛЕДУЮЩИЕ ВЫВОДЫ:**\n",
    "\n",
    "**- ПРОДОЛЖИТЕЛЬНОСТЬ РАЗМЕЩЕНИЯ ОБЪЯВЛЕНИЯ ОТ ПУБЛИКАЦИИ ДО СНЯТИЯ**\n",
    "* Медиана продолжительности продажи квартиры составила 95 дней, а средняя продолжительность составила 181. Большая часть квартир продается за срок до 100 дней. Есть квартиры, которые были проданы в срок до 10 дней, максимальное время продажи квартиры составило 1580 дней. Быстрой продажей можно назвать срок до 45 дней, долгой больше 230.\n",
    "\n",
    "**- ВЛИЯНИЕ ФАКТОРОВ НА ОБЩУЮ СТОИМОСТЬ** \n",
    "* 1) Наибольшая корреляция **общей площади и цены**, составляет 0.905 (чем больше площадь, тем больше цена)\n",
    "* 2) корреляция **жилой площади и цены** чуть меньше и составляет 0.73 \n",
    "* 3) корреляция **цены и дня недели** достаточно большая и составляет 0.67 (цена уменьшается к концу рабочей недели)\n",
    "* 4) корреляция **площади кухни и цены** и **количества комнат и цены** сопоставимы и равны в среднем 0.5\n",
    "* 5) **стоимость квартир на** последнем **этаже** выше, чем на первом, но значительно ниже, чем на лбом другом\n",
    "* 6) корреляция **цены и месяца** и **цены и года* равны в пределах 0,07\n",
    "\n",
    "**- СРЕДНЯЯ ЦЕНА КВАДРАТНОГО МЕТРА В ТОП_10 НАСЕЛЕННЫХ ПУНКТАХ ПО КОЛИЧЕСТВУ ОБЪЯВЛЕНИЙ**\n",
    "* Наибольшая стоимость квадратного метра в Санкт-Петербурге, наименьшая в Выборге, как наиболее удаленном от Санкт-Петербурга городе\n",
    "\n",
    "**- СТОИМОСТЬ ОБЪЕКТОВ В ЗАВИСИМОСТИ ОТ РАССТОЯНИЯ ОТ ЦЕНТРА ГОРОДА** \n",
    "* Цена начинает снижаться на расстоянии 5 км от центра города\n"
   ]
  }
 ],
 "metadata": {
  "ExecuteTimeLog": [
   {
    "duration": 453,
    "start_time": "2022-10-24T10:51:53.771Z"
   },
   {
    "duration": 90,
    "start_time": "2022-10-24T10:53:11.740Z"
   },
   {
    "duration": 94,
    "start_time": "2022-10-24T10:53:47.529Z"
   },
   {
    "duration": 9,
    "start_time": "2022-10-24T10:57:01.629Z"
   },
   {
    "duration": 558,
    "start_time": "2022-10-31T18:01:38.762Z"
   },
   {
    "duration": 16,
    "start_time": "2022-10-31T18:02:03.620Z"
   },
   {
    "duration": 2560,
    "start_time": "2022-10-31T18:04:03.238Z"
   },
   {
    "duration": 565,
    "start_time": "2022-10-31T18:39:46.654Z"
   },
   {
    "duration": 617,
    "start_time": "2022-10-31T18:40:27.625Z"
   },
   {
    "duration": 21,
    "start_time": "2022-10-31T18:40:28.245Z"
   },
   {
    "duration": 2506,
    "start_time": "2022-10-31T18:40:28.268Z"
   },
   {
    "duration": 10,
    "start_time": "2022-10-31T18:40:30.777Z"
   },
   {
    "duration": 626,
    "start_time": "2022-10-31T18:40:30.789Z"
   },
   {
    "duration": 23,
    "start_time": "2022-10-31T18:42:04.655Z"
   },
   {
    "duration": 554,
    "start_time": "2022-10-31T18:42:22.727Z"
   },
   {
    "duration": 18,
    "start_time": "2022-10-31T18:42:23.284Z"
   },
   {
    "duration": 2397,
    "start_time": "2022-10-31T18:42:23.305Z"
   },
   {
    "duration": 10,
    "start_time": "2022-10-31T18:42:25.704Z"
   },
   {
    "duration": 54,
    "start_time": "2022-10-31T18:42:25.716Z"
   },
   {
    "duration": 562,
    "start_time": "2022-10-31T18:42:44.513Z"
   },
   {
    "duration": 27,
    "start_time": "2022-10-31T18:43:18.166Z"
   },
   {
    "duration": 537,
    "start_time": "2022-10-31T18:43:30.602Z"
   },
   {
    "duration": 18,
    "start_time": "2022-10-31T18:43:31.142Z"
   },
   {
    "duration": 2590,
    "start_time": "2022-10-31T18:43:31.162Z"
   },
   {
    "duration": 10,
    "start_time": "2022-10-31T18:43:33.753Z"
   },
   {
    "duration": 30,
    "start_time": "2022-10-31T18:43:33.766Z"
   },
   {
    "duration": 657,
    "start_time": "2022-10-31T18:45:05.706Z"
   },
   {
    "duration": 72,
    "start_time": "2022-10-31T18:46:20.669Z"
   },
   {
    "duration": 112,
    "start_time": "2022-10-31T18:46:37.152Z"
   },
   {
    "duration": 77,
    "start_time": "2022-10-31T18:46:43.168Z"
   },
   {
    "duration": 524,
    "start_time": "2022-10-31T18:49:10.343Z"
   },
   {
    "duration": 451,
    "start_time": "2022-10-31T18:49:33.303Z"
   },
   {
    "duration": 490,
    "start_time": "2022-10-31T18:49:49.291Z"
   },
   {
    "duration": 16,
    "start_time": "2022-10-31T18:49:49.783Z"
   },
   {
    "duration": 2374,
    "start_time": "2022-10-31T18:49:49.800Z"
   },
   {
    "duration": 9,
    "start_time": "2022-10-31T18:49:52.176Z"
   },
   {
    "duration": 592,
    "start_time": "2022-10-31T18:49:52.187Z"
   },
   {
    "duration": 85,
    "start_time": "2022-10-31T18:54:04.635Z"
   },
   {
    "duration": 412,
    "start_time": "2022-10-31T18:56:07.459Z"
   },
   {
    "duration": 537,
    "start_time": "2022-10-31T18:56:22.399Z"
   },
   {
    "duration": 16,
    "start_time": "2022-10-31T18:56:22.938Z"
   },
   {
    "duration": 2422,
    "start_time": "2022-10-31T18:56:22.956Z"
   },
   {
    "duration": 10,
    "start_time": "2022-10-31T18:56:25.380Z"
   },
   {
    "duration": 414,
    "start_time": "2022-10-31T18:56:25.392Z"
   },
   {
    "duration": 28,
    "start_time": "2022-10-31T19:04:10.303Z"
   },
   {
    "duration": 53,
    "start_time": "2022-11-01T05:39:09.652Z"
   },
   {
    "duration": 7,
    "start_time": "2022-11-01T05:42:37.842Z"
   },
   {
    "duration": 7,
    "start_time": "2022-11-01T05:42:43.865Z"
   },
   {
    "duration": 7,
    "start_time": "2022-11-01T05:43:22.657Z"
   },
   {
    "duration": 6,
    "start_time": "2022-11-01T05:43:26.758Z"
   },
   {
    "duration": 8,
    "start_time": "2022-11-01T05:45:33.158Z"
   },
   {
    "duration": 7,
    "start_time": "2022-11-01T05:45:35.842Z"
   },
   {
    "duration": 6,
    "start_time": "2022-11-01T05:46:13.517Z"
   },
   {
    "duration": 5,
    "start_time": "2022-11-01T05:46:16.665Z"
   },
   {
    "duration": 8,
    "start_time": "2022-11-01T05:46:32.722Z"
   },
   {
    "duration": 7,
    "start_time": "2022-11-01T05:51:37.069Z"
   },
   {
    "duration": 6,
    "start_time": "2022-11-01T05:55:26.278Z"
   },
   {
    "duration": 6,
    "start_time": "2022-11-01T05:58:17.065Z"
   },
   {
    "duration": 7,
    "start_time": "2022-11-01T05:58:36.504Z"
   },
   {
    "duration": 7,
    "start_time": "2022-11-01T05:58:43.496Z"
   },
   {
    "duration": 506,
    "start_time": "2022-11-01T05:58:51.973Z"
   },
   {
    "duration": 14,
    "start_time": "2022-11-01T05:58:52.481Z"
   },
   {
    "duration": 2089,
    "start_time": "2022-11-01T05:58:52.496Z"
   },
   {
    "duration": 11,
    "start_time": "2022-11-01T05:58:54.588Z"
   },
   {
    "duration": 346,
    "start_time": "2022-11-01T05:58:54.600Z"
   },
   {
    "duration": 22,
    "start_time": "2022-11-01T05:58:54.948Z"
   },
   {
    "duration": 19,
    "start_time": "2022-11-01T05:58:54.972Z"
   },
   {
    "duration": 472,
    "start_time": "2022-11-01T05:59:38.735Z"
   },
   {
    "duration": 13,
    "start_time": "2022-11-01T05:59:39.209Z"
   },
   {
    "duration": 2008,
    "start_time": "2022-11-01T05:59:39.224Z"
   },
   {
    "duration": 8,
    "start_time": "2022-11-01T05:59:41.234Z"
   },
   {
    "duration": 309,
    "start_time": "2022-11-01T05:59:41.243Z"
   },
   {
    "duration": 25,
    "start_time": "2022-11-01T05:59:41.554Z"
   },
   {
    "duration": 36,
    "start_time": "2022-11-01T05:59:41.581Z"
   },
   {
    "duration": 37,
    "start_time": "2022-11-01T06:00:45.366Z"
   },
   {
    "duration": 88,
    "start_time": "2022-11-01T06:02:23.457Z"
   },
   {
    "duration": 33,
    "start_time": "2022-11-01T06:02:43.807Z"
   },
   {
    "duration": 23,
    "start_time": "2022-11-01T06:06:07.941Z"
   },
   {
    "duration": 19,
    "start_time": "2022-11-01T06:06:48.297Z"
   },
   {
    "duration": 20,
    "start_time": "2022-11-01T06:07:09.796Z"
   },
   {
    "duration": 20,
    "start_time": "2022-11-01T06:07:43.978Z"
   },
   {
    "duration": 30,
    "start_time": "2022-11-01T06:14:03.749Z"
   },
   {
    "duration": 26,
    "start_time": "2022-11-01T06:16:09.126Z"
   },
   {
    "duration": 28,
    "start_time": "2022-11-01T06:20:58.808Z"
   },
   {
    "duration": 33,
    "start_time": "2022-11-01T06:21:21.242Z"
   },
   {
    "duration": 30,
    "start_time": "2022-11-01T06:22:43.766Z"
   },
   {
    "duration": 52,
    "start_time": "2022-11-01T06:24:04.454Z"
   },
   {
    "duration": 4,
    "start_time": "2022-11-01T07:01:56.977Z"
   },
   {
    "duration": 21,
    "start_time": "2022-11-01T07:08:37.605Z"
   },
   {
    "duration": 345,
    "start_time": "2022-11-01T07:19:35.482Z"
   },
   {
    "duration": 417,
    "start_time": "2022-11-01T07:25:42.659Z"
   },
   {
    "duration": 475,
    "start_time": "2022-11-01T07:26:30.748Z"
   },
   {
    "duration": 14,
    "start_time": "2022-11-01T07:26:31.225Z"
   },
   {
    "duration": 2024,
    "start_time": "2022-11-01T07:26:31.240Z"
   },
   {
    "duration": 12,
    "start_time": "2022-11-01T07:26:33.266Z"
   },
   {
    "duration": 326,
    "start_time": "2022-11-01T07:26:33.280Z"
   },
   {
    "duration": 25,
    "start_time": "2022-11-01T07:26:33.608Z"
   },
   {
    "duration": 20,
    "start_time": "2022-11-01T07:26:33.635Z"
   },
   {
    "duration": 64,
    "start_time": "2022-11-01T07:26:33.657Z"
   },
   {
    "duration": 427,
    "start_time": "2022-11-01T07:26:33.722Z"
   },
   {
    "duration": 395,
    "start_time": "2022-11-01T07:29:00.918Z"
   },
   {
    "duration": 544,
    "start_time": "2022-11-01T07:29:14.882Z"
   },
   {
    "duration": 14,
    "start_time": "2022-11-01T07:29:15.428Z"
   },
   {
    "duration": 2042,
    "start_time": "2022-11-01T07:29:15.443Z"
   },
   {
    "duration": 9,
    "start_time": "2022-11-01T07:29:17.487Z"
   },
   {
    "duration": 316,
    "start_time": "2022-11-01T07:29:17.497Z"
   },
   {
    "duration": 28,
    "start_time": "2022-11-01T07:29:17.815Z"
   },
   {
    "duration": 23,
    "start_time": "2022-11-01T07:29:17.844Z"
   },
   {
    "duration": 62,
    "start_time": "2022-11-01T07:29:17.868Z"
   },
   {
    "duration": 419,
    "start_time": "2022-11-01T07:29:17.932Z"
   },
   {
    "duration": 393,
    "start_time": "2022-11-01T07:32:09.873Z"
   },
   {
    "duration": 340,
    "start_time": "2022-11-01T07:32:22.259Z"
   },
   {
    "duration": 348,
    "start_time": "2022-11-01T07:32:43.516Z"
   },
   {
    "duration": 428,
    "start_time": "2022-11-01T07:33:16.598Z"
   },
   {
    "duration": 504,
    "start_time": "2022-11-01T07:33:27.933Z"
   },
   {
    "duration": 14,
    "start_time": "2022-11-01T07:33:28.439Z"
   },
   {
    "duration": 2149,
    "start_time": "2022-11-01T07:33:28.455Z"
   },
   {
    "duration": 8,
    "start_time": "2022-11-01T07:33:30.606Z"
   },
   {
    "duration": 368,
    "start_time": "2022-11-01T07:33:30.616Z"
   },
   {
    "duration": 30,
    "start_time": "2022-11-01T07:33:30.985Z"
   },
   {
    "duration": 19,
    "start_time": "2022-11-01T07:33:31.017Z"
   },
   {
    "duration": 56,
    "start_time": "2022-11-01T07:33:31.038Z"
   },
   {
    "duration": 446,
    "start_time": "2022-11-01T07:33:31.096Z"
   },
   {
    "duration": 405,
    "start_time": "2022-11-01T07:33:43.859Z"
   },
   {
    "duration": 365,
    "start_time": "2022-11-01T07:48:25.675Z"
   },
   {
    "duration": 352,
    "start_time": "2022-11-01T07:48:53.032Z"
   },
   {
    "duration": 411,
    "start_time": "2022-11-01T07:49:00.039Z"
   },
   {
    "duration": 364,
    "start_time": "2022-11-01T07:49:48.324Z"
   },
   {
    "duration": 9,
    "start_time": "2022-11-01T08:05:09.285Z"
   },
   {
    "duration": 52,
    "start_time": "2022-11-01T16:51:22.893Z"
   },
   {
    "duration": 758,
    "start_time": "2022-11-01T16:51:34.103Z"
   },
   {
    "duration": 17,
    "start_time": "2022-11-01T16:51:34.863Z"
   },
   {
    "duration": 2262,
    "start_time": "2022-11-01T16:51:34.882Z"
   },
   {
    "duration": 8,
    "start_time": "2022-11-01T16:51:37.146Z"
   },
   {
    "duration": 323,
    "start_time": "2022-11-01T16:51:37.155Z"
   },
   {
    "duration": 29,
    "start_time": "2022-11-01T16:51:37.480Z"
   },
   {
    "duration": 20,
    "start_time": "2022-11-01T16:51:37.510Z"
   },
   {
    "duration": 51,
    "start_time": "2022-11-01T16:51:37.532Z"
   },
   {
    "duration": 405,
    "start_time": "2022-11-01T16:51:37.585Z"
   },
   {
    "duration": 85,
    "start_time": "2022-11-01T16:51:37.992Z"
   },
   {
    "duration": 159,
    "start_time": "2022-11-01T16:53:24.704Z"
   },
   {
    "duration": 159,
    "start_time": "2022-11-01T16:57:18.736Z"
   },
   {
    "duration": 156,
    "start_time": "2022-11-01T16:59:42.264Z"
   },
   {
    "duration": 148,
    "start_time": "2022-11-01T17:00:12.636Z"
   },
   {
    "duration": 150,
    "start_time": "2022-11-01T17:00:46.369Z"
   },
   {
    "duration": 162,
    "start_time": "2022-11-01T17:25:38.126Z"
   },
   {
    "duration": 151,
    "start_time": "2022-11-01T17:25:57.480Z"
   },
   {
    "duration": 163,
    "start_time": "2022-11-01T17:27:02.933Z"
   },
   {
    "duration": 162,
    "start_time": "2022-11-01T17:31:13.232Z"
   },
   {
    "duration": 143,
    "start_time": "2022-11-01T17:33:48.445Z"
   },
   {
    "duration": 225,
    "start_time": "2022-11-01T17:36:25.338Z"
   },
   {
    "duration": 153,
    "start_time": "2022-11-01T17:36:41.701Z"
   },
   {
    "duration": 174,
    "start_time": "2022-11-01T17:36:57.209Z"
   },
   {
    "duration": 151,
    "start_time": "2022-11-01T17:37:10.511Z"
   },
   {
    "duration": 169,
    "start_time": "2022-11-01T17:37:24.166Z"
   },
   {
    "duration": 152,
    "start_time": "2022-11-01T17:37:42.638Z"
   },
   {
    "duration": 151,
    "start_time": "2022-11-01T17:37:52.788Z"
   },
   {
    "duration": 167,
    "start_time": "2022-11-01T17:38:09.135Z"
   },
   {
    "duration": 155,
    "start_time": "2022-11-01T17:38:29.177Z"
   },
   {
    "duration": 157,
    "start_time": "2022-11-01T17:38:47.249Z"
   },
   {
    "duration": 155,
    "start_time": "2022-11-01T17:39:03.192Z"
   },
   {
    "duration": 234,
    "start_time": "2022-11-01T17:39:14.715Z"
   },
   {
    "duration": 179,
    "start_time": "2022-11-01T17:39:38.108Z"
   },
   {
    "duration": 162,
    "start_time": "2022-11-01T17:39:49.334Z"
   },
   {
    "duration": 156,
    "start_time": "2022-11-01T17:39:57.730Z"
   },
   {
    "duration": 951,
    "start_time": "2022-11-01T17:42:30.094Z"
   },
   {
    "duration": 698,
    "start_time": "2022-11-01T17:42:46.959Z"
   },
   {
    "duration": 155,
    "start_time": "2022-11-01T17:43:22.520Z"
   },
   {
    "duration": 150,
    "start_time": "2022-11-01T17:43:37.279Z"
   },
   {
    "duration": 159,
    "start_time": "2022-11-01T17:43:42.630Z"
   },
   {
    "duration": 148,
    "start_time": "2022-11-01T17:43:51.083Z"
   },
   {
    "duration": 170,
    "start_time": "2022-11-01T17:44:01.109Z"
   },
   {
    "duration": 151,
    "start_time": "2022-11-01T17:44:11.350Z"
   },
   {
    "duration": 159,
    "start_time": "2022-11-01T17:44:20.560Z"
   },
   {
    "duration": 82,
    "start_time": "2022-11-01T17:45:41.917Z"
   },
   {
    "duration": 251,
    "start_time": "2022-11-01T17:46:46.110Z"
   },
   {
    "duration": 160,
    "start_time": "2022-11-01T17:47:47.226Z"
   },
   {
    "duration": 162,
    "start_time": "2022-11-01T17:48:07.488Z"
   },
   {
    "duration": 185,
    "start_time": "2022-11-01T17:48:40.742Z"
   },
   {
    "duration": 171,
    "start_time": "2022-11-01T17:54:00.305Z"
   },
   {
    "duration": 155,
    "start_time": "2022-11-01T17:54:31.053Z"
   },
   {
    "duration": 158,
    "start_time": "2022-11-01T17:54:38.898Z"
   },
   {
    "duration": 162,
    "start_time": "2022-11-01T17:59:45.282Z"
   },
   {
    "duration": 159,
    "start_time": "2022-11-01T17:59:57.876Z"
   },
   {
    "duration": 163,
    "start_time": "2022-11-01T18:01:35.056Z"
   },
   {
    "duration": 153,
    "start_time": "2022-11-01T18:07:08.214Z"
   },
   {
    "duration": 233,
    "start_time": "2022-11-01T18:07:15.630Z"
   },
   {
    "duration": 155,
    "start_time": "2022-11-01T18:07:23.886Z"
   },
   {
    "duration": 166,
    "start_time": "2022-11-01T18:07:56.477Z"
   },
   {
    "duration": 52,
    "start_time": "2022-11-01T18:08:45.328Z"
   },
   {
    "duration": 50,
    "start_time": "2022-11-01T18:08:54.055Z"
   },
   {
    "duration": 50,
    "start_time": "2022-11-01T18:09:10.552Z"
   },
   {
    "duration": 500,
    "start_time": "2022-11-01T18:09:17.534Z"
   },
   {
    "duration": 14,
    "start_time": "2022-11-01T18:09:18.035Z"
   },
   {
    "duration": 2029,
    "start_time": "2022-11-01T18:09:18.055Z"
   },
   {
    "duration": 8,
    "start_time": "2022-11-01T18:09:20.086Z"
   },
   {
    "duration": 315,
    "start_time": "2022-11-01T18:09:20.096Z"
   },
   {
    "duration": 23,
    "start_time": "2022-11-01T18:09:20.413Z"
   },
   {
    "duration": 19,
    "start_time": "2022-11-01T18:09:20.438Z"
   },
   {
    "duration": 65,
    "start_time": "2022-11-01T18:09:20.459Z"
   },
   {
    "duration": 371,
    "start_time": "2022-11-01T18:09:20.526Z"
   },
   {
    "duration": 255,
    "start_time": "2022-11-01T18:09:20.898Z"
   },
   {
    "duration": 197,
    "start_time": "2022-11-01T18:09:21.155Z"
   },
   {
    "duration": 176,
    "start_time": "2022-11-01T18:09:21.353Z"
   },
   {
    "duration": 179,
    "start_time": "2022-11-01T18:09:21.530Z"
   },
   {
    "duration": 173,
    "start_time": "2022-11-01T18:09:21.711Z"
   },
   {
    "duration": 180,
    "start_time": "2022-11-01T18:09:21.886Z"
   },
   {
    "duration": 41,
    "start_time": "2022-11-01T18:09:22.067Z"
   },
   {
    "duration": 44,
    "start_time": "2022-11-01T18:09:45.675Z"
   },
   {
    "duration": 160,
    "start_time": "2022-11-01T18:10:05.159Z"
   },
   {
    "duration": 161,
    "start_time": "2022-11-01T18:25:56.025Z"
   },
   {
    "duration": 162,
    "start_time": "2022-11-01T18:26:08.708Z"
   },
   {
    "duration": 133,
    "start_time": "2022-11-01T18:27:07.436Z"
   },
   {
    "duration": 144,
    "start_time": "2022-11-01T18:38:18.165Z"
   },
   {
    "duration": 240,
    "start_time": "2022-11-01T18:41:00.150Z"
   },
   {
    "duration": 159,
    "start_time": "2022-11-01T18:41:59.557Z"
   },
   {
    "duration": 158,
    "start_time": "2022-11-01T18:42:05.811Z"
   },
   {
    "duration": 162,
    "start_time": "2022-11-01T18:45:36.373Z"
   },
   {
    "duration": 174,
    "start_time": "2022-11-01T18:45:55.100Z"
   },
   {
    "duration": 158,
    "start_time": "2022-11-01T18:46:03.454Z"
   },
   {
    "duration": 131,
    "start_time": "2022-11-01T18:46:15.067Z"
   },
   {
    "duration": 138,
    "start_time": "2022-11-01T18:46:33.188Z"
   },
   {
    "duration": 156,
    "start_time": "2022-11-01T18:47:05.602Z"
   },
   {
    "duration": 149,
    "start_time": "2022-11-01T18:47:13.344Z"
   },
   {
    "duration": 972,
    "start_time": "2022-11-01T18:50:05.895Z"
   },
   {
    "duration": 135,
    "start_time": "2022-11-01T18:50:40.539Z"
   },
   {
    "duration": 218,
    "start_time": "2022-11-01T18:50:48.679Z"
   },
   {
    "duration": 143,
    "start_time": "2022-11-01T18:53:39.957Z"
   },
   {
    "duration": 143,
    "start_time": "2022-11-01T18:54:01.143Z"
   },
   {
    "duration": 138,
    "start_time": "2022-11-01T18:54:08.801Z"
   },
   {
    "duration": 142,
    "start_time": "2022-11-01T18:54:23.342Z"
   },
   {
    "duration": 157,
    "start_time": "2022-11-01T18:54:32.997Z"
   },
   {
    "duration": 150,
    "start_time": "2022-11-01T18:54:46.248Z"
   },
   {
    "duration": 156,
    "start_time": "2022-11-01T18:57:16.465Z"
   },
   {
    "duration": 145,
    "start_time": "2022-11-01T18:57:35.187Z"
   },
   {
    "duration": 139,
    "start_time": "2022-11-01T18:58:16.647Z"
   },
   {
    "duration": 134,
    "start_time": "2022-11-01T18:59:21.045Z"
   },
   {
    "duration": 135,
    "start_time": "2022-11-01T18:59:51.983Z"
   },
   {
    "duration": 226,
    "start_time": "2022-11-01T19:00:01.498Z"
   },
   {
    "duration": 141,
    "start_time": "2022-11-01T19:00:17.502Z"
   },
   {
    "duration": 144,
    "start_time": "2022-11-01T19:02:04.303Z"
   },
   {
    "duration": 178,
    "start_time": "2022-11-01T19:02:14.496Z"
   },
   {
    "duration": 138,
    "start_time": "2022-11-01T19:36:52.471Z"
   },
   {
    "duration": 137,
    "start_time": "2022-11-01T19:37:30.427Z"
   },
   {
    "duration": 131,
    "start_time": "2022-11-01T19:37:39.858Z"
   },
   {
    "duration": 573,
    "start_time": "2022-11-02T07:16:58.600Z"
   },
   {
    "duration": 95,
    "start_time": "2022-11-02T07:18:18.952Z"
   },
   {
    "duration": 28,
    "start_time": "2022-11-02T07:32:15.973Z"
   },
   {
    "duration": 8,
    "start_time": "2022-11-02T07:33:01.502Z"
   },
   {
    "duration": 8,
    "start_time": "2022-11-02T07:33:57.269Z"
   },
   {
    "duration": 11,
    "start_time": "2022-11-02T07:37:35.929Z"
   },
   {
    "duration": 72,
    "start_time": "2022-11-02T07:39:31.253Z"
   },
   {
    "duration": 67,
    "start_time": "2022-11-02T07:39:36.851Z"
   },
   {
    "duration": 75,
    "start_time": "2022-11-02T07:40:54.658Z"
   },
   {
    "duration": 8,
    "start_time": "2022-11-02T07:42:38.788Z"
   },
   {
    "duration": 12,
    "start_time": "2022-11-02T07:43:21.283Z"
   },
   {
    "duration": 12,
    "start_time": "2022-11-02T07:43:45.680Z"
   },
   {
    "duration": 77,
    "start_time": "2022-11-02T07:44:12.387Z"
   },
   {
    "duration": 14,
    "start_time": "2022-11-02T07:44:35.019Z"
   },
   {
    "duration": 13,
    "start_time": "2022-11-02T07:45:00.340Z"
   },
   {
    "duration": 64,
    "start_time": "2022-11-02T07:49:08.561Z"
   },
   {
    "duration": 461,
    "start_time": "2022-11-02T07:49:38.736Z"
   },
   {
    "duration": 13,
    "start_time": "2022-11-02T07:49:39.199Z"
   },
   {
    "duration": 2179,
    "start_time": "2022-11-02T07:49:39.213Z"
   },
   {
    "duration": 8,
    "start_time": "2022-11-02T07:49:41.394Z"
   },
   {
    "duration": 383,
    "start_time": "2022-11-02T07:49:41.404Z"
   },
   {
    "duration": 22,
    "start_time": "2022-11-02T07:49:41.789Z"
   },
   {
    "duration": 24,
    "start_time": "2022-11-02T07:49:41.812Z"
   },
   {
    "duration": 38,
    "start_time": "2022-11-02T07:49:41.838Z"
   },
   {
    "duration": 383,
    "start_time": "2022-11-02T07:49:41.877Z"
   },
   {
    "duration": 183,
    "start_time": "2022-11-02T07:49:42.261Z"
   },
   {
    "duration": 172,
    "start_time": "2022-11-02T07:49:42.445Z"
   },
   {
    "duration": 156,
    "start_time": "2022-11-02T07:49:42.618Z"
   },
   {
    "duration": 169,
    "start_time": "2022-11-02T07:49:42.776Z"
   },
   {
    "duration": 135,
    "start_time": "2022-11-02T07:49:42.947Z"
   },
   {
    "duration": 163,
    "start_time": "2022-11-02T07:49:43.084Z"
   },
   {
    "duration": 163,
    "start_time": "2022-11-02T07:49:43.248Z"
   },
   {
    "duration": 141,
    "start_time": "2022-11-02T07:49:43.412Z"
   },
   {
    "duration": 176,
    "start_time": "2022-11-02T07:49:43.554Z"
   },
   {
    "duration": 129,
    "start_time": "2022-11-02T07:49:43.731Z"
   },
   {
    "duration": 222,
    "start_time": "2022-11-02T07:49:43.862Z"
   },
   {
    "duration": 151,
    "start_time": "2022-11-02T07:49:44.085Z"
   },
   {
    "duration": 138,
    "start_time": "2022-11-02T07:49:44.238Z"
   },
   {
    "duration": 144,
    "start_time": "2022-11-02T07:49:44.377Z"
   },
   {
    "duration": 161,
    "start_time": "2022-11-02T07:49:44.523Z"
   },
   {
    "duration": 141,
    "start_time": "2022-11-02T07:50:03.363Z"
   },
   {
    "duration": 151,
    "start_time": "2022-11-02T07:50:12.215Z"
   },
   {
    "duration": 429,
    "start_time": "2022-11-02T07:51:42.401Z"
   },
   {
    "duration": 336,
    "start_time": "2022-11-02T07:51:54.294Z"
   },
   {
    "duration": 214,
    "start_time": "2022-11-02T07:52:10.093Z"
   },
   {
    "duration": 216,
    "start_time": "2022-11-02T07:52:23.296Z"
   },
   {
    "duration": 217,
    "start_time": "2022-11-02T07:52:34.331Z"
   },
   {
    "duration": 195,
    "start_time": "2022-11-02T07:52:48.841Z"
   },
   {
    "duration": 209,
    "start_time": "2022-11-02T07:52:58.283Z"
   },
   {
    "duration": 49,
    "start_time": "2022-11-02T10:51:09.477Z"
   },
   {
    "duration": 741,
    "start_time": "2022-11-02T10:54:51.378Z"
   },
   {
    "duration": 15,
    "start_time": "2022-11-02T10:54:52.121Z"
   },
   {
    "duration": 2499,
    "start_time": "2022-11-02T10:54:52.138Z"
   },
   {
    "duration": 9,
    "start_time": "2022-11-02T10:54:54.640Z"
   },
   {
    "duration": 417,
    "start_time": "2022-11-02T10:54:54.652Z"
   },
   {
    "duration": 26,
    "start_time": "2022-11-02T10:54:55.071Z"
   },
   {
    "duration": 23,
    "start_time": "2022-11-02T10:54:55.099Z"
   },
   {
    "duration": 57,
    "start_time": "2022-11-02T10:54:55.123Z"
   },
   {
    "duration": 443,
    "start_time": "2022-11-02T10:54:55.181Z"
   },
   {
    "duration": 204,
    "start_time": "2022-11-02T10:54:55.625Z"
   },
   {
    "duration": 197,
    "start_time": "2022-11-02T10:54:55.831Z"
   },
   {
    "duration": 204,
    "start_time": "2022-11-02T10:54:56.030Z"
   },
   {
    "duration": 193,
    "start_time": "2022-11-02T10:54:56.236Z"
   },
   {
    "duration": 165,
    "start_time": "2022-11-02T10:54:56.432Z"
   },
   {
    "duration": 193,
    "start_time": "2022-11-02T10:54:56.598Z"
   },
   {
    "duration": 193,
    "start_time": "2022-11-02T10:54:56.793Z"
   },
   {
    "duration": 169,
    "start_time": "2022-11-02T10:54:56.987Z"
   },
   {
    "duration": 188,
    "start_time": "2022-11-02T10:54:57.158Z"
   },
   {
    "duration": 161,
    "start_time": "2022-11-02T10:54:57.348Z"
   },
   {
    "duration": 266,
    "start_time": "2022-11-02T10:54:57.511Z"
   },
   {
    "duration": 183,
    "start_time": "2022-11-02T10:54:57.779Z"
   },
   {
    "duration": 159,
    "start_time": "2022-11-02T10:54:57.963Z"
   },
   {
    "duration": 172,
    "start_time": "2022-11-02T10:54:58.124Z"
   },
   {
    "duration": 270,
    "start_time": "2022-11-02T10:54:58.297Z"
   },
   {
    "duration": 99,
    "start_time": "2022-11-02T10:54:58.569Z"
   },
   {
    "duration": 750,
    "start_time": "2022-11-02T11:08:42.899Z"
   },
   {
    "duration": 218,
    "start_time": "2022-11-02T11:09:28.305Z"
   },
   {
    "duration": 905,
    "start_time": "2022-11-02T11:10:18.736Z"
   },
   {
    "duration": 12,
    "start_time": "2022-11-02T11:11:06.452Z"
   },
   {
    "duration": 108,
    "start_time": "2022-11-02T11:11:16.102Z"
   },
   {
    "duration": 113,
    "start_time": "2022-11-02T11:11:32.761Z"
   },
   {
    "duration": 116,
    "start_time": "2022-11-02T11:11:57.560Z"
   },
   {
    "duration": 8,
    "start_time": "2022-11-02T11:13:45.333Z"
   },
   {
    "duration": 8,
    "start_time": "2022-11-02T11:14:12.655Z"
   },
   {
    "duration": 554,
    "start_time": "2022-11-02T11:14:36.970Z"
   },
   {
    "duration": 16,
    "start_time": "2022-11-02T11:14:37.526Z"
   },
   {
    "duration": 2335,
    "start_time": "2022-11-02T11:14:37.554Z"
   },
   {
    "duration": 9,
    "start_time": "2022-11-02T11:14:39.891Z"
   },
   {
    "duration": 408,
    "start_time": "2022-11-02T11:14:39.902Z"
   },
   {
    "duration": 27,
    "start_time": "2022-11-02T11:14:40.312Z"
   },
   {
    "duration": 29,
    "start_time": "2022-11-02T11:14:40.341Z"
   },
   {
    "duration": 103,
    "start_time": "2022-11-02T11:14:40.372Z"
   },
   {
    "duration": 0,
    "start_time": "2022-11-02T11:14:40.477Z"
   },
   {
    "duration": 0,
    "start_time": "2022-11-02T11:14:40.479Z"
   },
   {
    "duration": 0,
    "start_time": "2022-11-02T11:14:40.480Z"
   },
   {
    "duration": 0,
    "start_time": "2022-11-02T11:14:40.481Z"
   },
   {
    "duration": 1,
    "start_time": "2022-11-02T11:14:40.481Z"
   },
   {
    "duration": 0,
    "start_time": "2022-11-02T11:14:40.483Z"
   },
   {
    "duration": 0,
    "start_time": "2022-11-02T11:14:40.484Z"
   },
   {
    "duration": 0,
    "start_time": "2022-11-02T11:14:40.485Z"
   },
   {
    "duration": 0,
    "start_time": "2022-11-02T11:14:40.486Z"
   },
   {
    "duration": 0,
    "start_time": "2022-11-02T11:14:40.486Z"
   },
   {
    "duration": 0,
    "start_time": "2022-11-02T11:14:40.488Z"
   },
   {
    "duration": 0,
    "start_time": "2022-11-02T11:14:40.488Z"
   },
   {
    "duration": 0,
    "start_time": "2022-11-02T11:14:40.489Z"
   },
   {
    "duration": 0,
    "start_time": "2022-11-02T11:14:40.490Z"
   },
   {
    "duration": 0,
    "start_time": "2022-11-02T11:14:40.491Z"
   },
   {
    "duration": 0,
    "start_time": "2022-11-02T11:14:40.493Z"
   },
   {
    "duration": 0,
    "start_time": "2022-11-02T11:14:40.493Z"
   },
   {
    "duration": 10,
    "start_time": "2022-11-02T11:16:06.653Z"
   },
   {
    "duration": 9,
    "start_time": "2022-11-02T11:16:22.606Z"
   },
   {
    "duration": 553,
    "start_time": "2022-11-02T11:16:28.025Z"
   },
   {
    "duration": 16,
    "start_time": "2022-11-02T11:16:28.580Z"
   },
   {
    "duration": 2387,
    "start_time": "2022-11-02T11:16:28.598Z"
   },
   {
    "duration": 11,
    "start_time": "2022-11-02T11:16:30.987Z"
   },
   {
    "duration": 483,
    "start_time": "2022-11-02T11:16:31.001Z"
   },
   {
    "duration": 32,
    "start_time": "2022-11-02T11:16:31.486Z"
   },
   {
    "duration": 67,
    "start_time": "2022-11-02T11:16:31.522Z"
   },
   {
    "duration": 103,
    "start_time": "2022-11-02T11:16:31.591Z"
   },
   {
    "duration": 0,
    "start_time": "2022-11-02T11:16:31.696Z"
   },
   {
    "duration": 0,
    "start_time": "2022-11-02T11:16:31.698Z"
   },
   {
    "duration": 0,
    "start_time": "2022-11-02T11:16:31.699Z"
   },
   {
    "duration": 0,
    "start_time": "2022-11-02T11:16:31.701Z"
   },
   {
    "duration": 0,
    "start_time": "2022-11-02T11:16:31.702Z"
   },
   {
    "duration": 0,
    "start_time": "2022-11-02T11:16:31.708Z"
   },
   {
    "duration": 0,
    "start_time": "2022-11-02T11:16:31.709Z"
   },
   {
    "duration": 0,
    "start_time": "2022-11-02T11:16:31.711Z"
   },
   {
    "duration": 0,
    "start_time": "2022-11-02T11:16:31.713Z"
   },
   {
    "duration": 0,
    "start_time": "2022-11-02T11:16:31.714Z"
   },
   {
    "duration": 0,
    "start_time": "2022-11-02T11:16:31.715Z"
   },
   {
    "duration": 0,
    "start_time": "2022-11-02T11:16:31.716Z"
   },
   {
    "duration": 0,
    "start_time": "2022-11-02T11:16:31.717Z"
   },
   {
    "duration": 0,
    "start_time": "2022-11-02T11:16:31.719Z"
   },
   {
    "duration": 0,
    "start_time": "2022-11-02T11:16:31.720Z"
   },
   {
    "duration": 0,
    "start_time": "2022-11-02T11:16:31.722Z"
   },
   {
    "duration": 0,
    "start_time": "2022-11-02T11:16:31.755Z"
   },
   {
    "duration": 8,
    "start_time": "2022-11-02T11:16:58.725Z"
   },
   {
    "duration": 10,
    "start_time": "2022-11-02T11:17:10.969Z"
   },
   {
    "duration": 8,
    "start_time": "2022-11-02T11:18:03.358Z"
   },
   {
    "duration": 118,
    "start_time": "2022-11-02T11:19:43.178Z"
   },
   {
    "duration": 125,
    "start_time": "2022-11-02T11:20:10.758Z"
   },
   {
    "duration": 116,
    "start_time": "2022-11-02T11:20:20.813Z"
   },
   {
    "duration": 434,
    "start_time": "2022-11-02T11:25:01.268Z"
   },
   {
    "duration": 489,
    "start_time": "2022-11-02T11:25:12.090Z"
   },
   {
    "duration": 15,
    "start_time": "2022-11-02T11:25:12.582Z"
   },
   {
    "duration": 2466,
    "start_time": "2022-11-02T11:25:12.599Z"
   },
   {
    "duration": 9,
    "start_time": "2022-11-02T11:25:15.067Z"
   },
   {
    "duration": 425,
    "start_time": "2022-11-02T11:25:15.079Z"
   },
   {
    "duration": 32,
    "start_time": "2022-11-02T11:25:15.506Z"
   },
   {
    "duration": 33,
    "start_time": "2022-11-02T11:25:15.540Z"
   },
   {
    "duration": 359,
    "start_time": "2022-11-02T11:25:15.576Z"
   },
   {
    "duration": 0,
    "start_time": "2022-11-02T11:25:15.937Z"
   },
   {
    "duration": 0,
    "start_time": "2022-11-02T11:25:15.938Z"
   },
   {
    "duration": 0,
    "start_time": "2022-11-02T11:25:15.939Z"
   },
   {
    "duration": 0,
    "start_time": "2022-11-02T11:25:15.940Z"
   },
   {
    "duration": 0,
    "start_time": "2022-11-02T11:25:15.941Z"
   },
   {
    "duration": 0,
    "start_time": "2022-11-02T11:25:15.954Z"
   },
   {
    "duration": 0,
    "start_time": "2022-11-02T11:25:15.955Z"
   },
   {
    "duration": 0,
    "start_time": "2022-11-02T11:25:15.957Z"
   },
   {
    "duration": 0,
    "start_time": "2022-11-02T11:25:15.958Z"
   },
   {
    "duration": 0,
    "start_time": "2022-11-02T11:25:15.959Z"
   },
   {
    "duration": 0,
    "start_time": "2022-11-02T11:25:15.960Z"
   },
   {
    "duration": 0,
    "start_time": "2022-11-02T11:25:15.961Z"
   },
   {
    "duration": 0,
    "start_time": "2022-11-02T11:25:15.962Z"
   },
   {
    "duration": 0,
    "start_time": "2022-11-02T11:25:15.963Z"
   },
   {
    "duration": 0,
    "start_time": "2022-11-02T11:25:15.964Z"
   },
   {
    "duration": 0,
    "start_time": "2022-11-02T11:25:15.965Z"
   },
   {
    "duration": 0,
    "start_time": "2022-11-02T11:25:15.966Z"
   },
   {
    "duration": 494,
    "start_time": "2022-11-02T11:26:34.478Z"
   },
   {
    "duration": 16,
    "start_time": "2022-11-02T11:26:34.975Z"
   },
   {
    "duration": 2380,
    "start_time": "2022-11-02T11:26:34.993Z"
   },
   {
    "duration": 12,
    "start_time": "2022-11-02T11:26:37.375Z"
   },
   {
    "duration": 410,
    "start_time": "2022-11-02T11:26:37.397Z"
   },
   {
    "duration": 28,
    "start_time": "2022-11-02T11:26:37.809Z"
   },
   {
    "duration": 32,
    "start_time": "2022-11-02T11:26:37.839Z"
   },
   {
    "duration": 346,
    "start_time": "2022-11-02T11:26:37.873Z"
   },
   {
    "duration": 0,
    "start_time": "2022-11-02T11:26:38.221Z"
   },
   {
    "duration": 0,
    "start_time": "2022-11-02T11:26:38.223Z"
   },
   {
    "duration": 0,
    "start_time": "2022-11-02T11:26:38.224Z"
   },
   {
    "duration": 0,
    "start_time": "2022-11-02T11:26:38.225Z"
   },
   {
    "duration": 0,
    "start_time": "2022-11-02T11:26:38.227Z"
   },
   {
    "duration": 0,
    "start_time": "2022-11-02T11:26:38.228Z"
   },
   {
    "duration": 0,
    "start_time": "2022-11-02T11:26:38.229Z"
   },
   {
    "duration": 0,
    "start_time": "2022-11-02T11:26:38.230Z"
   },
   {
    "duration": 0,
    "start_time": "2022-11-02T11:26:38.231Z"
   },
   {
    "duration": 0,
    "start_time": "2022-11-02T11:26:38.232Z"
   },
   {
    "duration": 0,
    "start_time": "2022-11-02T11:26:38.254Z"
   },
   {
    "duration": 0,
    "start_time": "2022-11-02T11:26:38.256Z"
   },
   {
    "duration": 0,
    "start_time": "2022-11-02T11:26:38.257Z"
   },
   {
    "duration": 0,
    "start_time": "2022-11-02T11:26:38.258Z"
   },
   {
    "duration": 0,
    "start_time": "2022-11-02T11:26:38.259Z"
   },
   {
    "duration": 0,
    "start_time": "2022-11-02T11:26:38.260Z"
   },
   {
    "duration": 0,
    "start_time": "2022-11-02T11:26:38.261Z"
   },
   {
    "duration": 258,
    "start_time": "2022-11-02T11:26:57.769Z"
   },
   {
    "duration": 278,
    "start_time": "2022-11-02T11:27:14.476Z"
   },
   {
    "duration": 385,
    "start_time": "2022-11-02T11:27:50.952Z"
   },
   {
    "duration": 276,
    "start_time": "2022-11-02T11:28:06.625Z"
   },
   {
    "duration": 5,
    "start_time": "2022-11-02T11:28:30.651Z"
   },
   {
    "duration": 221,
    "start_time": "2022-11-02T11:28:37.285Z"
   },
   {
    "duration": 120,
    "start_time": "2022-11-02T11:28:54.455Z"
   },
   {
    "duration": 128,
    "start_time": "2022-11-02T11:28:57.235Z"
   },
   {
    "duration": 135,
    "start_time": "2022-11-02T11:31:37.147Z"
   },
   {
    "duration": 116,
    "start_time": "2022-11-02T11:40:12.443Z"
   },
   {
    "duration": 130,
    "start_time": "2022-11-02T11:40:37.746Z"
   },
   {
    "duration": 131,
    "start_time": "2022-11-02T11:42:05.287Z"
   },
   {
    "duration": 20,
    "start_time": "2022-11-02T11:49:21.852Z"
   },
   {
    "duration": 9,
    "start_time": "2022-11-02T11:49:56.652Z"
   },
   {
    "duration": 8,
    "start_time": "2022-11-02T11:50:34.656Z"
   },
   {
    "duration": 8,
    "start_time": "2022-11-02T11:51:43.661Z"
   },
   {
    "duration": 8,
    "start_time": "2022-11-02T11:54:57.986Z"
   },
   {
    "duration": 14,
    "start_time": "2022-11-02T11:55:18.273Z"
   },
   {
    "duration": 10,
    "start_time": "2022-11-02T11:55:50.486Z"
   },
   {
    "duration": 8,
    "start_time": "2022-11-02T11:56:05.132Z"
   },
   {
    "duration": 9,
    "start_time": "2022-11-02T11:56:09.150Z"
   },
   {
    "duration": 467,
    "start_time": "2022-11-02T12:19:34.425Z"
   },
   {
    "duration": 210,
    "start_time": "2022-11-02T12:19:38.518Z"
   },
   {
    "duration": 186,
    "start_time": "2022-11-02T12:19:38.995Z"
   },
   {
    "duration": 177,
    "start_time": "2022-11-02T12:19:39.444Z"
   },
   {
    "duration": 189,
    "start_time": "2022-11-02T12:19:39.741Z"
   },
   {
    "duration": 179,
    "start_time": "2022-11-02T12:19:39.933Z"
   },
   {
    "duration": 201,
    "start_time": "2022-11-02T12:19:40.114Z"
   },
   {
    "duration": 184,
    "start_time": "2022-11-02T12:19:40.475Z"
   },
   {
    "duration": 219,
    "start_time": "2022-11-02T12:19:41.412Z"
   },
   {
    "duration": 202,
    "start_time": "2022-11-02T12:19:42.233Z"
   },
   {
    "duration": 158,
    "start_time": "2022-11-02T12:19:42.911Z"
   },
   {
    "duration": 156,
    "start_time": "2022-11-02T12:19:43.547Z"
   },
   {
    "duration": 173,
    "start_time": "2022-11-02T12:19:44.183Z"
   },
   {
    "duration": 317,
    "start_time": "2022-11-02T12:19:44.823Z"
   },
   {
    "duration": 167,
    "start_time": "2022-11-02T12:19:46.133Z"
   },
   {
    "duration": 268,
    "start_time": "2022-11-02T12:19:53.316Z"
   },
   {
    "duration": 79,
    "start_time": "2022-11-02T12:52:08.815Z"
   },
   {
    "duration": 63,
    "start_time": "2022-11-02T12:52:56.055Z"
   },
   {
    "duration": 513,
    "start_time": "2022-11-02T12:54:28.914Z"
   },
   {
    "duration": 15,
    "start_time": "2022-11-02T12:54:29.429Z"
   },
   {
    "duration": 2488,
    "start_time": "2022-11-02T12:54:29.453Z"
   },
   {
    "duration": 9,
    "start_time": "2022-11-02T12:54:31.943Z"
   },
   {
    "duration": 415,
    "start_time": "2022-11-02T12:54:31.954Z"
   },
   {
    "duration": 28,
    "start_time": "2022-11-02T12:54:32.371Z"
   },
   {
    "duration": 22,
    "start_time": "2022-11-02T12:54:32.401Z"
   },
   {
    "duration": 219,
    "start_time": "2022-11-02T12:54:32.425Z"
   },
   {
    "duration": 13,
    "start_time": "2022-11-02T12:54:32.646Z"
   },
   {
    "duration": 157,
    "start_time": "2022-11-02T12:54:32.661Z"
   },
   {
    "duration": 122,
    "start_time": "2022-11-02T12:54:32.820Z"
   },
   {
    "duration": 228,
    "start_time": "2022-11-02T12:54:32.943Z"
   },
   {
    "duration": 152,
    "start_time": "2022-11-02T12:54:33.173Z"
   },
   {
    "duration": 139,
    "start_time": "2022-11-02T12:54:33.328Z"
   },
   {
    "duration": 145,
    "start_time": "2022-11-02T12:54:33.469Z"
   },
   {
    "duration": 388,
    "start_time": "2022-11-02T12:54:33.616Z"
   },
   {
    "duration": 219,
    "start_time": "2022-11-02T12:54:34.006Z"
   },
   {
    "duration": 202,
    "start_time": "2022-11-02T12:54:34.227Z"
   },
   {
    "duration": 197,
    "start_time": "2022-11-02T12:54:34.431Z"
   },
   {
    "duration": 217,
    "start_time": "2022-11-02T12:54:34.630Z"
   },
   {
    "duration": 262,
    "start_time": "2022-11-02T12:54:34.854Z"
   },
   {
    "duration": 196,
    "start_time": "2022-11-02T12:54:35.118Z"
   },
   {
    "duration": 193,
    "start_time": "2022-11-02T12:54:35.316Z"
   },
   {
    "duration": 188,
    "start_time": "2022-11-02T12:54:35.511Z"
   },
   {
    "duration": 202,
    "start_time": "2022-11-02T12:54:35.700Z"
   },
   {
    "duration": 164,
    "start_time": "2022-11-02T12:54:35.904Z"
   },
   {
    "duration": 173,
    "start_time": "2022-11-02T12:54:36.070Z"
   },
   {
    "duration": 195,
    "start_time": "2022-11-02T12:54:36.245Z"
   },
   {
    "duration": 183,
    "start_time": "2022-11-02T12:54:36.442Z"
   },
   {
    "duration": 189,
    "start_time": "2022-11-02T12:54:36.627Z"
   },
   {
    "duration": 406,
    "start_time": "2022-11-02T12:54:36.818Z"
   },
   {
    "duration": 144,
    "start_time": "2022-11-02T12:54:37.226Z"
   },
   {
    "duration": 97,
    "start_time": "2022-11-02T13:14:35.327Z"
   },
   {
    "duration": 115,
    "start_time": "2022-11-02T13:16:23.278Z"
   },
   {
    "duration": 116,
    "start_time": "2022-11-02T13:16:50.742Z"
   },
   {
    "duration": 16,
    "start_time": "2022-11-02T13:17:23.154Z"
   },
   {
    "duration": 9,
    "start_time": "2022-11-02T13:18:17.052Z"
   },
   {
    "duration": 654,
    "start_time": "2022-11-02T16:54:32.043Z"
   },
   {
    "duration": 17,
    "start_time": "2022-11-02T16:54:32.699Z"
   },
   {
    "duration": 2776,
    "start_time": "2022-11-02T16:54:32.718Z"
   },
   {
    "duration": 8,
    "start_time": "2022-11-02T16:54:35.497Z"
   },
   {
    "duration": 425,
    "start_time": "2022-11-02T16:54:35.507Z"
   },
   {
    "duration": 28,
    "start_time": "2022-11-02T16:54:35.934Z"
   },
   {
    "duration": 21,
    "start_time": "2022-11-02T16:54:35.964Z"
   },
   {
    "duration": 235,
    "start_time": "2022-11-02T16:54:35.987Z"
   },
   {
    "duration": 15,
    "start_time": "2022-11-02T16:54:36.224Z"
   },
   {
    "duration": 172,
    "start_time": "2022-11-02T16:54:36.242Z"
   },
   {
    "duration": 207,
    "start_time": "2022-11-02T16:54:36.416Z"
   },
   {
    "duration": 140,
    "start_time": "2022-11-02T16:54:36.625Z"
   },
   {
    "duration": 155,
    "start_time": "2022-11-02T16:54:36.767Z"
   },
   {
    "duration": 196,
    "start_time": "2022-11-02T16:54:36.923Z"
   },
   {
    "duration": 175,
    "start_time": "2022-11-02T16:54:37.122Z"
   },
   {
    "duration": 395,
    "start_time": "2022-11-02T16:54:37.299Z"
   },
   {
    "duration": 279,
    "start_time": "2022-11-02T16:54:37.696Z"
   },
   {
    "duration": 290,
    "start_time": "2022-11-02T16:54:37.978Z"
   },
   {
    "duration": 221,
    "start_time": "2022-11-02T16:54:38.270Z"
   },
   {
    "duration": 324,
    "start_time": "2022-11-02T16:54:38.493Z"
   },
   {
    "duration": 188,
    "start_time": "2022-11-02T16:54:38.819Z"
   },
   {
    "duration": 230,
    "start_time": "2022-11-02T16:54:39.010Z"
   },
   {
    "duration": 233,
    "start_time": "2022-11-02T16:54:39.242Z"
   },
   {
    "duration": 178,
    "start_time": "2022-11-02T16:54:39.476Z"
   },
   {
    "duration": 222,
    "start_time": "2022-11-02T16:54:39.656Z"
   },
   {
    "duration": 194,
    "start_time": "2022-11-02T16:54:39.880Z"
   },
   {
    "duration": 184,
    "start_time": "2022-11-02T16:54:40.076Z"
   },
   {
    "duration": 208,
    "start_time": "2022-11-02T16:54:40.264Z"
   },
   {
    "duration": 188,
    "start_time": "2022-11-02T16:54:40.474Z"
   },
   {
    "duration": 184,
    "start_time": "2022-11-02T16:54:40.664Z"
   },
   {
    "duration": 505,
    "start_time": "2022-11-02T16:54:40.851Z"
   },
   {
    "duration": 162,
    "start_time": "2022-11-02T16:54:41.359Z"
   },
   {
    "duration": 17,
    "start_time": "2022-11-02T16:54:41.523Z"
   },
   {
    "duration": 164,
    "start_time": "2022-11-02T17:00:59.663Z"
   },
   {
    "duration": 214,
    "start_time": "2022-11-02T17:02:08.422Z"
   },
   {
    "duration": 201,
    "start_time": "2022-11-02T17:03:56.494Z"
   },
   {
    "duration": 179,
    "start_time": "2022-11-02T17:04:05.929Z"
   },
   {
    "duration": 161,
    "start_time": "2022-11-02T17:06:15.966Z"
   },
   {
    "duration": 208,
    "start_time": "2022-11-02T17:06:57.671Z"
   },
   {
    "duration": 186,
    "start_time": "2022-11-02T17:08:49.957Z"
   },
   {
    "duration": 173,
    "start_time": "2022-11-02T17:12:14.326Z"
   },
   {
    "duration": 190,
    "start_time": "2022-11-02T17:12:42.570Z"
   },
   {
    "duration": 172,
    "start_time": "2022-11-02T17:13:27.038Z"
   },
   {
    "duration": 164,
    "start_time": "2022-11-02T17:17:32.491Z"
   },
   {
    "duration": 253,
    "start_time": "2022-11-02T17:19:29.663Z"
   },
   {
    "duration": 168,
    "start_time": "2022-11-02T17:19:48.890Z"
   },
   {
    "duration": 140,
    "start_time": "2022-11-02T17:21:41.717Z"
   },
   {
    "duration": 219,
    "start_time": "2022-11-02T17:23:41.427Z"
   },
   {
    "duration": 182,
    "start_time": "2022-11-02T17:24:19.804Z"
   },
   {
    "duration": 184,
    "start_time": "2022-11-02T17:24:25.220Z"
   },
   {
    "duration": 186,
    "start_time": "2022-11-02T17:26:06.457Z"
   },
   {
    "duration": 174,
    "start_time": "2022-11-02T17:27:00.412Z"
   },
   {
    "duration": 68,
    "start_time": "2022-11-02T18:06:29.525Z"
   },
   {
    "duration": 76,
    "start_time": "2022-11-02T18:06:53.917Z"
   },
   {
    "duration": 533,
    "start_time": "2022-11-02T18:07:10.058Z"
   },
   {
    "duration": 15,
    "start_time": "2022-11-02T18:07:10.592Z"
   },
   {
    "duration": 2534,
    "start_time": "2022-11-02T18:07:10.608Z"
   },
   {
    "duration": 12,
    "start_time": "2022-11-02T18:07:13.145Z"
   },
   {
    "duration": 477,
    "start_time": "2022-11-02T18:07:13.159Z"
   },
   {
    "duration": 28,
    "start_time": "2022-11-02T18:07:13.639Z"
   },
   {
    "duration": 25,
    "start_time": "2022-11-02T18:07:13.669Z"
   },
   {
    "duration": 250,
    "start_time": "2022-11-02T18:07:13.696Z"
   },
   {
    "duration": 8,
    "start_time": "2022-11-02T18:07:13.947Z"
   },
   {
    "duration": 162,
    "start_time": "2022-11-02T18:07:13.957Z"
   },
   {
    "duration": 155,
    "start_time": "2022-11-02T18:07:14.122Z"
   },
   {
    "duration": 297,
    "start_time": "2022-11-02T18:07:14.280Z"
   },
   {
    "duration": 194,
    "start_time": "2022-11-02T18:07:14.579Z"
   },
   {
    "duration": 142,
    "start_time": "2022-11-02T18:07:14.776Z"
   },
   {
    "duration": 169,
    "start_time": "2022-11-02T18:07:14.931Z"
   },
   {
    "duration": 382,
    "start_time": "2022-11-02T18:07:15.102Z"
   },
   {
    "duration": 232,
    "start_time": "2022-11-02T18:07:15.486Z"
   },
   {
    "duration": 221,
    "start_time": "2022-11-02T18:07:15.719Z"
   },
   {
    "duration": 211,
    "start_time": "2022-11-02T18:07:15.942Z"
   },
   {
    "duration": 228,
    "start_time": "2022-11-02T18:07:16.154Z"
   },
   {
    "duration": 267,
    "start_time": "2022-11-02T18:07:16.385Z"
   },
   {
    "duration": 238,
    "start_time": "2022-11-02T18:07:16.654Z"
   },
   {
    "duration": 214,
    "start_time": "2022-11-02T18:07:16.894Z"
   },
   {
    "duration": 184,
    "start_time": "2022-11-02T18:07:17.110Z"
   },
   {
    "duration": 243,
    "start_time": "2022-11-02T18:07:17.295Z"
   },
   {
    "duration": 159,
    "start_time": "2022-11-02T18:07:17.540Z"
   },
   {
    "duration": 211,
    "start_time": "2022-11-02T18:07:17.701Z"
   },
   {
    "duration": 241,
    "start_time": "2022-11-02T18:07:17.917Z"
   },
   {
    "duration": 184,
    "start_time": "2022-11-02T18:07:18.159Z"
   },
   {
    "duration": 180,
    "start_time": "2022-11-02T18:07:18.345Z"
   },
   {
    "duration": 390,
    "start_time": "2022-11-02T18:07:18.531Z"
   },
   {
    "duration": 125,
    "start_time": "2022-11-02T18:07:18.923Z"
   },
   {
    "duration": 167,
    "start_time": "2022-11-02T18:07:19.049Z"
   },
   {
    "duration": 202,
    "start_time": "2022-11-02T18:07:19.218Z"
   },
   {
    "duration": 201,
    "start_time": "2022-11-02T18:07:19.432Z"
   },
   {
    "duration": 200,
    "start_time": "2022-11-02T18:07:19.634Z"
   },
   {
    "duration": 179,
    "start_time": "2022-11-02T18:07:19.836Z"
   },
   {
    "duration": 193,
    "start_time": "2022-11-02T18:07:20.018Z"
   },
   {
    "duration": 179,
    "start_time": "2022-11-02T18:07:20.213Z"
   },
   {
    "duration": 204,
    "start_time": "2022-11-02T18:07:20.394Z"
   },
   {
    "duration": 75,
    "start_time": "2022-11-02T18:07:20.600Z"
   },
   {
    "duration": 68,
    "start_time": "2022-11-02T18:08:05.596Z"
   },
   {
    "duration": 518,
    "start_time": "2022-11-02T18:08:25.875Z"
   },
   {
    "duration": 24,
    "start_time": "2022-11-02T18:08:26.395Z"
   },
   {
    "duration": 2675,
    "start_time": "2022-11-02T18:08:26.431Z"
   },
   {
    "duration": 9,
    "start_time": "2022-11-02T18:08:29.109Z"
   },
   {
    "duration": 450,
    "start_time": "2022-11-02T18:08:29.120Z"
   },
   {
    "duration": 28,
    "start_time": "2022-11-02T18:08:29.572Z"
   },
   {
    "duration": 41,
    "start_time": "2022-11-02T18:08:29.602Z"
   },
   {
    "duration": 211,
    "start_time": "2022-11-02T18:08:29.646Z"
   },
   {
    "duration": 8,
    "start_time": "2022-11-02T18:08:29.860Z"
   },
   {
    "duration": 167,
    "start_time": "2022-11-02T18:08:29.871Z"
   },
   {
    "duration": 143,
    "start_time": "2022-11-02T18:08:30.040Z"
   },
   {
    "duration": 223,
    "start_time": "2022-11-02T18:08:30.186Z"
   },
   {
    "duration": 172,
    "start_time": "2022-11-02T18:08:30.411Z"
   },
   {
    "duration": 139,
    "start_time": "2022-11-02T18:08:30.585Z"
   },
   {
    "duration": 148,
    "start_time": "2022-11-02T18:08:30.732Z"
   },
   {
    "duration": 449,
    "start_time": "2022-11-02T18:08:30.883Z"
   },
   {
    "duration": 265,
    "start_time": "2022-11-02T18:08:31.334Z"
   },
   {
    "duration": 246,
    "start_time": "2022-11-02T18:08:31.601Z"
   },
   {
    "duration": 226,
    "start_time": "2022-11-02T18:08:31.849Z"
   },
   {
    "duration": 229,
    "start_time": "2022-11-02T18:08:32.077Z"
   },
   {
    "duration": 285,
    "start_time": "2022-11-02T18:08:32.308Z"
   },
   {
    "duration": 218,
    "start_time": "2022-11-02T18:08:32.595Z"
   },
   {
    "duration": 210,
    "start_time": "2022-11-02T18:08:32.815Z"
   },
   {
    "duration": 179,
    "start_time": "2022-11-02T18:08:33.032Z"
   },
   {
    "duration": 220,
    "start_time": "2022-11-02T18:08:33.212Z"
   },
   {
    "duration": 153,
    "start_time": "2022-11-02T18:08:33.434Z"
   },
   {
    "duration": 186,
    "start_time": "2022-11-02T18:08:33.590Z"
   },
   {
    "duration": 197,
    "start_time": "2022-11-02T18:08:33.780Z"
   },
   {
    "duration": 199,
    "start_time": "2022-11-02T18:08:33.980Z"
   },
   {
    "duration": 199,
    "start_time": "2022-11-02T18:08:34.181Z"
   },
   {
    "duration": 422,
    "start_time": "2022-11-02T18:08:34.381Z"
   },
   {
    "duration": 134,
    "start_time": "2022-11-02T18:08:34.805Z"
   },
   {
    "duration": 191,
    "start_time": "2022-11-02T18:08:34.941Z"
   },
   {
    "duration": 200,
    "start_time": "2022-11-02T18:08:35.134Z"
   },
   {
    "duration": 202,
    "start_time": "2022-11-02T18:08:35.336Z"
   },
   {
    "duration": 195,
    "start_time": "2022-11-02T18:08:35.540Z"
   },
   {
    "duration": 169,
    "start_time": "2022-11-02T18:08:35.737Z"
   },
   {
    "duration": 192,
    "start_time": "2022-11-02T18:08:35.908Z"
   },
   {
    "duration": 204,
    "start_time": "2022-11-02T18:08:36.103Z"
   },
   {
    "duration": 175,
    "start_time": "2022-11-02T18:08:36.309Z"
   },
   {
    "duration": 74,
    "start_time": "2022-11-02T18:08:36.486Z"
   },
   {
    "duration": 68,
    "start_time": "2022-11-02T18:09:26.594Z"
   },
   {
    "duration": 66,
    "start_time": "2022-11-02T18:10:05.231Z"
   },
   {
    "duration": 19,
    "start_time": "2022-11-02T18:10:25.777Z"
   },
   {
    "duration": 18,
    "start_time": "2022-11-02T18:10:29.193Z"
   },
   {
    "duration": 74,
    "start_time": "2022-11-02T18:11:14.277Z"
   },
   {
    "duration": 68,
    "start_time": "2022-11-02T18:11:28.689Z"
   },
   {
    "duration": 67,
    "start_time": "2022-11-02T18:11:33.458Z"
   },
   {
    "duration": 25,
    "start_time": "2022-11-02T18:11:43.440Z"
   },
   {
    "duration": 23,
    "start_time": "2022-11-02T18:12:29.170Z"
   },
   {
    "duration": 104,
    "start_time": "2022-11-02T18:12:53.711Z"
   },
   {
    "duration": 22,
    "start_time": "2022-11-02T18:13:18.270Z"
   },
   {
    "duration": 25,
    "start_time": "2022-11-02T18:13:33.743Z"
   },
   {
    "duration": 34,
    "start_time": "2022-11-02T18:14:24.367Z"
   },
   {
    "duration": 34,
    "start_time": "2022-11-02T18:14:57.119Z"
   },
   {
    "duration": 243,
    "start_time": "2022-11-02T18:15:27.836Z"
   },
   {
    "duration": 198,
    "start_time": "2022-11-02T18:15:45.435Z"
   },
   {
    "duration": 173,
    "start_time": "2022-11-02T18:15:56.463Z"
   },
   {
    "duration": 183,
    "start_time": "2022-11-02T18:16:25.226Z"
   },
   {
    "duration": 197,
    "start_time": "2022-11-02T18:16:34.872Z"
   },
   {
    "duration": 211,
    "start_time": "2022-11-02T18:16:45.422Z"
   },
   {
    "duration": 331,
    "start_time": "2022-11-02T18:16:52.713Z"
   },
   {
    "duration": 211,
    "start_time": "2022-11-02T18:17:00.691Z"
   },
   {
    "duration": 170,
    "start_time": "2022-11-02T18:17:09.033Z"
   },
   {
    "duration": 121,
    "start_time": "2022-11-02T18:17:22.003Z"
   },
   {
    "duration": 272,
    "start_time": "2022-11-02T18:17:36.268Z"
   },
   {
    "duration": 300,
    "start_time": "2022-11-02T18:17:42.405Z"
   },
   {
    "duration": 260,
    "start_time": "2022-11-02T18:17:56.237Z"
   },
   {
    "duration": 184,
    "start_time": "2022-11-02T18:18:13.447Z"
   },
   {
    "duration": 203,
    "start_time": "2022-11-02T18:18:26.835Z"
   },
   {
    "duration": 287,
    "start_time": "2022-11-02T18:18:46.431Z"
   },
   {
    "duration": 160,
    "start_time": "2022-11-02T18:19:09.539Z"
   },
   {
    "duration": 224,
    "start_time": "2022-11-02T18:19:32.521Z"
   },
   {
    "duration": 214,
    "start_time": "2022-11-02T18:19:50.062Z"
   },
   {
    "duration": 225,
    "start_time": "2022-11-02T18:20:04.094Z"
   },
   {
    "duration": 166,
    "start_time": "2022-11-02T18:20:21.912Z"
   },
   {
    "duration": 215,
    "start_time": "2022-11-02T18:20:40.195Z"
   },
   {
    "duration": 236,
    "start_time": "2022-11-02T18:21:05.350Z"
   },
   {
    "duration": 209,
    "start_time": "2022-11-02T18:21:22.789Z"
   },
   {
    "duration": 203,
    "start_time": "2022-11-02T18:21:37.502Z"
   },
   {
    "duration": 19,
    "start_time": "2022-11-02T18:21:55.706Z"
   },
   {
    "duration": 503,
    "start_time": "2022-11-02T18:22:20.277Z"
   },
   {
    "duration": 17,
    "start_time": "2022-11-02T18:22:20.783Z"
   },
   {
    "duration": 2624,
    "start_time": "2022-11-02T18:22:20.802Z"
   },
   {
    "duration": 11,
    "start_time": "2022-11-02T18:22:23.430Z"
   },
   {
    "duration": 514,
    "start_time": "2022-11-02T18:22:23.443Z"
   },
   {
    "duration": 29,
    "start_time": "2022-11-02T18:22:23.959Z"
   },
   {
    "duration": 20,
    "start_time": "2022-11-02T18:22:23.989Z"
   },
   {
    "duration": 247,
    "start_time": "2022-11-02T18:22:24.011Z"
   },
   {
    "duration": 9,
    "start_time": "2022-11-02T18:22:24.261Z"
   },
   {
    "duration": 167,
    "start_time": "2022-11-02T18:22:24.274Z"
   },
   {
    "duration": 130,
    "start_time": "2022-11-02T18:22:24.443Z"
   },
   {
    "duration": 217,
    "start_time": "2022-11-02T18:22:24.575Z"
   },
   {
    "duration": 158,
    "start_time": "2022-11-02T18:22:24.793Z"
   },
   {
    "duration": 152,
    "start_time": "2022-11-02T18:22:24.953Z"
   },
   {
    "duration": 155,
    "start_time": "2022-11-02T18:22:25.106Z"
   },
   {
    "duration": 416,
    "start_time": "2022-11-02T18:22:25.263Z"
   },
   {
    "duration": 233,
    "start_time": "2022-11-02T18:22:25.681Z"
   },
   {
    "duration": 223,
    "start_time": "2022-11-02T18:22:25.916Z"
   },
   {
    "duration": 210,
    "start_time": "2022-11-02T18:22:26.141Z"
   },
   {
    "duration": 219,
    "start_time": "2022-11-02T18:22:26.353Z"
   },
   {
    "duration": 279,
    "start_time": "2022-11-02T18:22:26.574Z"
   },
   {
    "duration": 216,
    "start_time": "2022-11-02T18:22:26.855Z"
   },
   {
    "duration": 199,
    "start_time": "2022-11-02T18:22:27.073Z"
   },
   {
    "duration": 197,
    "start_time": "2022-11-02T18:22:27.274Z"
   },
   {
    "duration": 199,
    "start_time": "2022-11-02T18:22:27.474Z"
   },
   {
    "duration": 190,
    "start_time": "2022-11-02T18:22:27.675Z"
   },
   {
    "duration": 233,
    "start_time": "2022-11-02T18:22:27.868Z"
   },
   {
    "duration": 212,
    "start_time": "2022-11-02T18:22:28.108Z"
   },
   {
    "duration": 169,
    "start_time": "2022-11-02T18:22:28.331Z"
   },
   {
    "duration": 170,
    "start_time": "2022-11-02T18:22:28.502Z"
   },
   {
    "duration": 398,
    "start_time": "2022-11-02T18:22:28.674Z"
   },
   {
    "duration": 132,
    "start_time": "2022-11-02T18:22:29.073Z"
   },
   {
    "duration": 181,
    "start_time": "2022-11-02T18:22:29.207Z"
   },
   {
    "duration": 210,
    "start_time": "2022-11-02T18:22:29.391Z"
   },
   {
    "duration": 215,
    "start_time": "2022-11-02T18:22:29.603Z"
   },
   {
    "duration": 376,
    "start_time": "2022-11-02T18:22:29.820Z"
   },
   {
    "duration": 170,
    "start_time": "2022-11-02T18:22:30.198Z"
   },
   {
    "duration": 221,
    "start_time": "2022-11-02T18:22:30.370Z"
   },
   {
    "duration": 201,
    "start_time": "2022-11-02T18:22:30.592Z"
   },
   {
    "duration": 217,
    "start_time": "2022-11-02T18:22:30.794Z"
   },
   {
    "duration": 42,
    "start_time": "2022-11-02T18:22:31.013Z"
   },
   {
    "duration": 132,
    "start_time": "2022-11-02T18:22:44.724Z"
   },
   {
    "duration": 12,
    "start_time": "2022-11-02T18:23:04.908Z"
   },
   {
    "duration": 25,
    "start_time": "2022-11-02T18:23:41.165Z"
   },
   {
    "duration": 99,
    "start_time": "2022-11-02T18:38:54.438Z"
   },
   {
    "duration": 22,
    "start_time": "2022-11-02T18:39:09.930Z"
   },
   {
    "duration": 548,
    "start_time": "2022-11-02T18:39:19.671Z"
   },
   {
    "duration": 26,
    "start_time": "2022-11-02T18:39:20.222Z"
   },
   {
    "duration": 2536,
    "start_time": "2022-11-02T18:39:20.250Z"
   },
   {
    "duration": 12,
    "start_time": "2022-11-02T18:39:22.789Z"
   },
   {
    "duration": 436,
    "start_time": "2022-11-02T18:39:22.804Z"
   },
   {
    "duration": 27,
    "start_time": "2022-11-02T18:39:23.243Z"
   },
   {
    "duration": 23,
    "start_time": "2022-11-02T18:39:23.274Z"
   },
   {
    "duration": 233,
    "start_time": "2022-11-02T18:39:23.299Z"
   },
   {
    "duration": 9,
    "start_time": "2022-11-02T18:39:23.534Z"
   },
   {
    "duration": 175,
    "start_time": "2022-11-02T18:39:23.547Z"
   },
   {
    "duration": 131,
    "start_time": "2022-11-02T18:39:23.732Z"
   },
   {
    "duration": 225,
    "start_time": "2022-11-02T18:39:23.865Z"
   },
   {
    "duration": 146,
    "start_time": "2022-11-02T18:39:24.092Z"
   },
   {
    "duration": 149,
    "start_time": "2022-11-02T18:39:24.239Z"
   },
   {
    "duration": 154,
    "start_time": "2022-11-02T18:39:24.390Z"
   },
   {
    "duration": 373,
    "start_time": "2022-11-02T18:39:24.546Z"
   },
   {
    "duration": 247,
    "start_time": "2022-11-02T18:39:24.921Z"
   },
   {
    "duration": 242,
    "start_time": "2022-11-02T18:39:25.170Z"
   },
   {
    "duration": 219,
    "start_time": "2022-11-02T18:39:25.414Z"
   },
   {
    "duration": 227,
    "start_time": "2022-11-02T18:39:25.635Z"
   },
   {
    "duration": 284,
    "start_time": "2022-11-02T18:39:25.864Z"
   },
   {
    "duration": 228,
    "start_time": "2022-11-02T18:39:26.150Z"
   },
   {
    "duration": 225,
    "start_time": "2022-11-02T18:39:26.380Z"
   },
   {
    "duration": 231,
    "start_time": "2022-11-02T18:39:26.608Z"
   },
   {
    "duration": 220,
    "start_time": "2022-11-02T18:39:26.841Z"
   },
   {
    "duration": 200,
    "start_time": "2022-11-02T18:39:27.063Z"
   },
   {
    "duration": 219,
    "start_time": "2022-11-02T18:39:27.264Z"
   },
   {
    "duration": 204,
    "start_time": "2022-11-02T18:39:27.488Z"
   },
   {
    "duration": 262,
    "start_time": "2022-11-02T18:39:27.694Z"
   },
   {
    "duration": 241,
    "start_time": "2022-11-02T18:39:27.959Z"
   },
   {
    "duration": 432,
    "start_time": "2022-11-02T18:39:28.202Z"
   },
   {
    "duration": 140,
    "start_time": "2022-11-02T18:39:28.636Z"
   },
   {
    "duration": 183,
    "start_time": "2022-11-02T18:39:28.778Z"
   },
   {
    "duration": 223,
    "start_time": "2022-11-02T18:39:28.962Z"
   },
   {
    "duration": 224,
    "start_time": "2022-11-02T18:39:29.187Z"
   },
   {
    "duration": 220,
    "start_time": "2022-11-02T18:39:29.413Z"
   },
   {
    "duration": 159,
    "start_time": "2022-11-02T18:39:29.635Z"
   },
   {
    "duration": 213,
    "start_time": "2022-11-02T18:39:29.796Z"
   },
   {
    "duration": 210,
    "start_time": "2022-11-02T18:39:30.011Z"
   },
   {
    "duration": 178,
    "start_time": "2022-11-02T18:39:30.234Z"
   },
   {
    "duration": 43,
    "start_time": "2022-11-02T18:39:30.414Z"
   },
   {
    "duration": 226,
    "start_time": "2022-11-02T18:39:30.459Z"
   },
   {
    "duration": 258,
    "start_time": "2022-11-02T18:40:18.822Z"
   },
   {
    "duration": 581,
    "start_time": "2022-11-02T19:10:14.603Z"
   },
   {
    "duration": 18,
    "start_time": "2022-11-02T19:10:15.188Z"
   },
   {
    "duration": 2730,
    "start_time": "2022-11-02T19:10:15.208Z"
   },
   {
    "duration": 13,
    "start_time": "2022-11-02T19:10:17.942Z"
   },
   {
    "duration": 490,
    "start_time": "2022-11-02T19:10:17.957Z"
   },
   {
    "duration": 29,
    "start_time": "2022-11-02T19:10:18.449Z"
   },
   {
    "duration": 20,
    "start_time": "2022-11-02T19:10:18.479Z"
   },
   {
    "duration": 232,
    "start_time": "2022-11-02T19:10:18.501Z"
   },
   {
    "duration": 8,
    "start_time": "2022-11-02T19:10:18.735Z"
   },
   {
    "duration": 153,
    "start_time": "2022-11-02T19:10:18.747Z"
   },
   {
    "duration": 113,
    "start_time": "2022-11-02T19:10:18.902Z"
   },
   {
    "duration": 208,
    "start_time": "2022-11-02T19:10:19.017Z"
   },
   {
    "duration": 141,
    "start_time": "2022-11-02T19:10:19.232Z"
   },
   {
    "duration": 139,
    "start_time": "2022-11-02T19:10:19.375Z"
   },
   {
    "duration": 151,
    "start_time": "2022-11-02T19:10:19.516Z"
   },
   {
    "duration": 389,
    "start_time": "2022-11-02T19:10:19.668Z"
   },
   {
    "duration": 235,
    "start_time": "2022-11-02T19:10:20.059Z"
   },
   {
    "duration": 238,
    "start_time": "2022-11-02T19:10:20.296Z"
   },
   {
    "duration": 202,
    "start_time": "2022-11-02T19:10:20.536Z"
   },
   {
    "duration": 223,
    "start_time": "2022-11-02T19:10:20.740Z"
   },
   {
    "duration": 288,
    "start_time": "2022-11-02T19:10:20.965Z"
   },
   {
    "duration": 232,
    "start_time": "2022-11-02T19:10:21.255Z"
   },
   {
    "duration": 205,
    "start_time": "2022-11-02T19:10:21.489Z"
   },
   {
    "duration": 177,
    "start_time": "2022-11-02T19:10:21.696Z"
   },
   {
    "duration": 192,
    "start_time": "2022-11-02T19:10:21.875Z"
   },
   {
    "duration": 181,
    "start_time": "2022-11-02T19:10:22.069Z"
   },
   {
    "duration": 189,
    "start_time": "2022-11-02T19:10:22.252Z"
   },
   {
    "duration": 204,
    "start_time": "2022-11-02T19:10:22.444Z"
   },
   {
    "duration": 189,
    "start_time": "2022-11-02T19:10:22.650Z"
   },
   {
    "duration": 190,
    "start_time": "2022-11-02T19:10:22.841Z"
   },
   {
    "duration": 434,
    "start_time": "2022-11-02T19:10:23.034Z"
   },
   {
    "duration": 135,
    "start_time": "2022-11-02T19:10:23.470Z"
   },
   {
    "duration": 183,
    "start_time": "2022-11-02T19:10:23.607Z"
   },
   {
    "duration": 214,
    "start_time": "2022-11-02T19:10:23.793Z"
   },
   {
    "duration": 183,
    "start_time": "2022-11-02T19:10:24.009Z"
   },
   {
    "duration": 199,
    "start_time": "2022-11-02T19:10:24.193Z"
   },
   {
    "duration": 171,
    "start_time": "2022-11-02T19:10:24.394Z"
   },
   {
    "duration": 194,
    "start_time": "2022-11-02T19:10:24.567Z"
   },
   {
    "duration": 186,
    "start_time": "2022-11-02T19:10:24.763Z"
   },
   {
    "duration": 193,
    "start_time": "2022-11-02T19:10:24.951Z"
   },
   {
    "duration": 32,
    "start_time": "2022-11-02T19:10:25.146Z"
   },
   {
    "duration": 214,
    "start_time": "2022-11-02T19:10:25.180Z"
   },
   {
    "duration": 525,
    "start_time": "2022-11-02T20:49:19.469Z"
   },
   {
    "duration": 21,
    "start_time": "2022-11-02T20:49:19.997Z"
   },
   {
    "duration": 2305,
    "start_time": "2022-11-02T20:49:20.022Z"
   },
   {
    "duration": 12,
    "start_time": "2022-11-02T20:49:22.329Z"
   },
   {
    "duration": 403,
    "start_time": "2022-11-02T20:49:22.343Z"
   },
   {
    "duration": 27,
    "start_time": "2022-11-02T20:49:22.748Z"
   },
   {
    "duration": 22,
    "start_time": "2022-11-02T20:49:22.777Z"
   },
   {
    "duration": 234,
    "start_time": "2022-11-02T20:49:22.801Z"
   },
   {
    "duration": 7,
    "start_time": "2022-11-02T20:49:23.038Z"
   },
   {
    "duration": 149,
    "start_time": "2022-11-02T20:49:23.047Z"
   },
   {
    "duration": 121,
    "start_time": "2022-11-02T20:49:23.197Z"
   },
   {
    "duration": 180,
    "start_time": "2022-11-02T20:49:23.333Z"
   },
   {
    "duration": 156,
    "start_time": "2022-11-02T20:49:23.515Z"
   },
   {
    "duration": 125,
    "start_time": "2022-11-02T20:49:23.673Z"
   },
   {
    "duration": 142,
    "start_time": "2022-11-02T20:49:23.800Z"
   },
   {
    "duration": 365,
    "start_time": "2022-11-02T20:49:23.943Z"
   },
   {
    "duration": 209,
    "start_time": "2022-11-02T20:49:24.310Z"
   },
   {
    "duration": 223,
    "start_time": "2022-11-02T20:49:24.520Z"
   },
   {
    "duration": 196,
    "start_time": "2022-11-02T20:49:24.745Z"
   },
   {
    "duration": 200,
    "start_time": "2022-11-02T20:49:24.943Z"
   },
   {
    "duration": 247,
    "start_time": "2022-11-02T20:49:25.144Z"
   },
   {
    "duration": 203,
    "start_time": "2022-11-02T20:49:25.393Z"
   },
   {
    "duration": 201,
    "start_time": "2022-11-02T20:49:25.598Z"
   },
   {
    "duration": 184,
    "start_time": "2022-11-02T20:49:25.801Z"
   },
   {
    "duration": 196,
    "start_time": "2022-11-02T20:49:25.987Z"
   },
   {
    "duration": 198,
    "start_time": "2022-11-02T20:49:26.185Z"
   },
   {
    "duration": 249,
    "start_time": "2022-11-02T20:49:26.389Z"
   },
   {
    "duration": 197,
    "start_time": "2022-11-02T20:49:26.640Z"
   },
   {
    "duration": 153,
    "start_time": "2022-11-02T20:49:26.839Z"
   },
   {
    "duration": 169,
    "start_time": "2022-11-02T20:49:26.993Z"
   },
   {
    "duration": 354,
    "start_time": "2022-11-02T20:49:27.164Z"
   },
   {
    "duration": 123,
    "start_time": "2022-11-02T20:49:27.520Z"
   },
   {
    "duration": 167,
    "start_time": "2022-11-02T20:49:27.645Z"
   },
   {
    "duration": 200,
    "start_time": "2022-11-02T20:49:27.814Z"
   },
   {
    "duration": 218,
    "start_time": "2022-11-02T20:49:28.017Z"
   },
   {
    "duration": 181,
    "start_time": "2022-11-02T20:49:28.237Z"
   },
   {
    "duration": 156,
    "start_time": "2022-11-02T20:49:28.420Z"
   },
   {
    "duration": 221,
    "start_time": "2022-11-02T20:49:28.578Z"
   },
   {
    "duration": 225,
    "start_time": "2022-11-02T20:49:28.801Z"
   },
   {
    "duration": 166,
    "start_time": "2022-11-02T20:49:29.034Z"
   },
   {
    "duration": 40,
    "start_time": "2022-11-02T20:49:29.202Z"
   },
   {
    "duration": 191,
    "start_time": "2022-11-02T20:49:29.244Z"
   },
   {
    "duration": 110,
    "start_time": "2022-11-02T20:52:50.657Z"
   },
   {
    "duration": 14,
    "start_time": "2022-11-02T20:52:57.039Z"
   },
   {
    "duration": 162,
    "start_time": "2022-11-02T20:55:18.334Z"
   },
   {
    "duration": 45,
    "start_time": "2022-11-03T05:38:40.917Z"
   },
   {
    "duration": 678,
    "start_time": "2022-11-03T05:38:52.718Z"
   },
   {
    "duration": 15,
    "start_time": "2022-11-03T05:38:53.398Z"
   },
   {
    "duration": 2325,
    "start_time": "2022-11-03T05:38:53.415Z"
   },
   {
    "duration": 9,
    "start_time": "2022-11-03T05:38:55.743Z"
   },
   {
    "duration": 380,
    "start_time": "2022-11-03T05:38:55.753Z"
   },
   {
    "duration": 24,
    "start_time": "2022-11-03T05:38:56.135Z"
   },
   {
    "duration": 30,
    "start_time": "2022-11-03T05:38:56.161Z"
   },
   {
    "duration": 187,
    "start_time": "2022-11-03T05:38:56.192Z"
   },
   {
    "duration": 6,
    "start_time": "2022-11-03T05:38:56.381Z"
   },
   {
    "duration": 205,
    "start_time": "2022-11-03T05:38:56.390Z"
   },
   {
    "duration": 0,
    "start_time": "2022-11-03T05:38:56.598Z"
   },
   {
    "duration": 0,
    "start_time": "2022-11-03T05:38:56.599Z"
   },
   {
    "duration": 0,
    "start_time": "2022-11-03T05:38:56.600Z"
   },
   {
    "duration": 0,
    "start_time": "2022-11-03T05:38:56.602Z"
   },
   {
    "duration": 0,
    "start_time": "2022-11-03T05:38:56.603Z"
   },
   {
    "duration": 0,
    "start_time": "2022-11-03T05:38:56.605Z"
   },
   {
    "duration": 0,
    "start_time": "2022-11-03T05:38:56.606Z"
   },
   {
    "duration": 0,
    "start_time": "2022-11-03T05:38:56.607Z"
   },
   {
    "duration": 0,
    "start_time": "2022-11-03T05:38:56.609Z"
   },
   {
    "duration": 0,
    "start_time": "2022-11-03T05:38:56.610Z"
   },
   {
    "duration": 0,
    "start_time": "2022-11-03T05:38:56.612Z"
   },
   {
    "duration": 0,
    "start_time": "2022-11-03T05:38:56.613Z"
   },
   {
    "duration": 0,
    "start_time": "2022-11-03T05:38:56.615Z"
   },
   {
    "duration": 0,
    "start_time": "2022-11-03T05:38:56.616Z"
   },
   {
    "duration": 0,
    "start_time": "2022-11-03T05:38:56.617Z"
   },
   {
    "duration": 0,
    "start_time": "2022-11-03T05:38:56.619Z"
   },
   {
    "duration": 0,
    "start_time": "2022-11-03T05:38:56.620Z"
   },
   {
    "duration": 0,
    "start_time": "2022-11-03T05:38:56.621Z"
   },
   {
    "duration": 0,
    "start_time": "2022-11-03T05:38:56.622Z"
   },
   {
    "duration": 0,
    "start_time": "2022-11-03T05:38:56.722Z"
   },
   {
    "duration": 0,
    "start_time": "2022-11-03T05:38:56.723Z"
   },
   {
    "duration": 0,
    "start_time": "2022-11-03T05:38:56.724Z"
   },
   {
    "duration": 0,
    "start_time": "2022-11-03T05:38:56.725Z"
   },
   {
    "duration": 0,
    "start_time": "2022-11-03T05:38:56.726Z"
   },
   {
    "duration": 0,
    "start_time": "2022-11-03T05:38:56.727Z"
   },
   {
    "duration": 0,
    "start_time": "2022-11-03T05:38:56.728Z"
   },
   {
    "duration": 0,
    "start_time": "2022-11-03T05:38:56.729Z"
   },
   {
    "duration": 0,
    "start_time": "2022-11-03T05:38:56.730Z"
   },
   {
    "duration": 0,
    "start_time": "2022-11-03T05:38:56.731Z"
   },
   {
    "duration": 0,
    "start_time": "2022-11-03T05:38:56.732Z"
   },
   {
    "duration": 0,
    "start_time": "2022-11-03T05:38:56.733Z"
   },
   {
    "duration": 0,
    "start_time": "2022-11-03T05:38:56.734Z"
   },
   {
    "duration": 0,
    "start_time": "2022-11-03T05:38:56.776Z"
   },
   {
    "duration": 21,
    "start_time": "2022-11-03T05:39:29.043Z"
   },
   {
    "duration": 103,
    "start_time": "2022-11-03T05:39:49.810Z"
   },
   {
    "duration": 109,
    "start_time": "2022-11-03T05:39:54.616Z"
   },
   {
    "duration": 115,
    "start_time": "2022-11-03T05:39:55.841Z"
   },
   {
    "duration": 115,
    "start_time": "2022-11-03T05:39:56.493Z"
   },
   {
    "duration": 116,
    "start_time": "2022-11-03T05:39:57.512Z"
   },
   {
    "duration": 2175,
    "start_time": "2022-11-03T05:40:24.903Z"
   },
   {
    "duration": 709,
    "start_time": "2022-11-03T05:42:55.904Z"
   },
   {
    "duration": 15,
    "start_time": "2022-11-03T05:42:56.615Z"
   },
   {
    "duration": 1981,
    "start_time": "2022-11-03T05:42:56.631Z"
   },
   {
    "duration": 9,
    "start_time": "2022-11-03T05:42:58.614Z"
   },
   {
    "duration": 389,
    "start_time": "2022-11-03T05:42:58.625Z"
   },
   {
    "duration": 24,
    "start_time": "2022-11-03T05:42:59.016Z"
   },
   {
    "duration": 31,
    "start_time": "2022-11-03T05:42:59.041Z"
   },
   {
    "duration": 178,
    "start_time": "2022-11-03T05:42:59.073Z"
   },
   {
    "duration": 7,
    "start_time": "2022-11-03T05:42:59.252Z"
   },
   {
    "duration": 138,
    "start_time": "2022-11-03T05:42:59.260Z"
   },
   {
    "duration": 109,
    "start_time": "2022-11-03T05:42:59.400Z"
   },
   {
    "duration": 186,
    "start_time": "2022-11-03T05:42:59.510Z"
   },
   {
    "duration": 127,
    "start_time": "2022-11-03T05:42:59.698Z"
   },
   {
    "duration": 125,
    "start_time": "2022-11-03T05:42:59.828Z"
   },
   {
    "duration": 138,
    "start_time": "2022-11-03T05:42:59.954Z"
   },
   {
    "duration": 21,
    "start_time": "2022-11-03T05:43:00.094Z"
   },
   {
    "duration": 354,
    "start_time": "2022-11-03T05:43:00.117Z"
   },
   {
    "duration": 209,
    "start_time": "2022-11-03T05:43:00.472Z"
   },
   {
    "duration": 183,
    "start_time": "2022-11-03T05:43:00.683Z"
   },
   {
    "duration": 176,
    "start_time": "2022-11-03T05:43:00.876Z"
   },
   {
    "duration": 211,
    "start_time": "2022-11-03T05:43:01.053Z"
   },
   {
    "duration": 225,
    "start_time": "2022-11-03T05:43:01.276Z"
   },
   {
    "duration": 219,
    "start_time": "2022-11-03T05:43:01.502Z"
   },
   {
    "duration": 198,
    "start_time": "2022-11-03T05:43:01.723Z"
   },
   {
    "duration": 190,
    "start_time": "2022-11-03T05:43:01.923Z"
   },
   {
    "duration": 193,
    "start_time": "2022-11-03T05:43:02.115Z"
   },
   {
    "duration": 178,
    "start_time": "2022-11-03T05:43:02.309Z"
   },
   {
    "duration": 158,
    "start_time": "2022-11-03T05:43:02.488Z"
   },
   {
    "duration": 193,
    "start_time": "2022-11-03T05:43:02.648Z"
   },
   {
    "duration": 192,
    "start_time": "2022-11-03T05:43:02.843Z"
   },
   {
    "duration": 178,
    "start_time": "2022-11-03T05:43:03.037Z"
   },
   {
    "duration": 331,
    "start_time": "2022-11-03T05:43:03.216Z"
   },
   {
    "duration": 126,
    "start_time": "2022-11-03T05:43:03.548Z"
   },
   {
    "duration": 152,
    "start_time": "2022-11-03T05:43:03.677Z"
   },
   {
    "duration": 179,
    "start_time": "2022-11-03T05:43:03.831Z"
   },
   {
    "duration": 184,
    "start_time": "2022-11-03T05:43:04.011Z"
   },
   {
    "duration": 174,
    "start_time": "2022-11-03T05:43:04.197Z"
   },
   {
    "duration": 134,
    "start_time": "2022-11-03T05:43:04.377Z"
   },
   {
    "duration": 180,
    "start_time": "2022-11-03T05:43:04.513Z"
   },
   {
    "duration": 163,
    "start_time": "2022-11-03T05:43:04.695Z"
   },
   {
    "duration": 175,
    "start_time": "2022-11-03T05:43:04.861Z"
   },
   {
    "duration": 40,
    "start_time": "2022-11-03T05:43:05.038Z"
   },
   {
    "duration": 211,
    "start_time": "2022-11-03T05:43:05.080Z"
   },
   {
    "duration": 200,
    "start_time": "2022-11-03T05:43:52.807Z"
   },
   {
    "duration": 279,
    "start_time": "2022-11-03T05:44:22.225Z"
   },
   {
    "duration": 100,
    "start_time": "2022-11-03T05:44:44.966Z"
   },
   {
    "duration": 113,
    "start_time": "2022-11-03T05:46:09.881Z"
   },
   {
    "duration": 92,
    "start_time": "2022-11-03T05:46:18.329Z"
   },
   {
    "duration": 105,
    "start_time": "2022-11-03T05:46:26.361Z"
   },
   {
    "duration": 108,
    "start_time": "2022-11-03T05:46:36.422Z"
   },
   {
    "duration": 127,
    "start_time": "2022-11-03T05:46:49.091Z"
   },
   {
    "duration": 109,
    "start_time": "2022-11-03T05:46:56.048Z"
   },
   {
    "duration": 100,
    "start_time": "2022-11-03T05:47:20.616Z"
   },
   {
    "duration": 200,
    "start_time": "2022-11-03T05:57:12.349Z"
   },
   {
    "duration": 22,
    "start_time": "2022-11-03T06:15:54.775Z"
   },
   {
    "duration": 327,
    "start_time": "2022-11-03T06:23:31.563Z"
   },
   {
    "duration": 272,
    "start_time": "2022-11-03T06:23:57.777Z"
   },
   {
    "duration": 44,
    "start_time": "2022-11-03T06:25:33.661Z"
   },
   {
    "duration": 44,
    "start_time": "2022-11-03T06:25:40.982Z"
   },
   {
    "duration": 39,
    "start_time": "2022-11-03T06:25:49.828Z"
   },
   {
    "duration": 44,
    "start_time": "2022-11-03T06:25:57.248Z"
   },
   {
    "duration": 61,
    "start_time": "2022-11-03T06:26:02.453Z"
   },
   {
    "duration": 73,
    "start_time": "2022-11-03T06:27:30.910Z"
   },
   {
    "duration": 83,
    "start_time": "2022-11-03T06:27:49.599Z"
   },
   {
    "duration": 88,
    "start_time": "2022-11-03T06:27:58.326Z"
   },
   {
    "duration": 47,
    "start_time": "2022-11-03T06:28:18.939Z"
   },
   {
    "duration": 25,
    "start_time": "2022-11-03T06:30:14.507Z"
   },
   {
    "duration": 46,
    "start_time": "2022-11-03T08:03:04.036Z"
   },
   {
    "duration": 175,
    "start_time": "2022-11-03T08:05:25.011Z"
   },
   {
    "duration": 173,
    "start_time": "2022-11-03T08:05:40.183Z"
   },
   {
    "duration": 714,
    "start_time": "2022-11-03T09:52:10.724Z"
   },
   {
    "duration": 14,
    "start_time": "2022-11-03T09:52:11.440Z"
   },
   {
    "duration": 2040,
    "start_time": "2022-11-03T09:52:11.456Z"
   },
   {
    "duration": 9,
    "start_time": "2022-11-03T09:52:13.499Z"
   },
   {
    "duration": 390,
    "start_time": "2022-11-03T09:52:13.510Z"
   },
   {
    "duration": 30,
    "start_time": "2022-11-03T09:52:13.902Z"
   },
   {
    "duration": 31,
    "start_time": "2022-11-03T09:52:13.934Z"
   },
   {
    "duration": 177,
    "start_time": "2022-11-03T09:52:13.966Z"
   },
   {
    "duration": 8,
    "start_time": "2022-11-03T09:52:14.145Z"
   },
   {
    "duration": 131,
    "start_time": "2022-11-03T09:52:14.155Z"
   },
   {
    "duration": 113,
    "start_time": "2022-11-03T09:52:14.288Z"
   },
   {
    "duration": 200,
    "start_time": "2022-11-03T09:52:14.403Z"
   },
   {
    "duration": 122,
    "start_time": "2022-11-03T09:52:14.605Z"
   },
   {
    "duration": 128,
    "start_time": "2022-11-03T09:52:14.729Z"
   },
   {
    "duration": 133,
    "start_time": "2022-11-03T09:52:14.859Z"
   },
   {
    "duration": 20,
    "start_time": "2022-11-03T09:52:14.993Z"
   },
   {
    "duration": 416,
    "start_time": "2022-11-03T09:52:15.015Z"
   },
   {
    "duration": 221,
    "start_time": "2022-11-03T09:52:15.432Z"
   },
   {
    "duration": 198,
    "start_time": "2022-11-03T09:52:15.655Z"
   },
   {
    "duration": 200,
    "start_time": "2022-11-03T09:52:15.855Z"
   },
   {
    "duration": 200,
    "start_time": "2022-11-03T09:52:16.057Z"
   },
   {
    "duration": 229,
    "start_time": "2022-11-03T09:52:16.258Z"
   },
   {
    "duration": 203,
    "start_time": "2022-11-03T09:52:16.489Z"
   },
   {
    "duration": 204,
    "start_time": "2022-11-03T09:52:16.694Z"
   },
   {
    "duration": 205,
    "start_time": "2022-11-03T09:52:16.899Z"
   },
   {
    "duration": 181,
    "start_time": "2022-11-03T09:52:17.105Z"
   },
   {
    "duration": 156,
    "start_time": "2022-11-03T09:52:17.288Z"
   },
   {
    "duration": 162,
    "start_time": "2022-11-03T09:52:17.448Z"
   },
   {
    "duration": 181,
    "start_time": "2022-11-03T09:52:17.611Z"
   },
   {
    "duration": 163,
    "start_time": "2022-11-03T09:52:17.794Z"
   },
   {
    "duration": 163,
    "start_time": "2022-11-03T09:52:17.958Z"
   },
   {
    "duration": 336,
    "start_time": "2022-11-03T09:52:18.123Z"
   },
   {
    "duration": 126,
    "start_time": "2022-11-03T09:52:18.460Z"
   },
   {
    "duration": 157,
    "start_time": "2022-11-03T09:52:18.588Z"
   },
   {
    "duration": 185,
    "start_time": "2022-11-03T09:52:18.747Z"
   },
   {
    "duration": 187,
    "start_time": "2022-11-03T09:52:18.934Z"
   },
   {
    "duration": 177,
    "start_time": "2022-11-03T09:52:19.122Z"
   },
   {
    "duration": 148,
    "start_time": "2022-11-03T09:52:19.300Z"
   },
   {
    "duration": 193,
    "start_time": "2022-11-03T09:52:19.450Z"
   },
   {
    "duration": 167,
    "start_time": "2022-11-03T09:52:19.645Z"
   },
   {
    "duration": 168,
    "start_time": "2022-11-03T09:52:19.813Z"
   },
   {
    "duration": 23,
    "start_time": "2022-11-03T09:52:19.982Z"
   },
   {
    "duration": 186,
    "start_time": "2022-11-03T09:52:20.007Z"
   },
   {
    "duration": 908,
    "start_time": "2022-11-03T11:31:53.993Z"
   },
   {
    "duration": 14,
    "start_time": "2022-11-03T11:31:54.902Z"
   },
   {
    "duration": 1827,
    "start_time": "2022-11-03T11:31:54.917Z"
   },
   {
    "duration": 8,
    "start_time": "2022-11-03T11:31:56.746Z"
   },
   {
    "duration": 401,
    "start_time": "2022-11-03T11:31:56.756Z"
   },
   {
    "duration": 25,
    "start_time": "2022-11-03T11:31:57.159Z"
   },
   {
    "duration": 26,
    "start_time": "2022-11-03T11:31:57.186Z"
   },
   {
    "duration": 183,
    "start_time": "2022-11-03T11:31:57.214Z"
   },
   {
    "duration": 7,
    "start_time": "2022-11-03T11:31:57.399Z"
   },
   {
    "duration": 161,
    "start_time": "2022-11-03T11:31:57.410Z"
   },
   {
    "duration": 206,
    "start_time": "2022-11-03T11:31:57.576Z"
   },
   {
    "duration": 126,
    "start_time": "2022-11-03T11:31:57.784Z"
   },
   {
    "duration": 119,
    "start_time": "2022-11-03T11:31:57.911Z"
   },
   {
    "duration": 132,
    "start_time": "2022-11-03T11:31:58.032Z"
   },
   {
    "duration": 112,
    "start_time": "2022-11-03T11:31:58.165Z"
   },
   {
    "duration": 18,
    "start_time": "2022-11-03T11:31:58.278Z"
   },
   {
    "duration": 342,
    "start_time": "2022-11-03T11:31:58.297Z"
   },
   {
    "duration": 188,
    "start_time": "2022-11-03T11:31:58.640Z"
   },
   {
    "duration": 177,
    "start_time": "2022-11-03T11:31:58.830Z"
   },
   {
    "duration": 192,
    "start_time": "2022-11-03T11:31:59.009Z"
   },
   {
    "duration": 240,
    "start_time": "2022-11-03T11:31:59.203Z"
   },
   {
    "duration": 141,
    "start_time": "2022-11-03T11:31:59.444Z"
   },
   {
    "duration": 174,
    "start_time": "2022-11-03T11:31:59.587Z"
   },
   {
    "duration": 169,
    "start_time": "2022-11-03T11:31:59.762Z"
   },
   {
    "duration": 148,
    "start_time": "2022-11-03T11:31:59.932Z"
   },
   {
    "duration": 157,
    "start_time": "2022-11-03T11:32:00.081Z"
   },
   {
    "duration": 148,
    "start_time": "2022-11-03T11:32:00.240Z"
   },
   {
    "duration": 166,
    "start_time": "2022-11-03T11:32:00.391Z"
   },
   {
    "duration": 167,
    "start_time": "2022-11-03T11:32:00.558Z"
   },
   {
    "duration": 152,
    "start_time": "2022-11-03T11:32:00.727Z"
   },
   {
    "duration": 140,
    "start_time": "2022-11-03T11:32:00.880Z"
   },
   {
    "duration": 310,
    "start_time": "2022-11-03T11:32:01.022Z"
   },
   {
    "duration": 104,
    "start_time": "2022-11-03T11:32:01.333Z"
   },
   {
    "duration": 139,
    "start_time": "2022-11-03T11:32:01.439Z"
   },
   {
    "duration": 160,
    "start_time": "2022-11-03T11:32:01.579Z"
   },
   {
    "duration": 155,
    "start_time": "2022-11-03T11:32:01.741Z"
   },
   {
    "duration": 154,
    "start_time": "2022-11-03T11:32:01.897Z"
   },
   {
    "duration": 125,
    "start_time": "2022-11-03T11:32:02.052Z"
   },
   {
    "duration": 161,
    "start_time": "2022-11-03T11:32:02.178Z"
   },
   {
    "duration": 143,
    "start_time": "2022-11-03T11:32:02.340Z"
   },
   {
    "duration": 151,
    "start_time": "2022-11-03T11:32:02.484Z"
   },
   {
    "duration": 27,
    "start_time": "2022-11-03T11:32:02.636Z"
   },
   {
    "duration": 181,
    "start_time": "2022-11-03T11:32:02.664Z"
   }
  ],
  "kernelspec": {
   "display_name": "Python 3",
   "language": "python",
   "name": "python3"
  },
  "language_info": {
   "codemirror_mode": {
    "name": "ipython",
    "version": 3
   },
   "file_extension": ".py",
   "mimetype": "text/x-python",
   "name": "python",
   "nbconvert_exporter": "python",
   "pygments_lexer": "ipython3",
   "version": "3.8.5"
  },
  "toc": {
   "base_numbering": 1,
   "nav_menu": {},
   "number_sections": true,
   "sideBar": true,
   "skip_h1_title": true,
   "title_cell": "Table of Contents",
   "title_sidebar": "Contents",
   "toc_cell": false,
   "toc_position": {
    "height": "calc(100% - 180px)",
    "left": "10px",
    "top": "150px",
    "width": "323.556px"
   },
   "toc_section_display": true,
   "toc_window_display": false
  }
 },
 "nbformat": 4,
 "nbformat_minor": 2
}
